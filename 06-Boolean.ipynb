{
 "cells": [
  {
   "cell_type": "markdown",
   "id": "6dfbbcab-717c-4baf-a388-94785d83851c",
   "metadata": {},
   "source": [
    "# Boolean"
   ]
  },
  {
   "cell_type": "markdown",
   "id": "9b83315f-35aa-4ac9-a34e-a916bdea4150",
   "metadata": {},
   "source": [
    "sadece 0 veya 1 ; True veya False degerini alır!!!"
   ]
  },
  {
   "cell_type": "code",
   "execution_count": 2,
   "id": "3261c354-9822-4751-a742-619a3d4316dd",
   "metadata": {},
   "outputs": [],
   "source": [
    "benimBoolean = True"
   ]
  },
  {
   "cell_type": "code",
   "execution_count": 3,
   "id": "7f8f09d5-61a0-4828-8dda-de4496efd7ff",
   "metadata": {},
   "outputs": [
    {
     "data": {
      "text/plain": [
       "True"
      ]
     },
     "execution_count": 3,
     "metadata": {},
     "output_type": "execute_result"
    }
   ],
   "source": [
    "benimBoolean"
   ]
  },
  {
   "cell_type": "code",
   "execution_count": 4,
   "id": "c1dc32fb-38b9-467c-bae5-66400ffa68e3",
   "metadata": {},
   "outputs": [
    {
     "data": {
      "text/plain": [
       "bool"
      ]
     },
     "execution_count": 4,
     "metadata": {},
     "output_type": "execute_result"
    }
   ],
   "source": [
    "type(benimBoolean)"
   ]
  },
  {
   "cell_type": "code",
   "execution_count": 5,
   "id": "ea9ea5d7-ee11-4ae1-a681-4b6332423655",
   "metadata": {},
   "outputs": [],
   "source": [
    "benimBoolean2 = False "
   ]
  },
  {
   "cell_type": "code",
   "execution_count": 6,
   "id": "f8d6bc9e-9606-4c54-8933-cb9d0998fba3",
   "metadata": {},
   "outputs": [],
   "source": [
    "benimBoolean3 = 0"
   ]
  },
  {
   "cell_type": "code",
   "execution_count": 7,
   "id": "7cf44760-7f5a-43ae-bc00-c6f2d889fa42",
   "metadata": {},
   "outputs": [
    {
     "data": {
      "text/plain": [
       "0"
      ]
     },
     "execution_count": 7,
     "metadata": {},
     "output_type": "execute_result"
    }
   ],
   "source": [
    "benimBoolean3"
   ]
  },
  {
   "cell_type": "code",
   "execution_count": 8,
   "id": "a24d5c28-4e8d-4ca3-ac4e-883c0af00fae",
   "metadata": {},
   "outputs": [
    {
     "data": {
      "text/plain": [
       "True"
      ]
     },
     "execution_count": 8,
     "metadata": {},
     "output_type": "execute_result"
    }
   ],
   "source": [
    "10 > 5"
   ]
  },
  {
   "cell_type": "code",
   "execution_count": 9,
   "id": "85a6f155-1e3f-4cb7-ad5f-25a84b6a09a0",
   "metadata": {},
   "outputs": [
    {
     "data": {
      "text/plain": [
       "True"
      ]
     },
     "execution_count": 9,
     "metadata": {},
     "output_type": "execute_result"
    }
   ],
   "source": [
    "1*0 < 5"
   ]
  },
  {
   "cell_type": "code",
   "execution_count": 10,
   "id": "27b70e16-b0c7-43d2-ab31-ab048c4162ef",
   "metadata": {},
   "outputs": [
    {
     "data": {
      "text/plain": [
       "False"
      ]
     },
     "execution_count": 10,
     "metadata": {},
     "output_type": "execute_result"
    }
   ],
   "source": [
    "10 < 5 "
   ]
  },
  {
   "cell_type": "code",
   "execution_count": 11,
   "id": "8c1d8a34-a454-4cdf-a5cc-408e822434c8",
   "metadata": {},
   "outputs": [],
   "source": [
    "listem = [5000, 10000, 3000, 1000, 2000, 4000]"
   ]
  },
  {
   "cell_type": "code",
   "execution_count": 12,
   "id": "869191e7-6dc1-4262-9e00-388d5a2d7ae0",
   "metadata": {},
   "outputs": [
    {
     "data": {
      "text/plain": [
       "6"
      ]
     },
     "execution_count": 12,
     "metadata": {},
     "output_type": "execute_result"
    }
   ],
   "source": [
    "len(listem)"
   ]
  },
  {
   "cell_type": "code",
   "execution_count": 14,
   "id": "33c8658c-0fe8-478b-852f-4d26634f6376",
   "metadata": {},
   "outputs": [
    {
     "data": {
      "text/plain": [
       "<function sum(iterable, /, start=0)>"
      ]
     },
     "execution_count": 14,
     "metadata": {},
     "output_type": "execute_result"
    }
   ],
   "source": [
    "sum"
   ]
  },
  {
   "cell_type": "code",
   "execution_count": 15,
   "id": "65973ae0-398b-4e2f-bad9-413b86024adc",
   "metadata": {},
   "outputs": [
    {
     "data": {
      "text/plain": [
       "25000"
      ]
     },
     "execution_count": 15,
     "metadata": {},
     "output_type": "execute_result"
    }
   ],
   "source": [
    "sum(listem)"
   ]
  },
  {
   "cell_type": "code",
   "execution_count": 16,
   "id": "8ac92702-bd7f-4b58-ba56-00f609c66825",
   "metadata": {},
   "outputs": [],
   "source": [
    "average = sum(listem)/len(listem)"
   ]
  },
  {
   "cell_type": "code",
   "execution_count": 17,
   "id": "1901785e-ba04-44a8-a21e-27739e028300",
   "metadata": {},
   "outputs": [
    {
     "data": {
      "text/plain": [
       "4166.666666666667"
      ]
     },
     "execution_count": 17,
     "metadata": {},
     "output_type": "execute_result"
    }
   ],
   "source": [
    "average"
   ]
  },
  {
   "cell_type": "code",
   "execution_count": 21,
   "id": "9bc4f599-dac9-4b67-ae2b-cbb7ff198c4b",
   "metadata": {},
   "outputs": [
    {
     "data": {
      "text/plain": [
       "False"
      ]
     },
     "execution_count": 21,
     "metadata": {},
     "output_type": "execute_result"
    }
   ],
   "source": [
    "listem[3] > average"
   ]
  },
  {
   "cell_type": "code",
   "execution_count": 23,
   "id": "cefae0b9-624f-4e8c-b35b-f08a404ad1b6",
   "metadata": {},
   "outputs": [
    {
     "name": "stdin",
     "output_type": "stream",
     "text": [
      "Maas bilgisini gir: 6000\n"
     ]
    }
   ],
   "source": [
    "kullaniciMaas = input(\"Maas bilgisini gir:\")"
   ]
  },
  {
   "cell_type": "code",
   "execution_count": 25,
   "id": "08583b92-3f21-4782-bfda-560c520788bb",
   "metadata": {},
   "outputs": [],
   "source": [
    "intKullaniciMaas = int(kullaniciMaas)"
   ]
  },
  {
   "cell_type": "code",
   "execution_count": 26,
   "id": "645c8678-fac6-4301-a996-a94b819ce66a",
   "metadata": {},
   "outputs": [
    {
     "data": {
      "text/plain": [
       "True"
      ]
     },
     "execution_count": 26,
     "metadata": {},
     "output_type": "execute_result"
    }
   ],
   "source": [
    "intKullaniciMaas > average"
   ]
  },
  {
   "cell_type": "code",
   "execution_count": 3,
   "id": "fd22744c-685c-4a6e-9787-230c11af71fa",
   "metadata": {},
   "outputs": [],
   "source": [
    "x = 10\n",
    "y = 8"
   ]
  },
  {
   "cell_type": "code",
   "execution_count": 4,
   "id": "a1488fe2-8fda-457e-b007-63185779e237",
   "metadata": {},
   "outputs": [
    {
     "data": {
      "text/plain": [
       "True"
      ]
     },
     "execution_count": 4,
     "metadata": {},
     "output_type": "execute_result"
    }
   ],
   "source": [
    "x > y"
   ]
  },
  {
   "cell_type": "code",
   "execution_count": 5,
   "id": "38ba2ce7-3cc9-4827-994d-0dfbda8d9dd8",
   "metadata": {},
   "outputs": [
    {
     "data": {
      "text/plain": [
       "False"
      ]
     },
     "execution_count": 5,
     "metadata": {},
     "output_type": "execute_result"
    }
   ],
   "source": [
    "x < y"
   ]
  },
  {
   "cell_type": "code",
   "execution_count": 6,
   "id": "8233e0a9-f840-46cb-9fd9-d5552f3b8c37",
   "metadata": {},
   "outputs": [
    {
     "data": {
      "text/plain": [
       "True"
      ]
     },
     "execution_count": 6,
     "metadata": {},
     "output_type": "execute_result"
    }
   ],
   "source": [
    "x >= y"
   ]
  },
  {
   "cell_type": "code",
   "execution_count": 7,
   "id": "62429bf2-6fc2-48ab-9bca-d67510a069ff",
   "metadata": {},
   "outputs": [
    {
     "data": {
      "text/plain": [
       "True"
      ]
     },
     "execution_count": 7,
     "metadata": {},
     "output_type": "execute_result"
    }
   ],
   "source": [
    "9 >= 9"
   ]
  },
  {
   "cell_type": "code",
   "execution_count": 8,
   "id": "246c613b-881d-4f75-988b-e564658fa480",
   "metadata": {},
   "outputs": [
    {
     "data": {
      "text/plain": [
       "False"
      ]
     },
     "execution_count": 8,
     "metadata": {},
     "output_type": "execute_result"
    }
   ],
   "source": [
    "x <= y"
   ]
  },
  {
   "cell_type": "code",
   "execution_count": 11,
   "id": "244d3cb7-ce79-49d2-abff-ffdce535bfc9",
   "metadata": {},
   "outputs": [
    {
     "data": {
      "text/plain": [
       "True"
      ]
     },
     "execution_count": 11,
     "metadata": {},
     "output_type": "execute_result"
    }
   ],
   "source": [
    "2 <= 2"
   ]
  },
  {
   "cell_type": "code",
   "execution_count": 12,
   "id": "ee1e909c-556b-4547-91e8-2144931c9bb9",
   "metadata": {},
   "outputs": [
    {
     "data": {
      "text/plain": [
       "False"
      ]
     },
     "execution_count": 12,
     "metadata": {},
     "output_type": "execute_result"
    }
   ],
   "source": [
    "x == y"
   ]
  },
  {
   "cell_type": "code",
   "execution_count": 13,
   "id": "0808ca6c-019f-4bee-ab8b-3a8461e4a369",
   "metadata": {},
   "outputs": [],
   "source": [
    "x = y"
   ]
  },
  {
   "cell_type": "code",
   "execution_count": 14,
   "id": "3fb73b06-c898-4ff5-b1ba-27e6273d4a93",
   "metadata": {},
   "outputs": [
    {
     "data": {
      "text/plain": [
       "True"
      ]
     },
     "execution_count": 14,
     "metadata": {},
     "output_type": "execute_result"
    }
   ],
   "source": [
    "x == y"
   ]
  },
  {
   "cell_type": "code",
   "execution_count": 15,
   "id": "962ea132-c7d9-4a92-9955-6bf7a28e7632",
   "metadata": {},
   "outputs": [
    {
     "data": {
      "text/plain": [
       "False"
      ]
     },
     "execution_count": 15,
     "metadata": {},
     "output_type": "execute_result"
    }
   ],
   "source": [
    "x != y"
   ]
  },
  {
   "cell_type": "code",
   "execution_count": 16,
   "id": "fae14832-7447-42ec-8ea1-2e2b90006ae3",
   "metadata": {},
   "outputs": [
    {
     "data": {
      "text/plain": [
       "True"
      ]
     },
     "execution_count": 16,
     "metadata": {},
     "output_type": "execute_result"
    }
   ],
   "source": [
    "3 > 1 and 3 > 2"
   ]
  },
  {
   "cell_type": "code",
   "execution_count": 17,
   "id": "1cbf5529-e7bc-467d-b46d-75ad0991963d",
   "metadata": {},
   "outputs": [
    {
     "data": {
      "text/plain": [
       "False"
      ]
     },
     "execution_count": 17,
     "metadata": {},
     "output_type": "execute_result"
    }
   ],
   "source": [
    "3 > 1 and 3 > 4"
   ]
  },
  {
   "cell_type": "code",
   "execution_count": 18,
   "id": "7e99fa77-53b3-422e-a42b-2568b9fbe978",
   "metadata": {},
   "outputs": [
    {
     "data": {
      "text/plain": [
       "True"
      ]
     },
     "execution_count": 18,
     "metadata": {},
     "output_type": "execute_result"
    }
   ],
   "source": [
    "3 > 1 or 3 > 4"
   ]
  },
  {
   "cell_type": "code",
   "execution_count": 19,
   "id": "3377b4d3-c58d-4b5f-b01b-622fda12d204",
   "metadata": {},
   "outputs": [
    {
     "data": {
      "text/plain": [
       "False"
      ]
     },
     "execution_count": 19,
     "metadata": {},
     "output_type": "execute_result"
    }
   ],
   "source": [
    "3 > 5 or 2 >566"
   ]
  },
  {
   "cell_type": "code",
   "execution_count": 21,
   "id": "84d8d230-9d89-4dea-bd8b-67b20342a73b",
   "metadata": {},
   "outputs": [
    {
     "data": {
      "text/plain": [
       "False"
      ]
     },
     "execution_count": 21,
     "metadata": {},
     "output_type": "execute_result"
    }
   ],
   "source": [
    "not True  #not olumsuz yapar"
   ]
  },
  {
   "cell_type": "code",
   "execution_count": 22,
   "id": "fbc550e1-5c81-4b1b-a07f-d2971ab6a54b",
   "metadata": {},
   "outputs": [
    {
     "data": {
      "text/plain": [
       "True"
      ]
     },
     "execution_count": 22,
     "metadata": {},
     "output_type": "execute_result"
    }
   ],
   "source": [
    "not 5 == 4"
   ]
  },
  {
   "cell_type": "code",
   "execution_count": null,
   "id": "dc4e2e06-3855-4c6a-845b-3daf890b863e",
   "metadata": {},
   "outputs": [],
   "source": []
  }
 ],
 "metadata": {
  "kernelspec": {
   "display_name": "Python 3 (ipykernel)",
   "language": "python",
   "name": "python3"
  },
  "language_info": {
   "codemirror_mode": {
    "name": "ipython",
    "version": 3
   },
   "file_extension": ".py",
   "mimetype": "text/x-python",
   "name": "python",
   "nbconvert_exporter": "python",
   "pygments_lexer": "ipython3",
   "version": "3.13.0"
  }
 },
 "nbformat": 4,
 "nbformat_minor": 5
}
