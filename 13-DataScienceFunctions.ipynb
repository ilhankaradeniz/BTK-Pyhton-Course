{
 "cells": [
  {
   "cell_type": "markdown",
   "id": "9c824ad3-dec1-4835-8c5f-4b83934c4246",
   "metadata": {},
   "source": [
    "# Data Science Useful Functions"
   ]
  },
  {
   "cell_type": "code",
   "execution_count": 3,
   "id": "2022b365-2adc-4c5a-839c-0b355075e073",
   "metadata": {},
   "outputs": [],
   "source": [
    "def bolmeIslemi(numara):\n",
    "    return numara / 2"
   ]
  },
  {
   "cell_type": "code",
   "execution_count": 4,
   "id": "bb846644-0f8b-4c3a-8368-5346e8d3c480",
   "metadata": {},
   "outputs": [
    {
     "data": {
      "text/plain": [
       "10.0"
      ]
     },
     "execution_count": 4,
     "metadata": {},
     "output_type": "execute_result"
    }
   ],
   "source": [
    "bolmeIslemi(20)"
   ]
  },
  {
   "cell_type": "code",
   "execution_count": 5,
   "id": "cd37bd8c-3426-4f06-8094-b88688762dda",
   "metadata": {},
   "outputs": [],
   "source": [
    "benimListem = [1, 2, 3, 4, 5, 6, 7, 8, 9, 10]"
   ]
  },
  {
   "cell_type": "code",
   "execution_count": 9,
   "id": "72447f85-a0f3-4847-beb1-e40a9797f2c7",
   "metadata": {},
   "outputs": [
    {
     "name": "stdout",
     "output_type": "stream",
     "text": [
      "[0.5, 1.0, 1.5, 2.0, 2.5, 3.0, 3.5, 4.0, 4.5, 5.0]\n"
     ]
    }
   ],
   "source": [
    "yeniListe = []\n",
    "\n",
    "for eleman in benimListem:\n",
    "     yeniListe.append(bolmeIslemi(eleman))\n",
    "\n",
    "print(yeniListe)\n"
   ]
  },
  {
   "cell_type": "markdown",
   "id": "e34dbd07-e7c3-42f5-b5f0-ce5a62e45602",
   "metadata": {},
   "source": [
    "# map()"
   ]
  },
  {
   "cell_type": "code",
   "execution_count": 10,
   "id": "9e83bf61-188e-4b7d-9e42-507016d52d07",
   "metadata": {},
   "outputs": [
    {
     "data": {
      "text/plain": [
       "<map at 0x1058be920>"
      ]
     },
     "execution_count": 10,
     "metadata": {},
     "output_type": "execute_result"
    }
   ],
   "source": [
    "map(bolmeIslemi, benimListem)"
   ]
  },
  {
   "cell_type": "code",
   "execution_count": 11,
   "id": "7f84141f-24f6-4504-b80d-1940e4c7fa45",
   "metadata": {},
   "outputs": [
    {
     "data": {
      "text/plain": [
       "[0.5, 1.0, 1.5, 2.0, 2.5, 3.0, 3.5, 4.0, 4.5, 5.0]"
      ]
     },
     "execution_count": 11,
     "metadata": {},
     "output_type": "execute_result"
    }
   ],
   "source": [
    "list(map(bolmeIslemi, benimListem))"
   ]
  },
  {
   "cell_type": "code",
   "execution_count": 12,
   "id": "4b21802a-65b2-4bf4-9663-b3ddc96a3d27",
   "metadata": {},
   "outputs": [],
   "source": [
    "def kontrolFonksiyonu(string):\n",
    "    return \"a\" in string"
   ]
  },
  {
   "cell_type": "code",
   "execution_count": 16,
   "id": "f9098c77-4259-47c4-9016-1bde03da013f",
   "metadata": {},
   "outputs": [
    {
     "data": {
      "text/plain": [
       "True"
      ]
     },
     "execution_count": 16,
     "metadata": {},
     "output_type": "execute_result"
    }
   ],
   "source": [
    "kontrolFonksiyonu(\"ilhan\")"
   ]
  },
  {
   "cell_type": "code",
   "execution_count": 15,
   "id": "641610e9-1358-44f5-92cf-ff327ca80da0",
   "metadata": {},
   "outputs": [
    {
     "data": {
      "text/plain": [
       "True"
      ]
     },
     "execution_count": 15,
     "metadata": {},
     "output_type": "execute_result"
    }
   ],
   "source": [
    "\"a\" in \"ilhan\""
   ]
  },
  {
   "cell_type": "code",
   "execution_count": 17,
   "id": "8304b220-d0d4-402b-bb0f-5159af3beca9",
   "metadata": {},
   "outputs": [
    {
     "data": {
      "text/plain": [
       "False"
      ]
     },
     "execution_count": 17,
     "metadata": {},
     "output_type": "execute_result"
    }
   ],
   "source": [
    "kontrolFonksiyonu(\"zeynep\")"
   ]
  },
  {
   "cell_type": "code",
   "execution_count": 18,
   "id": "e0da4a52-b2ff-423b-90c1-08782f8905c4",
   "metadata": {},
   "outputs": [],
   "source": [
    "stringListesi = [\"ilhan\", \"kaan\", \"atlas\", \"zeynep\", \"mehmet\", \"ahmet\", \"levent\"]"
   ]
  },
  {
   "cell_type": "code",
   "execution_count": 21,
   "id": "0c9a8b6c-9002-4d2d-bf1c-148ad82e7f4e",
   "metadata": {},
   "outputs": [],
   "source": [
    "sonucListesi = list(map(kontrolFonksiyonu, stringListesi))"
   ]
  },
  {
   "cell_type": "code",
   "execution_count": 22,
   "id": "648c291a-966d-41f3-98a9-1e464e379ae7",
   "metadata": {},
   "outputs": [
    {
     "data": {
      "text/plain": [
       "[True, True, True, False, False, True, False]"
      ]
     },
     "execution_count": 22,
     "metadata": {},
     "output_type": "execute_result"
    }
   ],
   "source": [
    "sonucListesi"
   ]
  },
  {
   "cell_type": "code",
   "execution_count": 23,
   "id": "83707e85-b096-47f7-8be3-8e6a988ff98d",
   "metadata": {},
   "outputs": [
    {
     "data": {
      "text/plain": [
       "3"
      ]
     },
     "execution_count": 23,
     "metadata": {},
     "output_type": "execute_result"
    }
   ],
   "source": [
    "sonucListesi.count(False)"
   ]
  },
  {
   "cell_type": "markdown",
   "id": "822264fe-75e1-4d7f-9f78-51ece7c58685",
   "metadata": {},
   "source": [
    "# filter()"
   ]
  },
  {
   "cell_type": "code",
   "execution_count": 25,
   "id": "a311c149-056e-43da-a806-f22ae2c7c3b4",
   "metadata": {},
   "outputs": [
    {
     "data": {
      "text/plain": [
       "['ilhan', 'kaan', 'atlas', 'ahmet']"
      ]
     },
     "execution_count": 25,
     "metadata": {},
     "output_type": "execute_result"
    }
   ],
   "source": [
    "list(filter(kontrolFonksiyonu, stringListesi))     #durumu true olan elemanları ayırmamızı sağlar"
   ]
  },
  {
   "cell_type": "markdown",
   "id": "f4242aef-a111-48c8-98b0-acd9fcc9015f",
   "metadata": {},
   "source": [
    "# lambda()"
   ]
  },
  {
   "cell_type": "code",
   "execution_count": 26,
   "id": "487918be-b7c7-4da7-bfb0-b23f8f579808",
   "metadata": {},
   "outputs": [],
   "source": [
    "carpma = lambda numara : numara * 3"
   ]
  },
  {
   "cell_type": "code",
   "execution_count": 30,
   "id": "a993e6ff-c674-414d-b6cc-7373c281296c",
   "metadata": {},
   "outputs": [
    {
     "data": {
      "text/plain": [
       "36"
      ]
     },
     "execution_count": 30,
     "metadata": {},
     "output_type": "execute_result"
    }
   ],
   "source": [
    "carpma(12)"
   ]
  },
  {
   "cell_type": "code",
   "execution_count": 31,
   "id": "1873d45b-ee9e-43d6-9f69-02dd1b7b62d3",
   "metadata": {},
   "outputs": [],
   "source": [
    "circle_area = lambda radius : radius * radius * 3.14"
   ]
  },
  {
   "cell_type": "code",
   "execution_count": 32,
   "id": "609000b8-ea23-40a6-b6ae-52f849519c7b",
   "metadata": {},
   "outputs": [
    {
     "data": {
      "text/plain": [
       "28.26"
      ]
     },
     "execution_count": 32,
     "metadata": {},
     "output_type": "execute_result"
    }
   ],
   "source": [
    "circle_area(3)"
   ]
  },
  {
   "cell_type": "code",
   "execution_count": 33,
   "id": "968eb3b5-ff49-4854-89ed-2cac8dfa5a7e",
   "metadata": {},
   "outputs": [],
   "source": [
    "ornekListesi = [10, 20, 30]"
   ]
  },
  {
   "cell_type": "code",
   "execution_count": 34,
   "id": "f14a289a-b1a8-47a4-88e7-322f3aec06d6",
   "metadata": {},
   "outputs": [
    {
     "data": {
      "text/plain": [
       "[40, 80, 120]"
      ]
     },
     "execution_count": 34,
     "metadata": {},
     "output_type": "execute_result"
    }
   ],
   "source": [
    "list(map(lambda numara : numara * 4, ornekListesi))"
   ]
  },
  {
   "cell_type": "code",
   "execution_count": null,
   "id": "3e41a0de-bd2e-4ca6-b086-e4d8ada9c89e",
   "metadata": {},
   "outputs": [],
   "source": []
  }
 ],
 "metadata": {
  "kernelspec": {
   "display_name": "Python 3 (ipykernel)",
   "language": "python",
   "name": "python3"
  },
  "language_info": {
   "codemirror_mode": {
    "name": "ipython",
    "version": 3
   },
   "file_extension": ".py",
   "mimetype": "text/x-python",
   "name": "python",
   "nbconvert_exporter": "python",
   "pygments_lexer": "ipython3",
   "version": "3.13.0"
  }
 },
 "nbformat": 4,
 "nbformat_minor": 5
}
