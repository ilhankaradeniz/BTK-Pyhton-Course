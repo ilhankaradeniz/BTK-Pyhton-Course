{
 "cells": [
  {
   "cell_type": "code",
   "execution_count": 1,
   "id": "773eb091-13b9-4d48-9502-a4dce932e15c",
   "metadata": {},
   "outputs": [],
   "source": [
    "import numpy as np"
   ]
  },
  {
   "cell_type": "code",
   "execution_count": 2,
   "id": "d8f80051-fcc5-44f5-b97f-3b34a8c57f6d",
   "metadata": {},
   "outputs": [],
   "source": [
    "myArray = np.arange(0, 15)"
   ]
  },
  {
   "cell_type": "code",
   "execution_count": 3,
   "id": "fa9ce2f8-b70e-4dfe-b6d3-6d863bc81750",
   "metadata": {},
   "outputs": [
    {
     "data": {
      "text/plain": [
       "array([ 0,  1,  2,  3,  4,  5,  6,  7,  8,  9, 10, 11, 12, 13, 14])"
      ]
     },
     "execution_count": 3,
     "metadata": {},
     "output_type": "execute_result"
    }
   ],
   "source": [
    "myArray"
   ]
  },
  {
   "cell_type": "code",
   "execution_count": 5,
   "id": "2396e078-7041-46b7-948e-50331ed97c6b",
   "metadata": {},
   "outputs": [
    {
     "name": "stdout",
     "output_type": "stream",
     "text": [
      "5\n"
     ]
    }
   ],
   "source": [
    "print(myArray[5])"
   ]
  },
  {
   "cell_type": "code",
   "execution_count": 7,
   "id": "ac98a0f5-2672-48ae-8e82-302bcbb7c42e",
   "metadata": {},
   "outputs": [
    {
     "data": {
      "text/plain": [
       "array([3, 4])"
      ]
     },
     "execution_count": 7,
     "metadata": {},
     "output_type": "execute_result"
    }
   ],
   "source": [
    "myArray[3:5]"
   ]
  },
  {
   "cell_type": "code",
   "execution_count": 8,
   "id": "5f80c1db-2521-4c30-9ad0-603d4b8ec2d7",
   "metadata": {},
   "outputs": [
    {
     "data": {
      "text/plain": [
       "array([3, 4, 5, 6, 7])"
      ]
     },
     "execution_count": 8,
     "metadata": {},
     "output_type": "execute_result"
    }
   ],
   "source": [
    "myArray[3:8]"
   ]
  },
  {
   "cell_type": "code",
   "execution_count": 11,
   "id": "228881ba-53a5-405a-8f83-23210cf5cadf",
   "metadata": {},
   "outputs": [],
   "source": [
    "myArray[3:8] = -5    #3 ve 8inci index arası -5 değerine eşitlendi"
   ]
  },
  {
   "cell_type": "code",
   "execution_count": 12,
   "id": "01792de7-a074-4cd7-9b9c-461e762774c9",
   "metadata": {},
   "outputs": [
    {
     "data": {
      "text/plain": [
       "array([ 0,  1,  2, -5, -5, -5, -5, -5,  8,  9, 10, 11, 12, 13, 14])"
      ]
     },
     "execution_count": 12,
     "metadata": {},
     "output_type": "execute_result"
    }
   ],
   "source": [
    "myArray"
   ]
  },
  {
   "cell_type": "code",
   "execution_count": 13,
   "id": "0dcaf572-2238-4961-8bcb-37c4ee49f36b",
   "metadata": {},
   "outputs": [],
   "source": [
    "secondArray = np.arange(0, 24)"
   ]
  },
  {
   "cell_type": "code",
   "execution_count": 14,
   "id": "39f4faa6-47ef-48b9-934c-9a833e2e256b",
   "metadata": {},
   "outputs": [
    {
     "data": {
      "text/plain": [
       "array([ 0,  1,  2,  3,  4,  5,  6,  7,  8,  9, 10, 11, 12, 13, 14, 15, 16,\n",
       "       17, 18, 19, 20, 21, 22, 23])"
      ]
     },
     "execution_count": 14,
     "metadata": {},
     "output_type": "execute_result"
    }
   ],
   "source": [
    "secondArray"
   ]
  },
  {
   "cell_type": "code",
   "execution_count": 15,
   "id": "6111a196-d9fa-4428-abc0-44097e001b06",
   "metadata": {},
   "outputs": [],
   "source": [
    "slicingArray = secondArray[4:9]"
   ]
  },
  {
   "cell_type": "code",
   "execution_count": 16,
   "id": "f90b5d4f-a3e4-4078-9b29-eacd61cb7d55",
   "metadata": {},
   "outputs": [
    {
     "data": {
      "text/plain": [
       "array([4, 5, 6, 7, 8])"
      ]
     },
     "execution_count": 16,
     "metadata": {},
     "output_type": "execute_result"
    }
   ],
   "source": [
    "slicingArray"
   ]
  },
  {
   "cell_type": "code",
   "execution_count": 19,
   "id": "115c9e9f-01eb-48e6-a4ee-ffab320282ff",
   "metadata": {},
   "outputs": [],
   "source": [
    "slicingArray[:] = 700"
   ]
  },
  {
   "cell_type": "code",
   "execution_count": 20,
   "id": "effe12d8-59a7-4036-bced-9b7e34bedde9",
   "metadata": {},
   "outputs": [
    {
     "data": {
      "text/plain": [
       "array([700, 700, 700, 700, 700])"
      ]
     },
     "execution_count": 20,
     "metadata": {},
     "output_type": "execute_result"
    }
   ],
   "source": [
    "slicingArray"
   ]
  },
  {
   "cell_type": "code",
   "execution_count": 23,
   "id": "53952197-fcdb-42bc-9821-6c2900e1aa1e",
   "metadata": {},
   "outputs": [
    {
     "data": {
      "text/plain": [
       "array([  0,   1,   2,   3, 700, 700, 700, 700, 700,   9,  10,  11,  12,\n",
       "        13,  14,  15,  16,  17,  18,  19,  20,  21,  22,  23])"
      ]
     },
     "execution_count": 23,
     "metadata": {},
     "output_type": "execute_result"
    }
   ],
   "source": [
    "secondArray    #oluşturdugumuz ikinci dizide yaptıgım değişiklikler, ikinci diziye kaynak oluşturduğum dizinin içinde de değişiklik yapar"
   ]
  },
  {
   "cell_type": "code",
   "execution_count": 39,
   "id": "a0c66733-d0f5-4678-9bec-85faab366cb1",
   "metadata": {},
   "outputs": [],
   "source": [
    "exampleArray = np.arange(0, 15)"
   ]
  },
  {
   "cell_type": "code",
   "execution_count": 40,
   "id": "e5a9c703-af4e-4b9b-8511-c1ed5a9ebcad",
   "metadata": {},
   "outputs": [
    {
     "data": {
      "text/plain": [
       "array([ 0,  1,  2,  3,  4,  5,  6,  7,  8,  9, 10, 11, 12, 13, 14])"
      ]
     },
     "execution_count": 40,
     "metadata": {},
     "output_type": "execute_result"
    }
   ],
   "source": [
    "exampleArray"
   ]
  },
  {
   "cell_type": "code",
   "execution_count": 41,
   "id": "843224e3-46e4-401f-adfd-b92762900d39",
   "metadata": {},
   "outputs": [],
   "source": [
    "exampleArrayCopy = exampleArray.copy()"
   ]
  },
  {
   "cell_type": "code",
   "execution_count": 42,
   "id": "a9975d7f-74bc-4996-8d86-538784e9e5a2",
   "metadata": {},
   "outputs": [
    {
     "data": {
      "text/plain": [
       "array([ 0,  1,  2,  3,  4,  5,  6,  7,  8,  9, 10, 11, 12, 13, 14])"
      ]
     },
     "execution_count": 42,
     "metadata": {},
     "output_type": "execute_result"
    }
   ],
   "source": [
    "exampleArrayCopy"
   ]
  },
  {
   "cell_type": "code",
   "execution_count": 43,
   "id": "902d7ff9-c05b-46b0-bdba-46ff53e3486c",
   "metadata": {},
   "outputs": [
    {
     "name": "stdout",
     "output_type": "stream",
     "text": [
      "[232 232 232]\n",
      "[  0   1   2 232 232 232   6   7   8   9  10  11  12  13  14]\n",
      "[ 0  1  2  3  4  5  6  7  8  9 10 11 12 13 14]\n"
     ]
    }
   ],
   "source": [
    "exampleArrayCopySlicing = exampleArrayCopy[3:6]\n",
    "exampleArrayCopySlicing[:] = 232\n",
    "print(exampleArrayCopySlicing)\n",
    "print(exampleArrayCopy)\n",
    "print(exampleArray)"
   ]
  },
  {
   "cell_type": "markdown",
   "id": "f4596f85-2fdb-4928-a533-643da25e0e9a",
   "metadata": {},
   "source": [
    "# Matrix"
   ]
  },
  {
   "cell_type": "code",
   "execution_count": 44,
   "id": "b0c578f8-3d37-494b-99e3-b9b5fc53fc3e",
   "metadata": {},
   "outputs": [],
   "source": [
    "myList = [[10, 20, 30], [20, 30, 40], [40, 50 ,60]]"
   ]
  },
  {
   "cell_type": "code",
   "execution_count": 45,
   "id": "82112606-fe34-4de5-a314-131b13da0218",
   "metadata": {},
   "outputs": [],
   "source": [
    "exampleMatrix = np.array(myList)"
   ]
  },
  {
   "cell_type": "code",
   "execution_count": 46,
   "id": "8892aa76-0fdc-4d2c-90e0-68b49ad696d7",
   "metadata": {},
   "outputs": [
    {
     "data": {
      "text/plain": [
       "array([[10, 20, 30],\n",
       "       [20, 30, 40],\n",
       "       [40, 50, 60]])"
      ]
     },
     "execution_count": 46,
     "metadata": {},
     "output_type": "execute_result"
    }
   ],
   "source": [
    "exampleMatrix"
   ]
  },
  {
   "cell_type": "code",
   "execution_count": 49,
   "id": "f1870c87-abac-4bfb-ac1e-3ca4e31450c7",
   "metadata": {},
   "outputs": [
    {
     "name": "stdout",
     "output_type": "stream",
     "text": [
      "30\n"
     ]
    }
   ],
   "source": [
    "print(exampleMatrix[0][2])      #exampleMatrix[raw][column]"
   ]
  },
  {
   "cell_type": "code",
   "execution_count": 51,
   "id": "75270c34-6d69-4aff-8a07-571dfe6d74fd",
   "metadata": {},
   "outputs": [
    {
     "name": "stdout",
     "output_type": "stream",
     "text": [
      "30\n"
     ]
    }
   ],
   "source": [
    "print(exampleMatrix[0, 2])"
   ]
  },
  {
   "cell_type": "code",
   "execution_count": 54,
   "id": "d2ddfbe7-e9bd-483a-bd3d-5e2821b5d449",
   "metadata": {},
   "outputs": [
    {
     "data": {
      "text/plain": [
       "array([[20, 30],\n",
       "       [30, 40],\n",
       "       [50, 60]])"
      ]
     },
     "execution_count": 54,
     "metadata": {},
     "output_type": "execute_result"
    }
   ],
   "source": [
    "exampleMatrix[0: ,1:]"
   ]
  },
  {
   "cell_type": "code",
   "execution_count": 55,
   "id": "8ce0ad8b-3eaa-4628-8830-3bb150a2bb1b",
   "metadata": {},
   "outputs": [
    {
     "data": {
      "text/plain": [
       "array([20, 30, 50])"
      ]
     },
     "execution_count": 55,
     "metadata": {},
     "output_type": "execute_result"
    }
   ],
   "source": [
    "exampleMatrix[0: ,1]"
   ]
  },
  {
   "cell_type": "code",
   "execution_count": 56,
   "id": "3ddf35c1-0bd5-45f5-aa2f-674bdfd40a39",
   "metadata": {},
   "outputs": [
    {
     "data": {
      "text/plain": [
       "array([30, 40, 60])"
      ]
     },
     "execution_count": 56,
     "metadata": {},
     "output_type": "execute_result"
    }
   ],
   "source": [
    "exampleMatrix[0: ,2]"
   ]
  },
  {
   "cell_type": "code",
   "execution_count": 57,
   "id": "e2767e5e-1a3b-43c9-9ade-a504ebb9afe1",
   "metadata": {},
   "outputs": [],
   "source": [
    "newList = [[0, 1, 2, 3, 4], [5, 6, 7, 8, 9], [10, 11, 12, 13, 14], [15, 16, 17, 18, 19], [20, 21, 22, 23, 24]]"
   ]
  },
  {
   "cell_type": "code",
   "execution_count": 58,
   "id": "d6c120b6-357f-48f3-90bc-e04d1e69eb54",
   "metadata": {},
   "outputs": [],
   "source": [
    "newMatrix = np.array(newList)"
   ]
  },
  {
   "cell_type": "code",
   "execution_count": 59,
   "id": "96d106b9-b147-4089-b3df-2a8d6ebce59b",
   "metadata": {},
   "outputs": [
    {
     "data": {
      "text/plain": [
       "array([[ 0,  1,  2,  3,  4],\n",
       "       [ 5,  6,  7,  8,  9],\n",
       "       [10, 11, 12, 13, 14],\n",
       "       [15, 16, 17, 18, 19],\n",
       "       [20, 21, 22, 23, 24]])"
      ]
     },
     "execution_count": 59,
     "metadata": {},
     "output_type": "execute_result"
    }
   ],
   "source": [
    "newMatrix"
   ]
  },
  {
   "cell_type": "code",
   "execution_count": 63,
   "id": "baa54215-638a-4883-9bd1-69f1661b8292",
   "metadata": {},
   "outputs": [
    {
     "data": {
      "text/plain": [
       "array([[ 0,  1,  2,  3,  4],\n",
       "       [10, 11, 12, 13, 14],\n",
       "       [20, 21, 22, 23, 24]])"
      ]
     },
     "execution_count": 63,
     "metadata": {},
     "output_type": "execute_result"
    }
   ],
   "source": [
    "newMatrix[[0, 2, 4]]"
   ]
  },
  {
   "cell_type": "code",
   "execution_count": 65,
   "id": "758be075-1c1a-44f6-8997-6348e3292c7e",
   "metadata": {},
   "outputs": [
    {
     "data": {
      "text/plain": [
       "array([[20, 21, 22, 23, 24],\n",
       "       [10, 11, 12, 13, 14],\n",
       "       [ 0,  1,  2,  3,  4]])"
      ]
     },
     "execution_count": 65,
     "metadata": {},
     "output_type": "execute_result"
    }
   ],
   "source": [
    "newMatrix[[4, 2, 0]]"
   ]
  },
  {
   "cell_type": "code",
   "execution_count": 66,
   "id": "01c5c6ca-ed71-45ee-a6d6-9ac75e256f22",
   "metadata": {},
   "outputs": [
    {
     "data": {
      "text/plain": [
       "array([23, 13,  3])"
      ]
     },
     "execution_count": 66,
     "metadata": {},
     "output_type": "execute_result"
    }
   ],
   "source": [
    "newMatrix[[4, 2, 0], [3]]       #4ncü 2nci 0nci indexli satırların 3 indexli sütun degerlerini getirdi"
   ]
  },
  {
   "cell_type": "markdown",
   "id": "7ea95ec0-c5b8-41da-a08e-447901ae201e",
   "metadata": {},
   "source": [
    "# Operations"
   ]
  },
  {
   "cell_type": "code",
   "execution_count": 75,
   "id": "668042e1-d04c-4285-907a-013780baf9d0",
   "metadata": {},
   "outputs": [],
   "source": [
    "newArray = np.random.randint(3, 3000, 20)"
   ]
  },
  {
   "cell_type": "code",
   "execution_count": 76,
   "id": "4c0859a0-4682-4d11-9f14-d5a314a97a4d",
   "metadata": {},
   "outputs": [
    {
     "data": {
      "text/plain": [
       "array([ 510, 2266,  245, 2420, 2843, 2553, 2050, 2740,  229, 2559, 2334,\n",
       "       2013, 2033, 2858,  965, 2520, 1253,  895, 1883, 2837])"
      ]
     },
     "execution_count": 76,
     "metadata": {},
     "output_type": "execute_result"
    }
   ],
   "source": [
    "newArray"
   ]
  },
  {
   "cell_type": "code",
   "execution_count": 77,
   "id": "740098b5-068b-48ad-90b8-0b0cde86e829",
   "metadata": {},
   "outputs": [
    {
     "data": {
      "text/plain": [
       "array([ True,  True,  True,  True,  True,  True,  True,  True,  True,\n",
       "        True,  True,  True,  True,  True,  True,  True,  True,  True,\n",
       "        True,  True])"
      ]
     },
     "execution_count": 77,
     "metadata": {},
     "output_type": "execute_result"
    }
   ],
   "source": [
    "newArray > 24"
   ]
  },
  {
   "cell_type": "code",
   "execution_count": 78,
   "id": "cf78590d-7a64-4a90-b8b4-0df7ef85ce06",
   "metadata": {},
   "outputs": [
    {
     "data": {
      "text/plain": [
       "array([False,  True, False,  True,  True,  True,  True,  True, False,\n",
       "        True,  True,  True,  True,  True, False,  True, False, False,\n",
       "        True,  True])"
      ]
     },
     "execution_count": 78,
     "metadata": {},
     "output_type": "execute_result"
    }
   ],
   "source": [
    "newArray > 1500"
   ]
  },
  {
   "cell_type": "code",
   "execution_count": 81,
   "id": "0fe59786-576b-4a97-948b-b519b709a17a",
   "metadata": {},
   "outputs": [],
   "source": [
    "resultArray = newArray > 1500"
   ]
  },
  {
   "cell_type": "code",
   "execution_count": 82,
   "id": "d54631a9-34c9-4c12-b64d-7b7bc71d8275",
   "metadata": {},
   "outputs": [
    {
     "data": {
      "text/plain": [
       "array([False,  True, False,  True,  True,  True,  True,  True, False,\n",
       "        True,  True,  True,  True,  True, False,  True, False, False,\n",
       "        True,  True])"
      ]
     },
     "execution_count": 82,
     "metadata": {},
     "output_type": "execute_result"
    }
   ],
   "source": [
    "resultArray"
   ]
  },
  {
   "cell_type": "code",
   "execution_count": 84,
   "id": "9b40bc27-acae-4b5b-be18-498ab4ae208a",
   "metadata": {},
   "outputs": [
    {
     "data": {
      "text/plain": [
       "array([2266, 2420, 2843, 2553, 2050, 2740, 2559, 2334, 2013, 2033, 2858,\n",
       "       2520, 1883, 2837])"
      ]
     },
     "execution_count": 84,
     "metadata": {},
     "output_type": "execute_result"
    }
   ],
   "source": [
    "newArray[resultArray]"
   ]
  },
  {
   "cell_type": "code",
   "execution_count": 85,
   "id": "335ff6a9-803c-407b-9179-b6a109e7971f",
   "metadata": {},
   "outputs": [
    {
     "data": {
      "text/plain": [
       "array([ 510, 2266,  245, 2050,  229, 2013, 2033,  965, 1253,  895, 1883])"
      ]
     },
     "execution_count": 85,
     "metadata": {},
     "output_type": "execute_result"
    }
   ],
   "source": [
    "newArray[newArray <2323]"
   ]
  },
  {
   "cell_type": "code",
   "execution_count": 86,
   "id": "c07c195c-4aa9-42c8-a1c0-c780722922c7",
   "metadata": {},
   "outputs": [],
   "source": [
    "lastArray = np.arange(0, 24)"
   ]
  },
  {
   "cell_type": "code",
   "execution_count": 87,
   "id": "9e8d6cb2-b412-4bbd-8d68-571d9f672e18",
   "metadata": {},
   "outputs": [
    {
     "data": {
      "text/plain": [
       "array([ 0,  2,  4,  6,  8, 10, 12, 14, 16, 18, 20, 22, 24, 26, 28, 30, 32,\n",
       "       34, 36, 38, 40, 42, 44, 46])"
      ]
     },
     "execution_count": 87,
     "metadata": {},
     "output_type": "execute_result"
    }
   ],
   "source": [
    "lastArray + lastArray"
   ]
  },
  {
   "cell_type": "code",
   "execution_count": 88,
   "id": "c2f62e92-4c34-4fc6-9a59-da1f0762d1da",
   "metadata": {},
   "outputs": [
    {
     "data": {
      "text/plain": [
       "array([  0,   1,   4,   9,  16,  25,  36,  49,  64,  81, 100, 121, 144,\n",
       "       169, 196, 225, 256, 289, 324, 361, 400, 441, 484, 529])"
      ]
     },
     "execution_count": 88,
     "metadata": {},
     "output_type": "execute_result"
    }
   ],
   "source": [
    "lastArray * lastArray"
   ]
  },
  {
   "cell_type": "code",
   "execution_count": 89,
   "id": "f2d8fe4d-c04c-4c1b-984e-7aa1027a3bdc",
   "metadata": {},
   "outputs": [
    {
     "data": {
      "text/plain": [
       "array([0, 0, 0, 0, 0, 0, 0, 0, 0, 0, 0, 0, 0, 0, 0, 0, 0, 0, 0, 0, 0, 0,\n",
       "       0, 0])"
      ]
     },
     "execution_count": 89,
     "metadata": {},
     "output_type": "execute_result"
    }
   ],
   "source": [
    "lastArray - lastArray"
   ]
  },
  {
   "cell_type": "code",
   "execution_count": 92,
   "id": "08c41b05-0dd7-4430-8684-af99e994a0d1",
   "metadata": {},
   "outputs": [
    {
     "name": "stderr",
     "output_type": "stream",
     "text": [
      "/var/folders/h5/807f4bmn69100fg26mvxsydh0000gn/T/ipykernel_62524/770655647.py:1: RuntimeWarning: invalid value encountered in divide\n",
      "  lastArray / lastArray   #0 degerinin hatasını verir ama geri kalanı calıştırır\n"
     ]
    },
    {
     "data": {
      "text/plain": [
       "array([nan,  1.,  1.,  1.,  1.,  1.,  1.,  1.,  1.,  1.,  1.,  1.,  1.,\n",
       "        1.,  1.,  1.,  1.,  1.,  1.,  1.,  1.,  1.,  1.,  1.])"
      ]
     },
     "execution_count": 92,
     "metadata": {},
     "output_type": "execute_result"
    }
   ],
   "source": [
    "lastArray / lastArray   #0 degerinin hatasını verir ama geri kalanı calıştırır"
   ]
  },
  {
   "cell_type": "code",
   "execution_count": 93,
   "id": "df884b3d-51e2-48f0-9b09-6606ad9caf3d",
   "metadata": {},
   "outputs": [
    {
     "data": {
      "text/plain": [
       "array([0.        , 1.        , 1.41421356, 1.73205081, 2.        ,\n",
       "       2.23606798, 2.44948974, 2.64575131, 2.82842712, 3.        ,\n",
       "       3.16227766, 3.31662479, 3.46410162, 3.60555128, 3.74165739,\n",
       "       3.87298335, 4.        , 4.12310563, 4.24264069, 4.35889894,\n",
       "       4.47213595, 4.58257569, 4.69041576, 4.79583152])"
      ]
     },
     "execution_count": 93,
     "metadata": {},
     "output_type": "execute_result"
    }
   ],
   "source": [
    "np.sqrt(lastArray)"
   ]
  },
  {
   "cell_type": "code",
   "execution_count": 95,
   "id": "05bc451e-3e67-4b52-8baf-df79b710410c",
   "metadata": {},
   "outputs": [
    {
     "name": "stdout",
     "output_type": "stream",
     "text": [
      "2858\n"
     ]
    }
   ],
   "source": [
    "print(np.max(newArray))"
   ]
  },
  {
   "cell_type": "code",
   "execution_count": 96,
   "id": "a51ef9dd-5520-4c03-b88b-0a3aafca664f",
   "metadata": {},
   "outputs": [
    {
     "name": "stdout",
     "output_type": "stream",
     "text": [
      "229\n"
     ]
    }
   ],
   "source": [
    "print(np.min(newArray))"
   ]
  },
  {
   "cell_type": "code",
   "execution_count": null,
   "id": "c7f753f4-4fdd-4684-946a-f392c1ea5bfa",
   "metadata": {},
   "outputs": [],
   "source": []
  }
 ],
 "metadata": {
  "kernelspec": {
   "display_name": "Python 3 (ipykernel)",
   "language": "python",
   "name": "python3"
  },
  "language_info": {
   "codemirror_mode": {
    "name": "ipython",
    "version": 3
   },
   "file_extension": ".py",
   "mimetype": "text/x-python",
   "name": "python",
   "nbconvert_exporter": "python",
   "pygments_lexer": "ipython3",
   "version": "3.13.0"
  }
 },
 "nbformat": 4,
 "nbformat_minor": 5
}
