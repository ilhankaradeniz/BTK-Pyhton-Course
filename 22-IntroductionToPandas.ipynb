{
 "cells": [
  {
   "cell_type": "code",
   "execution_count": 1,
   "id": "bd51845c-3178-4a50-8ece-193154475bbb",
   "metadata": {},
   "outputs": [],
   "source": [
    "import numpy as np\n",
    "import pandas as pd"
   ]
  },
  {
   "cell_type": "markdown",
   "id": "dd5cb804-0728-43d3-ab87-2bc7b341bba6",
   "metadata": {},
   "source": [
    "# Series"
   ]
  },
  {
   "cell_type": "code",
   "execution_count": 2,
   "id": "ad90348a-ee48-4499-bab2-096646c54f98",
   "metadata": {},
   "outputs": [],
   "source": [
    "myDict = {\"İlhan\" : 21, \"semih\" : 34, \"fatih\" : 25}"
   ]
  },
  {
   "cell_type": "code",
   "execution_count": 3,
   "id": "4c8fa959-0910-4d1d-b1be-e8d8b77c6ded",
   "metadata": {},
   "outputs": [
    {
     "data": {
      "text/plain": [
       "İlhan    21\n",
       "semih    34\n",
       "fatih    25\n",
       "dtype: int64"
      ]
     },
     "execution_count": 3,
     "metadata": {},
     "output_type": "execute_result"
    }
   ],
   "source": [
    "pd.Series(myDict)"
   ]
  },
  {
   "cell_type": "code",
   "execution_count": 4,
   "id": "9b3d4038-0cf0-47a6-8c0c-b0b4275faeba",
   "metadata": {},
   "outputs": [
    {
     "data": {
      "text/plain": [
       "pandas.core.series.Series"
      ]
     },
     "execution_count": 4,
     "metadata": {},
     "output_type": "execute_result"
    }
   ],
   "source": [
    "type(pd.Series(myDict))"
   ]
  },
  {
   "cell_type": "code",
   "execution_count": 5,
   "id": "53fec941-a867-475f-b3ed-40a87be390a7",
   "metadata": {},
   "outputs": [],
   "source": [
    "myAges = [21, 34, 25]\n",
    "myNames = [\"İlhan\", \"Semih\", \"Fatih\"]"
   ]
  },
  {
   "cell_type": "code",
   "execution_count": 8,
   "id": "9449ce34-561d-4e11-942b-7190d9285c52",
   "metadata": {},
   "outputs": [
    {
     "data": {
      "text/plain": [
       "İlhan    21\n",
       "Semih    34\n",
       "Fatih    25\n",
       "dtype: int64"
      ]
     },
     "execution_count": 8,
     "metadata": {},
     "output_type": "execute_result"
    }
   ],
   "source": [
    " pd.Series(myAges)"
   ]
  },
  {
   "cell_type": "code",
   "execution_count": 7,
   "id": "d015f48d-5ddd-4c3d-8d18-7566858ec997",
   "metadata": {},
   "outputs": [
    {
     "data": {
      "text/plain": [
       "0    İlhan\n",
       "1    Semih\n",
       "2    Fatih\n",
       "dtype: object"
      ]
     },
     "execution_count": 7,
     "metadata": {},
     "output_type": "execute_result"
    }
   ],
   "source": [
    "pd.Series(myNames)"
   ]
  },
  {
   "cell_type": "code",
   "execution_count": 9,
   "id": "9c10c706-3893-459f-a13a-7a0e293ca6ff",
   "metadata": {},
   "outputs": [
    {
     "data": {
      "text/plain": [
       "İlhan    21\n",
       "Semih    34\n",
       "Fatih    25\n",
       "dtype: int64"
      ]
     },
     "execution_count": 9,
     "metadata": {},
     "output_type": "execute_result"
    }
   ],
   "source": [
    "pd.Series(myAges, myNames)"
   ]
  },
  {
   "cell_type": "code",
   "execution_count": 10,
   "id": "f94e9d0d-e874-4618-b629-878bbc6a7223",
   "metadata": {},
   "outputs": [
    {
     "data": {
      "text/plain": [
       "İlhan    21\n",
       "Semih    34\n",
       "Fatih    25\n",
       "dtype: int64"
      ]
     },
     "execution_count": 10,
     "metadata": {},
     "output_type": "execute_result"
    }
   ],
   "source": [
    "pd.Series(data = myAges, index = myNames)"
   ]
  },
  {
   "cell_type": "code",
   "execution_count": 11,
   "id": "8a929b20-4939-4836-aeac-a6a031ecd0e4",
   "metadata": {},
   "outputs": [],
   "source": [
    "numpySerie = np.array([50, 40, 30])"
   ]
  },
  {
   "cell_type": "code",
   "execution_count": 12,
   "id": "2c357c85-5aa5-46ac-b56b-f0e341b1af6b",
   "metadata": {},
   "outputs": [
    {
     "data": {
      "text/plain": [
       "0    50\n",
       "1    40\n",
       "2    30\n",
       "dtype: int64"
      ]
     },
     "execution_count": 12,
     "metadata": {},
     "output_type": "execute_result"
    }
   ],
   "source": [
    "pd.Series(numpySerie)"
   ]
  },
  {
   "cell_type": "code",
   "execution_count": 13,
   "id": "013dd0ad-5d95-4a31-983e-3acee79a30d1",
   "metadata": {},
   "outputs": [
    {
     "data": {
      "text/plain": [
       "İlhan    50\n",
       "Semih    40\n",
       "Fatih    30\n",
       "dtype: int64"
      ]
     },
     "execution_count": 13,
     "metadata": {},
     "output_type": "execute_result"
    }
   ],
   "source": [
    "pd.Series(numpySerie, myNames)"
   ]
  },
  {
   "cell_type": "code",
   "execution_count": null,
   "id": "cc7811e2-bbff-4754-b1e4-94916b42120f",
   "metadata": {},
   "outputs": [],
   "source": []
  }
 ],
 "metadata": {
  "kernelspec": {
   "display_name": "Python 3 (ipykernel)",
   "language": "python",
   "name": "python3"
  },
  "language_info": {
   "codemirror_mode": {
    "name": "ipython",
    "version": 3
   },
   "file_extension": ".py",
   "mimetype": "text/x-python",
   "name": "python",
   "nbconvert_exporter": "python",
   "pygments_lexer": "ipython3",
   "version": "3.13.0"
  }
 },
 "nbformat": 4,
 "nbformat_minor": 5
}
