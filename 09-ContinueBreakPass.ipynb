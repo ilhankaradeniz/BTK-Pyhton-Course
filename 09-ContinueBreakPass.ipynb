{
 "cells": [
  {
   "cell_type": "markdown",
   "id": "5f23f19f-1916-423f-a37e-4ad2bc525cdc",
   "metadata": {},
   "source": [
    "# Continue, Break and Pass"
   ]
  },
  {
   "cell_type": "code",
   "execution_count": 1,
   "id": "893d941f-ef2f-4c35-938d-e1b3fe76b23c",
   "metadata": {},
   "outputs": [],
   "source": [
    "benimListem = [5, 10, 15, 20 ,25 ,30]"
   ]
  },
  {
   "cell_type": "code",
   "execution_count": 2,
   "id": "c43f7534-553e-47a9-909c-db4494eb2e2d",
   "metadata": {},
   "outputs": [
    {
     "name": "stdout",
     "output_type": "stream",
     "text": [
      "1.0\n",
      "2.0\n",
      "3.0\n",
      "4.0\n",
      "5.0\n",
      "6.0\n"
     ]
    }
   ],
   "source": [
    "for numara in benimListem:\n",
    "    print(numara / 5)"
   ]
  },
  {
   "cell_type": "code",
   "execution_count": 5,
   "id": "b74f56e9-7c7d-4b7b-9577-0e275e5bffb8",
   "metadata": {},
   "outputs": [
    {
     "name": "stdout",
     "output_type": "stream",
     "text": [
      "5\n",
      "10\n"
     ]
    }
   ],
   "source": [
    "for numara in benimListem:         #break, döngüyü kırar ve döngüyü sonlandırır\n",
    "    if numara == 15:\n",
    "        break\n",
    "    print(numara)"
   ]
  },
  {
   "cell_type": "code",
   "execution_count": 7,
   "id": "863fb9f5-bba4-4162-8376-0cd9b59f73ce",
   "metadata": {},
   "outputs": [
    {
     "name": "stdout",
     "output_type": "stream",
     "text": [
      "5\n",
      "10\n",
      "20\n",
      "25\n",
      "30\n"
     ]
    }
   ],
   "source": [
    "for numara in benimListem:         #continue, koşulda belirtilen ifadeyi atlar ve devam eder\n",
    "    if numara == 15:\n",
    "        continue\n",
    "    print(numara)"
   ]
  },
  {
   "cell_type": "code",
   "execution_count": 11,
   "id": "1af2e07e-5821-4631-88f3-1c425c515957",
   "metadata": {},
   "outputs": [],
   "source": [
    "for numara in benimListem:       #döngüde işlem yapılmayacaksa veya sonrada eklenmek isteniyorsa pass yazılır ve kodun çalışmasına müdahala ettirilmez\n",
    "    pass"
   ]
  },
  {
   "cell_type": "code",
   "execution_count": null,
   "id": "d04a1f5b-91ab-4e69-9b85-66198460f456",
   "metadata": {},
   "outputs": [],
   "source": []
  }
 ],
 "metadata": {
  "kernelspec": {
   "display_name": "Python 3 (ipykernel)",
   "language": "python",
   "name": "python3"
  },
  "language_info": {
   "codemirror_mode": {
    "name": "ipython",
    "version": 3
   },
   "file_extension": ".py",
   "mimetype": "text/x-python",
   "name": "python",
   "nbconvert_exporter": "python",
   "pygments_lexer": "ipython3",
   "version": "3.13.0"
  }
 },
 "nbformat": 4,
 "nbformat_minor": 5
}
