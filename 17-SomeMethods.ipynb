{
 "cells": [
  {
   "cell_type": "code",
   "execution_count": 52,
   "id": "3dbe7da5-5d56-4a54-8161-bf0835886d1d",
   "metadata": {},
   "outputs": [],
   "source": [
    "class Meyve():\n",
    "\n",
    "    def __init__(self, isim, kalori):\n",
    "        self.isim = isim\n",
    "        self.kalori = kalori\n",
    "\n",
    "    def __str__(self):\n",
    "        return f\"{self.isim} su kadar kaloriye sahip: {self.kalori}\"\n",
    "\n",
    "    def __len__(self):\n",
    "        return self.kalori"
   ]
  },
  {
   "cell_type": "code",
   "execution_count": 53,
   "id": "0bac64e3-5147-4060-96d7-8dadf22334d4",
   "metadata": {},
   "outputs": [],
   "source": [
    "muz = Meyve(\"muz\", 150)"
   ]
  },
  {
   "cell_type": "code",
   "execution_count": 54,
   "id": "0845bf73-5118-490d-89bc-f63de6c3e716",
   "metadata": {},
   "outputs": [
    {
     "data": {
      "text/plain": [
       "150"
      ]
     },
     "execution_count": 54,
     "metadata": {},
     "output_type": "execute_result"
    }
   ],
   "source": [
    "muz.kalori"
   ]
  },
  {
   "cell_type": "code",
   "execution_count": 55,
   "id": "8b09efee-624a-4d3a-bd1c-94daeef2076c",
   "metadata": {},
   "outputs": [
    {
     "name": "stdout",
     "output_type": "stream",
     "text": [
      "muz su kadar kaloriye sahip: 150\n"
     ]
    }
   ],
   "source": [
    "print(muz)"
   ]
  },
  {
   "cell_type": "code",
   "execution_count": 56,
   "id": "2f7b2471-2506-4e33-976f-b9727f671e72",
   "metadata": {},
   "outputs": [],
   "source": [
    "benimListem = [1, 2, 3, \"a\", 4.5]"
   ]
  },
  {
   "cell_type": "code",
   "execution_count": 57,
   "id": "1d2cb327-d0f2-45c4-9556-51661248f430",
   "metadata": {},
   "outputs": [
    {
     "name": "stdout",
     "output_type": "stream",
     "text": [
      "[1, 2, 3, 'a', 4.5]\n"
     ]
    }
   ],
   "source": [
    "print(benimListem)"
   ]
  },
  {
   "cell_type": "code",
   "execution_count": 58,
   "id": "0d03a3ef-7a56-4264-b918-27d0d68a7e87",
   "metadata": {},
   "outputs": [
    {
     "data": {
      "text/plain": [
       "5"
      ]
     },
     "execution_count": 58,
     "metadata": {},
     "output_type": "execute_result"
    }
   ],
   "source": [
    "len(benimListem)"
   ]
  },
  {
   "cell_type": "code",
   "execution_count": 59,
   "id": "ba7aebad-db24-403b-9100-80cfd751a916",
   "metadata": {},
   "outputs": [
    {
     "name": "stdout",
     "output_type": "stream",
     "text": [
      "muz su kadar kaloriye sahip: 150\n"
     ]
    }
   ],
   "source": [
    "print(muz)"
   ]
  },
  {
   "cell_type": "code",
   "execution_count": 60,
   "id": "c534a348-35c8-44e0-b782-461e1fed3e25",
   "metadata": {},
   "outputs": [
    {
     "data": {
      "text/plain": [
       "150"
      ]
     },
     "execution_count": 60,
     "metadata": {},
     "output_type": "execute_result"
    }
   ],
   "source": [
    "len(muz)"
   ]
  },
  {
   "cell_type": "code",
   "execution_count": 61,
   "id": "ee5786a9-96cf-4bab-abe9-ad2fccc9ec6b",
   "metadata": {},
   "outputs": [],
   "source": [
    "elma = Meyve(\"elma\", 200)"
   ]
  },
  {
   "cell_type": "code",
   "execution_count": 62,
   "id": "a6676008-441a-4691-8cf0-d7a822f80b6f",
   "metadata": {},
   "outputs": [
    {
     "name": "stdout",
     "output_type": "stream",
     "text": [
      "elma su kadar kaloriye sahip: 200\n"
     ]
    }
   ],
   "source": [
    "print(elma)"
   ]
  },
  {
   "cell_type": "code",
   "execution_count": 63,
   "id": "279fd4d8-f601-4058-b7f4-136887994105",
   "metadata": {},
   "outputs": [
    {
     "data": {
      "text/plain": [
       "200"
      ]
     },
     "execution_count": 63,
     "metadata": {},
     "output_type": "execute_result"
    }
   ],
   "source": [
    "len(elma)"
   ]
  },
  {
   "cell_type": "markdown",
   "id": "ebc5f9e7-f833-457b-924a-be7e05d9c191",
   "metadata": {},
   "source": [
    "special methods veya magic methods olarak bilinir. kaynaklardan ulaşabilirsiniz"
   ]
  },
  {
   "cell_type": "code",
   "execution_count": null,
   "id": "59a3ccd1-6196-46cb-a28e-08ad2dc4131e",
   "metadata": {},
   "outputs": [],
   "source": []
  }
 ],
 "metadata": {
  "kernelspec": {
   "display_name": "Python 3 (ipykernel)",
   "language": "python",
   "name": "python3"
  },
  "language_info": {
   "codemirror_mode": {
    "name": "ipython",
    "version": 3
   },
   "file_extension": ".py",
   "mimetype": "text/x-python",
   "name": "python",
   "nbconvert_exporter": "python",
   "pygments_lexer": "ipython3",
   "version": "3.13.0"
  }
 },
 "nbformat": 4,
 "nbformat_minor": 5
}
