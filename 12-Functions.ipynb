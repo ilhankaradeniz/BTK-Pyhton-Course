{
 "cells": [
  {
   "cell_type": "markdown",
   "id": "0b632dfc-372d-4e59-828e-4c253696c218",
   "metadata": {},
   "source": [
    "# Fonksiyonlar"
   ]
  },
  {
   "cell_type": "code",
   "execution_count": 2,
   "id": "29901803-80b5-4d1a-9930-7c50e441ee4d",
   "metadata": {},
   "outputs": [],
   "source": [
    "benimAdim = \"ilhan karadeniz\""
   ]
  },
  {
   "cell_type": "code",
   "execution_count": 3,
   "id": "18c09687-46d6-46b2-addc-38d34af4b375",
   "metadata": {},
   "outputs": [
    {
     "data": {
      "text/plain": [
       "'ILHAN KARADENIZ'"
      ]
     },
     "execution_count": 3,
     "metadata": {},
     "output_type": "execute_result"
    }
   ],
   "source": [
    "benimAdim.upper()         #tüm karakterleri büyüge ceviren foksiyondur"
   ]
  },
  {
   "cell_type": "code",
   "execution_count": 4,
   "id": "db73adc5-be29-4cc6-a6a5-2f0782e2a5d3",
   "metadata": {},
   "outputs": [
    {
     "data": {
      "text/plain": [
       "'ilhan karadeniz'"
      ]
     },
     "execution_count": 4,
     "metadata": {},
     "output_type": "execute_result"
    }
   ],
   "source": [
    "benimAdim"
   ]
  },
  {
   "cell_type": "code",
   "execution_count": 5,
   "id": "ccd5ddb5-f276-406f-8542-f61e96c913f2",
   "metadata": {},
   "outputs": [],
   "source": [
    "benimAdimBuyukHarfli = benimAdim.upper()"
   ]
  },
  {
   "cell_type": "code",
   "execution_count": 6,
   "id": "fe9bcf91-6557-43fa-95ff-1862b235e260",
   "metadata": {},
   "outputs": [
    {
     "data": {
      "text/plain": [
       "'ILHAN KARADENIZ'"
      ]
     },
     "execution_count": 6,
     "metadata": {},
     "output_type": "execute_result"
    }
   ],
   "source": [
    "benimAdimBuyukHarfli"
   ]
  },
  {
   "cell_type": "code",
   "execution_count": 7,
   "id": "7bd2456a-8497-41cb-b5ad-a11069226a54",
   "metadata": {},
   "outputs": [
    {
     "data": {
      "text/plain": [
       "'ilhan karadeniz'"
      ]
     },
     "execution_count": 7,
     "metadata": {},
     "output_type": "execute_result"
    }
   ],
   "source": [
    "benimAdim"
   ]
  },
  {
   "cell_type": "code",
   "execution_count": 9,
   "id": "a8d3794d-a076-4ff5-b1d9-9ad2569113ac",
   "metadata": {},
   "outputs": [
    {
     "data": {
      "text/plain": [
       "<function str.upper()>"
      ]
     },
     "execution_count": 9,
     "metadata": {},
     "output_type": "execute_result"
    }
   ],
   "source": [
    "benimAdim.upper"
   ]
  },
  {
   "cell_type": "code",
   "execution_count": 15,
   "id": "b536a382-d018-4127-b077-1d4f5037e0d1",
   "metadata": {},
   "outputs": [],
   "source": [
    "def ilkFonksiyon():\n",
    "    print(\"ilk fonksiyonumu yazdım\")"
   ]
  },
  {
   "cell_type": "code",
   "execution_count": 16,
   "id": "0330a68d-1417-4eb0-bd48-e894722468ff",
   "metadata": {},
   "outputs": [
    {
     "name": "stdout",
     "output_type": "stream",
     "text": [
      "ilk fonksiyonumu yazdım\n"
     ]
    }
   ],
   "source": [
    "ilkFonksiyon()"
   ]
  },
  {
   "cell_type": "code",
   "execution_count": 17,
   "id": "68a4b9c9-41dd-4c1b-b0ca-e2dc2865d9fa",
   "metadata": {},
   "outputs": [
    {
     "name": "stdout",
     "output_type": "stream",
     "text": [
      "ilk fonksiyonumu yazdım\n",
      "ilk fonksiyonumu yazdım\n",
      "ilk fonksiyonumu yazdım\n",
      "ilk fonksiyonumu yazdım\n",
      "ilk fonksiyonumu yazdım\n",
      "ilk fonksiyonumu yazdım\n",
      "ilk fonksiyonumu yazdım\n",
      "ilk fonksiyonumu yazdım\n",
      "ilk fonksiyonumu yazdım\n"
     ]
    }
   ],
   "source": [
    "for i in range(1, 10):\n",
    "    ilkFonksiyon()"
   ]
  },
  {
   "cell_type": "markdown",
   "id": "4bbd6a20-649d-44bf-b298-cc5e4f271693",
   "metadata": {},
   "source": [
    "# Input & Return"
   ]
  },
  {
   "cell_type": "code",
   "execution_count": 20,
   "id": "f0def91e-de6f-42d6-bd73-5f6341f12ec3",
   "metadata": {},
   "outputs": [],
   "source": [
    "def merhabaDunya(yazdirilacakIsim):\n",
    "    print(\"merhaba dünya, ben ilhan karadeniz\")\n",
    "    print(yazdirilacakIsim)"
   ]
  },
  {
   "cell_type": "code",
   "execution_count": 22,
   "id": "f7c3170f-dfde-40fe-bc0c-4b3f9384a7f9",
   "metadata": {},
   "outputs": [
    {
     "name": "stdout",
     "output_type": "stream",
     "text": [
      "merhaba dünya, ben ilhan karadeniz\n",
      "Python\n"
     ]
    }
   ],
   "source": [
    "merhabaDunya(\"Python\")"
   ]
  },
  {
   "cell_type": "code",
   "execution_count": 23,
   "id": "c1c19dff-bd53-4258-8172-7c4328b540d1",
   "metadata": {},
   "outputs": [],
   "source": [
    "def hello(isim = \"ilhan\"):\n",
    "    print(\"merhaba\")\n",
    "    print(isim)"
   ]
  },
  {
   "cell_type": "code",
   "execution_count": 24,
   "id": "209f883b-4bb8-4d8f-94a3-a360f1b0031c",
   "metadata": {},
   "outputs": [
    {
     "name": "stdout",
     "output_type": "stream",
     "text": [
      "merhaba\n",
      "ilhan\n"
     ]
    }
   ],
   "source": [
    "hello()"
   ]
  },
  {
   "cell_type": "code",
   "execution_count": 25,
   "id": "3d050aa6-e50e-4dd9-a542-3458ecea8705",
   "metadata": {},
   "outputs": [
    {
     "name": "stdout",
     "output_type": "stream",
     "text": [
      "merhaba\n",
      "bugra\n"
     ]
    }
   ],
   "source": [
    "hello(\"bugra\")"
   ]
  },
  {
   "cell_type": "code",
   "execution_count": 26,
   "id": "f2da0077-36c8-4eca-bdfa-2f64469fd20e",
   "metadata": {},
   "outputs": [],
   "source": [
    "def toplama(numara1, numara2):\n",
    "    sonuc = numara1 + numara2\n",
    "    print(f\"toplam= {sonuc}\")"
   ]
  },
  {
   "cell_type": "code",
   "execution_count": 27,
   "id": "2accefbf-514b-4801-a4e0-1ff46990f445",
   "metadata": {},
   "outputs": [
    {
     "name": "stdout",
     "output_type": "stream",
     "text": [
      "toplam= 144\n"
     ]
    }
   ],
   "source": [
    "toplama(123, 21)"
   ]
  },
  {
   "cell_type": "code",
   "execution_count": 28,
   "id": "5b948cf7-9680-4be9-a9ed-5e43e2813051",
   "metadata": {},
   "outputs": [
    {
     "name": "stdout",
     "output_type": "stream",
     "text": [
      "toplam= 1034\n"
     ]
    }
   ],
   "source": [
    "toplama(-200,1234)"
   ]
  },
  {
   "cell_type": "code",
   "execution_count": 29,
   "id": "08161ec7-405d-4640-a977-c93a747dff82",
   "metadata": {},
   "outputs": [],
   "source": [
    "def ucluToplama(num1, num2, num3):\n",
    "    print(num1 + num2 + num3)"
   ]
  },
  {
   "cell_type": "code",
   "execution_count": 31,
   "id": "2e93aa55-4f5b-4d6e-9f54-1d30ed38c2a6",
   "metadata": {},
   "outputs": [
    {
     "name": "stdout",
     "output_type": "stream",
     "text": [
      "102\n"
     ]
    }
   ],
   "source": [
    "ucluToplama(12, 34, 56)"
   ]
  },
  {
   "cell_type": "code",
   "execution_count": 32,
   "id": "753da877-a63a-41a3-9f3a-c5ee413b6cfb",
   "metadata": {},
   "outputs": [
    {
     "name": "stdout",
     "output_type": "stream",
     "text": [
      "toplam= 30\n"
     ]
    }
   ],
   "source": [
    "yeniDegisken = toplama(10, 20)"
   ]
  },
  {
   "cell_type": "code",
   "execution_count": 33,
   "id": "83cef062-bb82-4551-8253-299bd64e2443",
   "metadata": {},
   "outputs": [
    {
     "name": "stdout",
     "output_type": "stream",
     "text": [
      "None\n"
     ]
    }
   ],
   "source": [
    "print(yeniDegisken)"
   ]
  },
  {
   "cell_type": "code",
   "execution_count": 34,
   "id": "6e70b585-7087-478b-b6b6-091f3f4136d7",
   "metadata": {},
   "outputs": [],
   "source": [
    "def dondurmeliToplama(num1, num2):\n",
    "    return num1 + num2"
   ]
  },
  {
   "cell_type": "code",
   "execution_count": 36,
   "id": "594e90bb-d615-4fcd-abcc-b0fcd858dd06",
   "metadata": {},
   "outputs": [],
   "source": [
    "yeniSonuc = dondurmeliToplama(10, 20)"
   ]
  },
  {
   "cell_type": "code",
   "execution_count": 37,
   "id": "f00c22ee-8976-4dc1-a35e-d67c1fc72355",
   "metadata": {},
   "outputs": [
    {
     "name": "stdout",
     "output_type": "stream",
     "text": [
      "30\n"
     ]
    }
   ],
   "source": [
    "print(yeniSonuc)"
   ]
  },
  {
   "cell_type": "code",
   "execution_count": 38,
   "id": "4b25ef0a-ddee-40e6-ad95-b2d4e57a6d1c",
   "metadata": {},
   "outputs": [],
   "source": [
    "def kontrolFonksiyon(s):\n",
    "    if s == \"ilhan\":\n",
    "        print(\"verdiginiz string ilhan\")\n",
    "    else:\n",
    "        print(\"verdiginiz string başka bir sey\")"
   ]
  },
  {
   "cell_type": "code",
   "execution_count": 39,
   "id": "3fed719b-2598-4bbb-87e1-65d2839e3338",
   "metadata": {},
   "outputs": [
    {
     "name": "stdout",
     "output_type": "stream",
     "text": [
      "verdiginiz string ilhan\n"
     ]
    }
   ],
   "source": [
    "kontrolFonksiyon(\"ilhan\")"
   ]
  },
  {
   "cell_type": "code",
   "execution_count": 40,
   "id": "5d1a5175-a9a0-433a-a7e4-b35ba3a23678",
   "metadata": {},
   "outputs": [
    {
     "name": "stdout",
     "output_type": "stream",
     "text": [
      "verdiginiz string başka bir sey\n"
     ]
    }
   ],
   "source": [
    "kontrolFonksiyon(\"ayse\")"
   ]
  },
  {
   "cell_type": "markdown",
   "id": "27e78740-3a55-411d-bd38-4dced65bc90d",
   "metadata": {},
   "source": [
    "# args & kwargs"
   ]
  },
  {
   "cell_type": "markdown",
   "id": "e48f0b49-7d09-421c-8fd1-f7fc75906c31",
   "metadata": {},
   "source": [
    "kullanıcının kaç tane ınput girecegini kendisinin karar vermesini saglayan yapılardır"
   ]
  },
  {
   "cell_type": "code",
   "execution_count": 48,
   "id": "2cfcb980-7634-4b2c-86f3-adc61c25ac21",
   "metadata": {},
   "outputs": [],
   "source": [
    "def yeniCokluToplama(*args):\n",
    "    return sum(args)"
   ]
  },
  {
   "cell_type": "code",
   "execution_count": 49,
   "id": "4eb8cbc7-da77-4caf-86fc-acc296e5474d",
   "metadata": {},
   "outputs": [
    {
     "data": {
      "text/plain": [
       "60"
      ]
     },
     "execution_count": 49,
     "metadata": {},
     "output_type": "execute_result"
    }
   ],
   "source": [
    "yeniCokluToplama(10, 20, 30)"
   ]
  },
  {
   "cell_type": "code",
   "execution_count": 50,
   "id": "d63317e2-a4c6-4e05-b751-740ad263db64",
   "metadata": {},
   "outputs": [],
   "source": [
    "def benimFonksiyonum(*args):\n",
    "    print(args)"
   ]
  },
  {
   "cell_type": "code",
   "execution_count": 51,
   "id": "5483fff3-8fa5-448f-8da9-7e64b418f4e2",
   "metadata": {},
   "outputs": [
    {
     "name": "stdout",
     "output_type": "stream",
     "text": [
      "(20, 30, 'ilhan')\n"
     ]
    }
   ],
   "source": [
    "benimFonksiyonum(20, 30, \"ilhan\")"
   ]
  },
  {
   "cell_type": "code",
   "execution_count": 53,
   "id": "817b1e7c-72c7-4ee7-a671-bdc212ad297f",
   "metadata": {},
   "outputs": [
    {
     "name": "stdout",
     "output_type": "stream",
     "text": [
      "(20, 30, 40)\n"
     ]
    },
    {
     "data": {
      "text/plain": [
       "NoneType"
      ]
     },
     "execution_count": 53,
     "metadata": {},
     "output_type": "execute_result"
    }
   ],
   "source": [
    "type(benimFonksiyonum(20, 30, 40))"
   ]
  },
  {
   "cell_type": "code",
   "execution_count": 54,
   "id": "e8421839-36be-4eac-a0c8-c21ed23398c6",
   "metadata": {},
   "outputs": [],
   "source": [
    "def benimFonksiyonum(*args):\n",
    "    return args"
   ]
  },
  {
   "cell_type": "code",
   "execution_count": 56,
   "id": "acf512c6-fa37-4ddd-92f5-36a1efde5209",
   "metadata": {},
   "outputs": [
    {
     "data": {
      "text/plain": [
       "tuple"
      ]
     },
     "execution_count": 56,
     "metadata": {},
     "output_type": "execute_result"
    }
   ],
   "source": [
    "type(benimFonksiyonum(10, 20))"
   ]
  },
  {
   "cell_type": "code",
   "execution_count": 57,
   "id": "cf938cf9-17e3-400e-9083-954eccf7f13d",
   "metadata": {},
   "outputs": [],
   "source": [
    "def ornekFonksiyon(**kwargs):\n",
    "    print(kwargs)"
   ]
  },
  {
   "cell_type": "code",
   "execution_count": 58,
   "id": "ba8b60c0-f0b9-4d4f-b624-e3bb45495dfc",
   "metadata": {},
   "outputs": [
    {
     "name": "stdout",
     "output_type": "stream",
     "text": [
      "{'muz': 100, 'elma': 200, 'ananas': 300}\n"
     ]
    }
   ],
   "source": [
    "ornekFonksiyon(muz = 100, elma = 200, ananas = 300)"
   ]
  },
  {
   "cell_type": "code",
   "execution_count": 59,
   "id": "3e97c9be-a0ce-4ce7-bec1-7b3e07c2d3e2",
   "metadata": {},
   "outputs": [
    {
     "name": "stdout",
     "output_type": "stream",
     "text": [
      "{'muz': 100, 'elma': 200, 'ananas': 300}\n"
     ]
    },
    {
     "data": {
      "text/plain": [
       "NoneType"
      ]
     },
     "execution_count": 59,
     "metadata": {},
     "output_type": "execute_result"
    }
   ],
   "source": [
    "type(ornekFonksiyon(muz = 100, elma = 200, ananas = 300))"
   ]
  },
  {
   "cell_type": "code",
   "execution_count": 63,
   "id": "0853a055-c029-4599-bd90-3b9a0de2fa14",
   "metadata": {},
   "outputs": [],
   "source": [
    "def ornekFonksiyon(**kwargs):\n",
    "    return kwargs"
   ]
  },
  {
   "cell_type": "code",
   "execution_count": 64,
   "id": "55bcc1d1-b53c-4811-96c4-6d5b408a2067",
   "metadata": {},
   "outputs": [
    {
     "data": {
      "text/plain": [
       "{'muz': 100, 'elma': 200, 'ananas': 300}"
      ]
     },
     "execution_count": 64,
     "metadata": {},
     "output_type": "execute_result"
    }
   ],
   "source": [
    "ornekFonksiyon(muz = 100, elma = 200, ananas = 300)"
   ]
  },
  {
   "cell_type": "code",
   "execution_count": 65,
   "id": "57cdc2b2-b150-47ab-938c-6d25d8244b7e",
   "metadata": {},
   "outputs": [
    {
     "data": {
      "text/plain": [
       "dict"
      ]
     },
     "execution_count": 65,
     "metadata": {},
     "output_type": "execute_result"
    }
   ],
   "source": [
    "type(ornekFonksiyon(muz = 100, elma = 200, ananas = 300))"
   ]
  },
  {
   "cell_type": "code",
   "execution_count": 66,
   "id": "f3105a60-a159-4e3c-a2a9-0d28c10b2d38",
   "metadata": {},
   "outputs": [],
   "source": [
    "def keyWordKontrolu(**kwargs):\n",
    "    if \"ilhan\" in kwargs:\n",
    "        print(\"ilhan var\")\n",
    "    else:\n",
    "        print(\"ilhan yok\")"
   ]
  },
  {
   "cell_type": "code",
   "execution_count": 67,
   "id": "7f5468db-468e-43b2-9851-e1441f3b701d",
   "metadata": {},
   "outputs": [
    {
     "name": "stdout",
     "output_type": "stream",
     "text": [
      "ilhan var\n"
     ]
    }
   ],
   "source": [
    "keyWordKontrolu(ilhan = 21, mahmut = 46, zübeyde = 45)"
   ]
  },
  {
   "cell_type": "code",
   "execution_count": 68,
   "id": "8117a0d1-7806-42ab-b4b4-8ccaeba35ce0",
   "metadata": {},
   "outputs": [
    {
     "name": "stdout",
     "output_type": "stream",
     "text": [
      "ilhan yok\n"
     ]
    }
   ],
   "source": [
    "keyWordKontrolu(mehmet = 21, mahmut = 46, zübeyde = 45)"
   ]
  },
  {
   "cell_type": "code",
   "execution_count": null,
   "id": "92a7445e-900b-4ea0-b730-89515ec21f72",
   "metadata": {},
   "outputs": [],
   "source": [
    " "
   ]
  }
 ],
 "metadata": {
  "kernelspec": {
   "display_name": "Python 3 (ipykernel)",
   "language": "python",
   "name": "python3"
  },
  "language_info": {
   "codemirror_mode": {
    "name": "ipython",
    "version": 3
   },
   "file_extension": ".py",
   "mimetype": "text/x-python",
   "name": "python",
   "nbconvert_exporter": "python",
   "pygments_lexer": "ipython3",
   "version": "3.13.0"
  }
 },
 "nbformat": 4,
 "nbformat_minor": 5
}
