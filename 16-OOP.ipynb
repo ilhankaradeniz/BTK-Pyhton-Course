{
 "cells": [
  {
   "cell_type": "markdown",
   "id": "327b4696-9b65-4c8a-9654-62ce0e510afa",
   "metadata": {},
   "source": [
    "# Object - Oriented Programming"
   ]
  },
  {
   "cell_type": "code",
   "execution_count": 1,
   "id": "36bea4bc-afac-45ff-8e9a-ac20626c2a4d",
   "metadata": {},
   "outputs": [],
   "source": [
    "benimListem = list()"
   ]
  },
  {
   "cell_type": "code",
   "execution_count": 2,
   "id": "12af6adf-946b-4fed-b35f-d70fc5c12062",
   "metadata": {},
   "outputs": [
    {
     "data": {
      "text/plain": [
       "list"
      ]
     },
     "execution_count": 2,
     "metadata": {},
     "output_type": "execute_result"
    }
   ],
   "source": [
    "type(benimListem)"
   ]
  },
  {
   "cell_type": "markdown",
   "id": "18f136f9-5998-41f8-8292-0e601b84e64a",
   "metadata": {},
   "source": [
    "# instance & attribute"
   ]
  },
  {
   "cell_type": "code",
   "execution_count": 80,
   "id": "463abfcb-0b83-43cf-9c23-7e86a56f62ce",
   "metadata": {},
   "outputs": [],
   "source": [
    "class SuperKahraman():\n",
    "\n",
    "    ozel_guc = \"gorunmezlik\"\n",
    "    \n",
    "    def __init__(self, isim, yas, meslek):\n",
    "        print(\"init çağrıldı\")\n",
    "        self.isim = isim\n",
    "        self.yas = yas\n",
    "        self.meslek = meslek\n",
    "\n",
    "    def ornekMethod(self):\n",
    "        print(f\"ben superkahramanim ve meslegim: {self.meslek}\")"
   ]
  },
  {
   "cell_type": "code",
   "execution_count": 81,
   "id": "2a59fed0-93f0-4879-81b3-caebc745a9d8",
   "metadata": {},
   "outputs": [
    {
     "name": "stdout",
     "output_type": "stream",
     "text": [
      "init çağrıldı\n"
     ]
    }
   ],
   "source": [
    "superman = SuperKahraman(\"Superman\", 30, \"gazeteci\")"
   ]
  },
  {
   "cell_type": "code",
   "execution_count": 82,
   "id": "b1a05ef6-032a-43a6-9adf-c3c4f07dcaa7",
   "metadata": {},
   "outputs": [
    {
     "data": {
      "text/plain": [
       "'Superman'"
      ]
     },
     "execution_count": 82,
     "metadata": {},
     "output_type": "execute_result"
    }
   ],
   "source": [
    "superman.isim"
   ]
  },
  {
   "cell_type": "code",
   "execution_count": 83,
   "id": "d41a9682-12d6-4a4d-ac70-e07106207ff4",
   "metadata": {},
   "outputs": [
    {
     "data": {
      "text/plain": [
       "30"
      ]
     },
     "execution_count": 83,
     "metadata": {},
     "output_type": "execute_result"
    }
   ],
   "source": [
    "superman.yas"
   ]
  },
  {
   "cell_type": "code",
   "execution_count": 84,
   "id": "79fe074b-f626-4c9c-a192-d5a6ace2389c",
   "metadata": {},
   "outputs": [
    {
     "data": {
      "text/plain": [
       "'gazeteci'"
      ]
     },
     "execution_count": 84,
     "metadata": {},
     "output_type": "execute_result"
    }
   ],
   "source": [
    "superman.meslek"
   ]
  },
  {
   "cell_type": "code",
   "execution_count": 85,
   "id": "4a7e420b-6be6-4678-bed2-ab892bca2b80",
   "metadata": {},
   "outputs": [],
   "source": [
    "superman.isim = \"Clark kent\""
   ]
  },
  {
   "cell_type": "code",
   "execution_count": 86,
   "id": "f40f0d66-552a-4eab-a83c-1ef90c4234e9",
   "metadata": {},
   "outputs": [
    {
     "data": {
      "text/plain": [
       "'Clark kent'"
      ]
     },
     "execution_count": 86,
     "metadata": {},
     "output_type": "execute_result"
    }
   ],
   "source": [
    "superman.isim "
   ]
  },
  {
   "cell_type": "code",
   "execution_count": 87,
   "id": "fbf41848-2da4-468c-ab44-11feb4e86138",
   "metadata": {},
   "outputs": [
    {
     "data": {
      "text/plain": [
       "'gorunmezlik'"
      ]
     },
     "execution_count": 87,
     "metadata": {},
     "output_type": "execute_result"
    }
   ],
   "source": [
    "superman.ozel_guc "
   ]
  },
  {
   "cell_type": "code",
   "execution_count": 88,
   "id": "2eb195cd-16ea-4ffe-9a45-2fd06c730e26",
   "metadata": {},
   "outputs": [],
   "source": [
    "superman.ozel_guc = \"ucabiliyor\""
   ]
  },
  {
   "cell_type": "code",
   "execution_count": 89,
   "id": "6a114137-242c-4ec9-8980-4826914a14a3",
   "metadata": {},
   "outputs": [
    {
     "data": {
      "text/plain": [
       "'ucabiliyor'"
      ]
     },
     "execution_count": 89,
     "metadata": {},
     "output_type": "execute_result"
    }
   ],
   "source": [
    "superman.ozel_guc"
   ]
  },
  {
   "cell_type": "code",
   "execution_count": 90,
   "id": "57ad379f-6928-4654-b0b9-42c52bc4040b",
   "metadata": {},
   "outputs": [
    {
     "name": "stdout",
     "output_type": "stream",
     "text": [
      "ben superkahramanim ve meslegim: gazeteci\n"
     ]
    }
   ],
   "source": [
    "superman.ornekMethod()"
   ]
  },
  {
   "cell_type": "code",
   "execution_count": 158,
   "id": "1a072851-1e2d-43ab-99c7-05574f298f29",
   "metadata": {},
   "outputs": [],
   "source": [
    "class Kopek():\n",
    "\n",
    "    yıl_carpanı = 8\n",
    "\n",
    "    def __init__(self, yas = 5):\n",
    "        self.yas = yas\n",
    "        self.insanYasınaCevrilmisAttribute = yas * (self.yıl_carpanı + 1)\n",
    "\n",
    "    def insan_yası(self):\n",
    "        print(f\"Kopegin insan yası: {self.yas * self.yıl_carpanı}\")"
   ]
  },
  {
   "cell_type": "code",
   "execution_count": 159,
   "id": "7bd3cfc9-61ba-48fe-895e-ee9a7d462595",
   "metadata": {},
   "outputs": [],
   "source": [
    "benimKopek = Kopek()"
   ]
  },
  {
   "cell_type": "code",
   "execution_count": 160,
   "id": "69e4de06-4391-40e0-84b6-2275e27d8490",
   "metadata": {},
   "outputs": [
    {
     "data": {
      "text/plain": [
       "5"
      ]
     },
     "execution_count": 160,
     "metadata": {},
     "output_type": "execute_result"
    }
   ],
   "source": [
    "benimKopek.yas"
   ]
  },
  {
   "cell_type": "code",
   "execution_count": 161,
   "id": "69700eef-d26f-4f3e-8ce0-ed9a64a0390d",
   "metadata": {},
   "outputs": [
    {
     "name": "stdout",
     "output_type": "stream",
     "text": [
      "Kopegin insan yası: 40\n"
     ]
    }
   ],
   "source": [
    "benimKopek.insan_yası()"
   ]
  },
  {
   "cell_type": "code",
   "execution_count": 162,
   "id": "e74206b7-1ad9-43e7-adda-4c2d0747ec35",
   "metadata": {},
   "outputs": [
    {
     "data": {
      "text/plain": [
       "45"
      ]
     },
     "execution_count": 162,
     "metadata": {},
     "output_type": "execute_result"
    }
   ],
   "source": [
    "benimKopek.insanYasınaCevrilmisAttribute"
   ]
  },
  {
   "cell_type": "markdown",
   "id": "112590ed-f565-47af-a07b-6e53088262fb",
   "metadata": {},
   "source": [
    "# Inheritance"
   ]
  },
  {
   "cell_type": "code",
   "execution_count": 163,
   "id": "738e6118-c05c-452a-b710-00c78f963939",
   "metadata": {},
   "outputs": [],
   "source": [
    "class Hayvan():\n",
    "\n",
    "    def __init__(self):\n",
    "        print(\"hayvan sınıfı init cagrıldı\")\n",
    "\n",
    "    def method1(self):\n",
    "        print(\"hayvan sınıfı method1 cagrıldı\")\n",
    "\n",
    "    def method2(self):\n",
    "        print(\"hayvan sınıfı method2 cagrıldı\")"
   ]
  },
  {
   "cell_type": "code",
   "execution_count": 164,
   "id": "8501e66a-54c1-4e5f-b23b-949fccefa9e9",
   "metadata": {},
   "outputs": [
    {
     "name": "stdout",
     "output_type": "stream",
     "text": [
      "hayvan sınıfı init cagrıldı\n"
     ]
    }
   ],
   "source": [
    "benimHayvanim = Hayvan()"
   ]
  },
  {
   "cell_type": "code",
   "execution_count": 166,
   "id": "f30b5d2e-05c0-4ec4-b8e6-2c0109ad0209",
   "metadata": {},
   "outputs": [
    {
     "name": "stdout",
     "output_type": "stream",
     "text": [
      "hayvan sınıfı method1 cagrıldı\n"
     ]
    }
   ],
   "source": [
    "benimHayvanim.method1()"
   ]
  },
  {
   "cell_type": "code",
   "execution_count": 167,
   "id": "fd562e59-8a2c-4a37-a426-246587ccbb4f",
   "metadata": {},
   "outputs": [
    {
     "name": "stdout",
     "output_type": "stream",
     "text": [
      "hayvan sınıfı method2 cagrıldı\n"
     ]
    }
   ],
   "source": [
    "benimHayvanim.method2()"
   ]
  },
  {
   "cell_type": "code",
   "execution_count": 183,
   "id": "da2162b2-7e27-4937-96b5-3f14c3998134",
   "metadata": {},
   "outputs": [],
   "source": [
    "class Kedi(Hayvan):\n",
    "\n",
    "    def __init__(self):\n",
    "        Hayvan.__init__(self)\n",
    "        print(\"kedi sınıfı init cagrıldı\")\n",
    "\n",
    "    def miyavla(self):\n",
    "        print(\"miyav miyav\")\n",
    "\n",
    "    #override\n",
    "    def method1(self):\n",
    "        print(\"kedi sınıfı method1 cagrıldı\")"
   ]
  },
  {
   "cell_type": "code",
   "execution_count": 184,
   "id": "5b191907-c61d-4c9b-8b4d-c3ac8e7d8c78",
   "metadata": {},
   "outputs": [
    {
     "name": "stdout",
     "output_type": "stream",
     "text": [
      "hayvan sınıfı init cagrıldı\n",
      "kedi sınıfı init cagrıldı\n"
     ]
    }
   ],
   "source": [
    "benimKedi = Kedi()"
   ]
  },
  {
   "cell_type": "code",
   "execution_count": 185,
   "id": "ce85c141-c546-423d-bf6d-35d69ddab003",
   "metadata": {},
   "outputs": [
    {
     "name": "stdout",
     "output_type": "stream",
     "text": [
      "kedi sınıfı method1 cagrıldı\n"
     ]
    }
   ],
   "source": [
    "benimKedi.method1()"
   ]
  },
  {
   "cell_type": "code",
   "execution_count": 188,
   "id": "919664d5-430d-420e-88c1-67ea210f8cf9",
   "metadata": {},
   "outputs": [
    {
     "name": "stdout",
     "output_type": "stream",
     "text": [
      "miyav miyav\n"
     ]
    }
   ],
   "source": [
    "benimKedi.miyavla()"
   ]
  },
  {
   "cell_type": "code",
   "execution_count": 190,
   "id": "c0581732-4cef-4c65-8b73-f7ee5d624e60",
   "metadata": {},
   "outputs": [
    {
     "name": "stdout",
     "output_type": "stream",
     "text": [
      "hayvan sınıfı init cagrıldı\n",
      "kedi sınıfı init cagrıldı\n"
     ]
    }
   ],
   "source": [
    "yeniKedi = Kedi()"
   ]
  },
  {
   "cell_type": "code",
   "execution_count": 191,
   "id": "2e461946-6745-4933-81d3-30700133fbef",
   "metadata": {},
   "outputs": [
    {
     "name": "stdout",
     "output_type": "stream",
     "text": [
      "kedi sınıfı method1 cagrıldı\n"
     ]
    }
   ],
   "source": [
    "yeniKedi.method1()     #override görebiliyoruz"
   ]
  },
  {
   "cell_type": "code",
   "execution_count": 192,
   "id": "219f4121-baae-452d-aa45-90d346ba0442",
   "metadata": {},
   "outputs": [
    {
     "name": "stdout",
     "output_type": "stream",
     "text": [
      "hayvan sınıfı init cagrıldı\n"
     ]
    }
   ],
   "source": [
    "yeniHayvan = Hayvan()"
   ]
  },
  {
   "cell_type": "code",
   "execution_count": 195,
   "id": "8edc49ee-7c2e-41ad-9b99-bec70ecb66a3",
   "metadata": {},
   "outputs": [
    {
     "name": "stdout",
     "output_type": "stream",
     "text": [
      "hayvan sınıfı method1 cagrıldı\n"
     ]
    }
   ],
   "source": [
    "yeniHayvan.method1()   #override karşılaştırma kedi classı ile"
   ]
  },
  {
   "cell_type": "markdown",
   "id": "db0f1d12-c4cc-43b1-82d6-d9253d510c8c",
   "metadata": {},
   "source": [
    "# Polymorphism"
   ]
  },
  {
   "cell_type": "code",
   "execution_count": 203,
   "id": "934523fe-013d-4440-98a4-11b03ce38c0b",
   "metadata": {},
   "outputs": [],
   "source": [
    "class Elma():\n",
    "\n",
    "    def __init__(self, isim):\n",
    "        self.isim = isim\n",
    "\n",
    "    def bilgiVer(self):\n",
    "        return self.isim + \" 100 kaloridir \"\n",
    "\n"
   ]
  },
  {
   "cell_type": "code",
   "execution_count": 204,
   "id": "ca9288b8-76f8-40ad-b5c7-eab1d810ecf7",
   "metadata": {},
   "outputs": [],
   "source": [
    "class Muz():\n",
    "\n",
    "    def __init__(self, isim):\n",
    "        self.isim = isim\n",
    "\n",
    "    def bilgiVer(self):\n",
    "        return self.isim + \" 150 kaloridir \""
   ]
  },
  {
   "cell_type": "code",
   "execution_count": 205,
   "id": "913576b0-2cc3-4e2f-942a-764a3bd18bce",
   "metadata": {},
   "outputs": [],
   "source": [
    "elma = Elma(\"Elma\")"
   ]
  },
  {
   "cell_type": "code",
   "execution_count": 206,
   "id": "8573cf3e-1d6e-40ea-9ea8-88333138d986",
   "metadata": {},
   "outputs": [
    {
     "data": {
      "text/plain": [
       "'Elma 100 kaloridir '"
      ]
     },
     "execution_count": 206,
     "metadata": {},
     "output_type": "execute_result"
    }
   ],
   "source": [
    "elma.bilgiVer()"
   ]
  },
  {
   "cell_type": "code",
   "execution_count": 207,
   "id": "c4b63cc8-789e-40a8-a026-97b8c1dd486e",
   "metadata": {},
   "outputs": [],
   "source": [
    "muz = Muz(\"Muz\")"
   ]
  },
  {
   "cell_type": "code",
   "execution_count": 208,
   "id": "d3f32a74-eca5-446c-aa1e-977c64788f74",
   "metadata": {},
   "outputs": [
    {
     "data": {
      "text/plain": [
       "'Muz 150 kaloridir '"
      ]
     },
     "execution_count": 208,
     "metadata": {},
     "output_type": "execute_result"
    }
   ],
   "source": [
    "muz.bilgiVer()"
   ]
  },
  {
   "cell_type": "code",
   "execution_count": 209,
   "id": "d6659f47-a421-4ca0-ad2f-bdde900fde0a",
   "metadata": {},
   "outputs": [],
   "source": [
    "meyveListesi = [elma, muz]"
   ]
  },
  {
   "cell_type": "code",
   "execution_count": 210,
   "id": "90f455ec-75c7-4057-8e84-2aaf8c998619",
   "metadata": {},
   "outputs": [
    {
     "name": "stdout",
     "output_type": "stream",
     "text": [
      "Elma 100 kaloridir \n",
      "Muz 150 kaloridir \n"
     ]
    }
   ],
   "source": [
    "for meyve in meyveListesi:\n",
    "    print(meyve.bilgiVer())"
   ]
  },
  {
   "cell_type": "code",
   "execution_count": 211,
   "id": "38410c62-fe2a-408c-9b2b-1aacb79454dd",
   "metadata": {},
   "outputs": [],
   "source": [
    "def bilgiAl(meyve):\n",
    "    print(meyve.bilgiVer())"
   ]
  },
  {
   "cell_type": "code",
   "execution_count": 212,
   "id": "0cad50e4-3be2-4376-a99d-e1a5eb637c63",
   "metadata": {},
   "outputs": [
    {
     "name": "stdout",
     "output_type": "stream",
     "text": [
      "Muz 150 kaloridir \n"
     ]
    }
   ],
   "source": [
    "bilgiAl(muz)"
   ]
  },
  {
   "cell_type": "code",
   "execution_count": 213,
   "id": "bf490b63-dc86-4502-8986-ff8204498b5c",
   "metadata": {},
   "outputs": [
    {
     "name": "stdout",
     "output_type": "stream",
     "text": [
      "Elma 100 kaloridir \n"
     ]
    }
   ],
   "source": [
    "bilgiAl(elma)"
   ]
  },
  {
   "cell_type": "code",
   "execution_count": null,
   "id": "0e8cd6dd-5796-42c5-b3bf-1ce2c7d72f57",
   "metadata": {},
   "outputs": [],
   "source": []
  }
 ],
 "metadata": {
  "kernelspec": {
   "display_name": "Python 3 (ipykernel)",
   "language": "python",
   "name": "python3"
  },
  "language_info": {
   "codemirror_mode": {
    "name": "ipython",
    "version": 3
   },
   "file_extension": ".py",
   "mimetype": "text/x-python",
   "name": "python",
   "nbconvert_exporter": "python",
   "pygments_lexer": "ipython3",
   "version": "3.13.0"
  }
 },
 "nbformat": 4,
 "nbformat_minor": 5
}
