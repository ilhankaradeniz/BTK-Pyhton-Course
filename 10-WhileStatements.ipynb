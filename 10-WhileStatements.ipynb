{
 "cells": [
  {
   "cell_type": "markdown",
   "id": "9680d12b-0344-4946-a888-ccbaf332083d",
   "metadata": {},
   "source": [
    "# While Statements"
   ]
  },
  {
   "cell_type": "code",
   "execution_count": 9,
   "id": "49c66a89-22bd-4a91-87cd-542fb86b9887",
   "metadata": {},
   "outputs": [
    {
     "name": "stdout",
     "output_type": "stream",
     "text": [
      "0\n",
      "ilhan\n",
      "1\n",
      "ilhan\n",
      "2\n",
      "ilhan\n",
      "3\n",
      "ilhan\n",
      "4\n",
      "ilhan\n",
      "5\n",
      "ilhan\n",
      "6\n",
      "ilhan\n",
      "7\n",
      "ilhan\n",
      "8\n",
      "ilhan\n",
      "9\n",
      "ilhan\n"
     ]
    }
   ],
   "source": [
    "x = 0\n",
    "while x < 10:\n",
    "    print(x)\n",
    "    print(\"ilhan\")\n",
    "    x = x + 1"
   ]
  },
  {
   "cell_type": "code",
   "execution_count": 19,
   "id": "b0e67b45-8ad7-474b-8edd-5a44e61f6f26",
   "metadata": {},
   "outputs": [],
   "source": [
    "benimListem = [1, 2, 3, 4, 5]"
   ]
  },
  {
   "cell_type": "code",
   "execution_count": 20,
   "id": "5b2bfd42-1592-4e88-868e-e7d7f569c4e8",
   "metadata": {},
   "outputs": [
    {
     "data": {
      "text/plain": [
       "5"
      ]
     },
     "execution_count": 20,
     "metadata": {},
     "output_type": "execute_result"
    }
   ],
   "source": [
    "benimListem.pop()   #listedeki son elemanı çıkarır"
   ]
  },
  {
   "cell_type": "code",
   "execution_count": 21,
   "id": "72868c5c-68b2-49cb-a8e9-fb7cd2d439f6",
   "metadata": {},
   "outputs": [
    {
     "data": {
      "text/plain": [
       "[1, 2, 3, 4]"
      ]
     },
     "execution_count": 21,
     "metadata": {},
     "output_type": "execute_result"
    }
   ],
   "source": [
    "benimListem"
   ]
  },
  {
   "cell_type": "code",
   "execution_count": 22,
   "id": "bf906dc6-a667-4946-ad40-ffa83d3b9468",
   "metadata": {},
   "outputs": [],
   "source": [
    "benimListem.append(5)         #listenin sonuna verilen parametreyi ekler"
   ]
  },
  {
   "cell_type": "code",
   "execution_count": 23,
   "id": "9b4c0cbe-1578-4833-93f8-a8645e81e33e",
   "metadata": {},
   "outputs": [
    {
     "data": {
      "text/plain": [
       "[1, 2, 3, 4, 5]"
      ]
     },
     "execution_count": 23,
     "metadata": {},
     "output_type": "execute_result"
    }
   ],
   "source": [
    "benimListem"
   ]
  },
  {
   "cell_type": "code",
   "execution_count": 24,
   "id": "e6313b2c-31d2-42a5-bf12-e5cab2873760",
   "metadata": {},
   "outputs": [
    {
     "name": "stdout",
     "output_type": "stream",
     "text": [
      "3 hala listenin içinde\n",
      "3 hala listenin içinde\n",
      "3 hala listenin içinde\n",
      "3 listenin icinde degil\n"
     ]
    }
   ],
   "source": [
    "while 3 in benimListem:\n",
    "    print(\"3 hala listenin içinde\")\n",
    "    benimListem.pop()\n",
    "print(\"3 listenin icinde degil\")"
   ]
  },
  {
   "cell_type": "code",
   "execution_count": 30,
   "id": "fe70d5a9-1d83-478e-b1ca-038641266b60",
   "metadata": {},
   "outputs": [],
   "source": [
    "numara = 0"
   ]
  },
  {
   "cell_type": "code",
   "execution_count": 31,
   "id": "313106e4-c1b5-4c51-b09d-07b639573f84",
   "metadata": {},
   "outputs": [
    {
     "name": "stdout",
     "output_type": "stream",
     "text": [
      "0\n",
      "1\n",
      "2\n",
      "3\n"
     ]
    }
   ],
   "source": [
    "while numara < 5:\n",
    "    if numara == 4:\n",
    "        break\n",
    "    print(numara)\n",
    "    numara = numara + 1\n",
    "    "
   ]
  },
  {
   "cell_type": "code",
   "execution_count": 37,
   "id": "d7005170-439b-4ccd-aeee-7c0875867a5a",
   "metadata": {},
   "outputs": [
    {
     "name": "stdout",
     "output_type": "stream",
     "text": [
      "güncel deger: 0\n",
      "güncel deger: 1\n",
      "güncel deger: 2\n",
      "güncel deger: 3\n",
      "güncel deger: 4\n",
      "güncel deger: 5\n",
      "güncel deger: 6\n",
      "güncel deger: 7\n",
      "güncel deger: 8\n",
      "güncel deger: 9\n",
      "güncel deger: 10\n",
      "güncel deger: 11\n",
      "güncel deger: 12\n",
      "güncel deger: 13\n",
      "güncel deger: 14\n"
     ]
    }
   ],
   "source": [
    "yeniDegisken = 0\n",
    "while yeniDegisken < 15:\n",
    "    #print(\"güncel deger: {}\".format(yeniDegisken))\n",
    "    print(f\"güncel deger: {yeniDegisken}\")           #iki yöntemde benzer\n",
    "    yeniDegisken = yeniDegisken + 1"
   ]
  },
  {
   "cell_type": "code",
   "execution_count": null,
   "id": "849fb715-3317-485d-a721-3a2607e5fc75",
   "metadata": {},
   "outputs": [],
   "source": []
  },
  {
   "cell_type": "code",
   "execution_count": null,
   "id": "5afa1cbb-7ebe-4fd8-b39c-c2fadea84ebf",
   "metadata": {},
   "outputs": [],
   "source": []
  }
 ],
 "metadata": {
  "kernelspec": {
   "display_name": "Python 3 (ipykernel)",
   "language": "python",
   "name": "python3"
  },
  "language_info": {
   "codemirror_mode": {
    "name": "ipython",
    "version": 3
   },
   "file_extension": ".py",
   "mimetype": "text/x-python",
   "name": "python",
   "nbconvert_exporter": "python",
   "pygments_lexer": "ipython3",
   "version": "3.13.0"
  }
 },
 "nbformat": 4,
 "nbformat_minor": 5
}
