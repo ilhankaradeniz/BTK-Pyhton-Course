{
 "cells": [
  {
   "cell_type": "code",
   "execution_count": 8,
   "id": "eecd173f-8963-4cb2-812e-438c002226ed",
   "metadata": {},
   "outputs": [],
   "source": [
    "import numpy as np\n",
    "import matplotlib.pyplot as matplot"
   ]
  },
  {
   "cell_type": "code",
   "execution_count": 9,
   "id": "ff01eb58-6b2c-46f1-931d-27900a303774",
   "metadata": {},
   "outputs": [
    {
     "name": "stdout",
     "output_type": "stream",
     "text": [
      "4007.875143894823\n"
     ]
    }
   ],
   "source": [
    "maaslistesi = numpy.random.normal(4000, 500, 1000)   #numpy içinde bulunan random\n",
    "average = numpy.mean(maaslistesi)\n",
    "print(average)"
   ]
  },
  {
   "cell_type": "code",
   "execution_count": 11,
   "id": "5354c302-588c-41fd-a64d-e0cb99ca98f5",
   "metadata": {},
   "outputs": [
    {
     "data": {
      "image/png": "[encoded data removed]",
      "text/plain": [
       "<Figure size 640x480 with 1 Axes>"
      ]
     },
     "metadata": {},
     "output_type": "display_data"
    }
   ],
   "source": [
    "matplot.hist(maaslistesi, 50)\n",
    "matplot.show()"
   ]
  },
  {
   "cell_type": "markdown",
   "id": "6c23cb2d-832d-4430-b219-bc8419cfaa47",
   "metadata": {},
   "source": [
    "modüller başlı başına, tek başına python dosyalarıdır.\n",
    "paketler modüllerin biraz daha geniş kapsamlısıdır."
   ]
  },
  {
   "cell_type": "code",
   "execution_count": null,
   "id": "650f1123-1ed2-4819-8fca-68c09ded5adb",
   "metadata": {},
   "outputs": [],
   "source": []
  }
 ],
 "metadata": {
  "kernelspec": {
   "display_name": "Python 3 (ipykernel)",
   "language": "python",
   "name": "python3"
  },
  "language_info": {
   "codemirror_mode": {
    "name": "ipython",
    "version": 3
   },
   "file_extension": ".py",
   "mimetype": "text/x-python",
   "name": "python",
   "nbconvert_exporter": "python",
   "pygments_lexer": "ipython3",
   "version": "3.13.0"
  }
 },
 "nbformat": 4,
 "nbformat_minor": 5
}
