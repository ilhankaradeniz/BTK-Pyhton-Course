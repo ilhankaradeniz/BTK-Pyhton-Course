{
 "cells": [
  {
   "cell_type": "markdown",
   "id": "3f8bd21e-3e1f-41dd-905b-a09d17579942",
   "metadata": {},
   "source": [
    "# Dictionaries"
   ]
  },
  {
   "cell_type": "markdown",
   "id": "0ce0df9d-6a4a-4b50-9db5-b5fed40081af",
   "metadata": {},
   "source": [
    "sözlükler bir koleksiyondur listeler gibi ancak index sistemi ile çalışmaz"
   ]
  },
  {
   "cell_type": "markdown",
   "id": "5948ba6e-f945-4a91-8352-ad61052638bb",
   "metadata": {},
   "source": [
    "# !!key-value pairing modeli ile çalışır"
   ]
  },
  {
   "cell_type": "code",
   "execution_count": 2,
   "id": "0547be1e-6e4e-4154-9232-f8e0efd9509b",
   "metadata": {},
   "outputs": [],
   "source": [
    "benimYemeklerim = [\"elma\", \"karpuz\", \"muz\"]"
   ]
  },
  {
   "cell_type": "code",
   "execution_count": 3,
   "id": "a9816f3c-d7e8-44cb-85a9-12026f6ec343",
   "metadata": {},
   "outputs": [],
   "source": [
    "benimKalorilerim = [100, 200, 300]"
   ]
  },
  {
   "cell_type": "code",
   "execution_count": 4,
   "id": "1d00e288-ad16-470c-b0a1-32a91ad76210",
   "metadata": {},
   "outputs": [
    {
     "data": {
      "text/plain": [
       "'karpuz'"
      ]
     },
     "execution_count": 4,
     "metadata": {},
     "output_type": "execute_result"
    }
   ],
   "source": [
    "benimYemeklerim[1]"
   ]
  },
  {
   "cell_type": "code",
   "execution_count": 5,
   "id": "a55069c9-f4e8-4eab-966f-7a565e032873",
   "metadata": {},
   "outputs": [
    {
     "data": {
      "text/plain": [
       "200"
      ]
     },
     "execution_count": 5,
     "metadata": {},
     "output_type": "execute_result"
    }
   ],
   "source": [
    "benimKalorilerim[1]"
   ]
  },
  {
   "cell_type": "code",
   "execution_count": 8,
   "id": "e9eb2d95-1823-4c9b-af57-5de30244a351",
   "metadata": {},
   "outputs": [],
   "source": [
    "benimSozluk = {\"anahtar_kelime\" : \"deger\"}"
   ]
  },
  {
   "cell_type": "code",
   "execution_count": 9,
   "id": "f1ac67c6-cb51-41b9-afac-428f63461e6d",
   "metadata": {},
   "outputs": [
    {
     "data": {
      "text/plain": [
       "dict"
      ]
     },
     "execution_count": 9,
     "metadata": {},
     "output_type": "execute_result"
    }
   ],
   "source": [
    "type(benimSozluk)"
   ]
  },
  {
   "cell_type": "code",
   "execution_count": 10,
   "id": "0b5bb81a-9e64-4a37-bf21-74d0a52af5fa",
   "metadata": {},
   "outputs": [
    {
     "data": {
      "text/plain": [
       "'deger'"
      ]
     },
     "execution_count": 10,
     "metadata": {},
     "output_type": "execute_result"
    }
   ],
   "source": [
    "benimSozluk[\"anahtar_kelime\"]"
   ]
  },
  {
   "cell_type": "code",
   "execution_count": 11,
   "id": "1a1addea-1e09-4517-8097-44c657193cfd",
   "metadata": {},
   "outputs": [],
   "source": [
    "benimYemekKaloriSozlugum = {\"elma\" : 100, \"karpuz\" : 200, \"muz\" : 300}"
   ]
  },
  {
   "cell_type": "code",
   "execution_count": 12,
   "id": "85fcbb51-ef46-49cd-942e-2f890b5500fb",
   "metadata": {},
   "outputs": [
    {
     "data": {
      "text/plain": [
       "300"
      ]
     },
     "execution_count": 12,
     "metadata": {},
     "output_type": "execute_result"
    }
   ],
   "source": [
    "benimYemekKaloriSozlugum[\"muz\"]"
   ]
  },
  {
   "cell_type": "code",
   "execution_count": 13,
   "id": "f5ff2b80-2fa1-48c7-8faa-3706a0641df9",
   "metadata": {},
   "outputs": [],
   "source": [
    "benimYemekKaloriSozlugum[\"elma\"] = 250 #changed the value of \"elma\" key word"
   ]
  },
  {
   "cell_type": "code",
   "execution_count": 14,
   "id": "1422dad3-26c8-499b-88c7-9b25501cc7c4",
   "metadata": {},
   "outputs": [
    {
     "data": {
      "text/plain": [
       "{'elma': 250, 'karpuz': 200, 'muz': 300}"
      ]
     },
     "execution_count": 14,
     "metadata": {},
     "output_type": "execute_result"
    }
   ],
   "source": [
    "benimYemekKaloriSozlugum"
   ]
  },
  {
   "cell_type": "code",
   "execution_count": 15,
   "id": "f6f7d7e5-2817-4d3a-90a6-04bff572c488",
   "metadata": {},
   "outputs": [],
   "source": [
    "benimFarklıSozluk = {150 : \"ilhan\", 2 : \"karadeniz\"}"
   ]
  },
  {
   "cell_type": "code",
   "execution_count": 16,
   "id": "caf86e2e-db86-4b1b-8f27-6d2435cb03e1",
   "metadata": {},
   "outputs": [
    {
     "data": {
      "text/plain": [
       "'ilhan'"
      ]
     },
     "execution_count": 16,
     "metadata": {},
     "output_type": "execute_result"
    }
   ],
   "source": [
    "benimFarklıSozluk[150]"
   ]
  },
  {
   "cell_type": "code",
   "execution_count": 18,
   "id": "ece0f48d-6638-4697-a541-6cb0663f0758",
   "metadata": {},
   "outputs": [],
   "source": [
    " yeniDict = {\"anatar1\" : 100, \"anahtar2\" : [10, 20, 30, 40, 4.5, \"ilhan\"], \"anahtar3\" : {\"anahtar9\" : 4}}"
   ]
  },
  {
   "cell_type": "markdown",
   "id": "cc0b5bbe-bc85-4c78-827a-0175190f3fef",
   "metadata": {},
   "source": [
    "dictionary yapısının içinde list ve dict yapılarını kullanabiliriz bir sorun cıkarmaz"
   ]
  },
  {
   "cell_type": "code",
   "execution_count": 20,
   "id": "23bb8217-3932-4a75-83e9-f8cdb7d2a9d4",
   "metadata": {},
   "outputs": [
    {
     "data": {
      "text/plain": [
       "dict_keys(['anatar1', 'anahtar2', 'anahtar3'])"
      ]
     },
     "execution_count": 20,
     "metadata": {},
     "output_type": "execute_result"
    }
   ],
   "source": [
    "yeniDict.keys()"
   ]
  },
  {
   "cell_type": "code",
   "execution_count": 21,
   "id": "384124d9-6d4f-4255-81e8-6a81940e8618",
   "metadata": {},
   "outputs": [
    {
     "data": {
      "text/plain": [
       "dict_values([100, [10, 20, 30, 40, 4.5, 'ilhan'], {'anahtar9': 4}])"
      ]
     },
     "execution_count": 21,
     "metadata": {},
     "output_type": "execute_result"
    }
   ],
   "source": [
    "yeniDict.values()"
   ]
  },
  {
   "cell_type": "code",
   "execution_count": 23,
   "id": "3272cdfb-c180-448a-9669-8d96d6c9bebb",
   "metadata": {},
   "outputs": [
    {
     "data": {
      "text/plain": [
       "4"
      ]
     },
     "execution_count": 23,
     "metadata": {},
     "output_type": "execute_result"
    }
   ],
   "source": [
    "yeniDict[\"anahtar3\"][\"anahtar9\"]"
   ]
  },
  {
   "cell_type": "code",
   "execution_count": 25,
   "id": "67739a94-6a3f-4de0-a07c-9d8ce05055cc",
   "metadata": {},
   "outputs": [
    {
     "data": {
      "text/plain": [
       "'ilhan'"
      ]
     },
     "execution_count": 25,
     "metadata": {},
     "output_type": "execute_result"
    }
   ],
   "source": [
    "yeniDict[\"anahtar2\"][-1]"
   ]
  },
  {
   "cell_type": "code",
   "execution_count": null,
   "id": "cb05a6fe-dab0-49c7-a88d-c2003caa62d0",
   "metadata": {},
   "outputs": [],
   "source": []
  }
 ],
 "metadata": {
  "kernelspec": {
   "display_name": "Python 3 (ipykernel)",
   "language": "python",
   "name": "python3"
  },
  "language_info": {
   "codemirror_mode": {
    "name": "ipython",
    "version": 3
   },
   "file_extension": ".py",
   "mimetype": "text/x-python",
   "name": "python",
   "nbconvert_exporter": "python",
   "pygments_lexer": "ipython3",
   "version": "3.13.0"
  }
 },
 "nbformat": 4,
 "nbformat_minor": 5
}
