{
 "cells": [
  {
   "cell_type": "markdown",
   "id": "4a448085-4870-42ba-a15e-f4f21e430739",
   "metadata": {},
   "source": [
    "# Lists"
   ]
  },
  {
   "cell_type": "markdown",
   "id": "58e09041-876f-4cff-a057-c4c608aea78b",
   "metadata": {},
   "source": [
    "Koleksiyonlar birden fazla yapıyı bir arada tutmamızı sağlayan yapılardır."
   ]
  },
  {
   "cell_type": "code",
   "execution_count": 2,
   "id": "845af36d-74d3-4d3d-b111-a0cc1e6bf401",
   "metadata": {},
   "outputs": [],
   "source": [
    "benimString = \"ilhan karadeniz\""
   ]
  },
  {
   "cell_type": "code",
   "execution_count": 3,
   "id": "73393bdb-5872-4867-9295-ed7ccd92d5dd",
   "metadata": {},
   "outputs": [
    {
     "data": {
      "text/plain": [
       "'i'"
      ]
     },
     "execution_count": 3,
     "metadata": {},
     "output_type": "execute_result"
    }
   ],
   "source": [
    "benimString[0]"
   ]
  },
  {
   "cell_type": "markdown",
   "id": "0ca198c6-14e6-48de-9099-8e9b9e9ff495",
   "metadata": {},
   "source": [
    "immutability & mutable"
   ]
  },
  {
   "cell_type": "code",
   "execution_count": 4,
   "id": "fe2338a0-b070-484e-92e3-4af4ac69a856",
   "metadata": {},
   "outputs": [],
   "source": [
    "#benimString[0] = \"B\"  #değiştiremeyiz hata verir"
   ]
  },
  {
   "cell_type": "code",
   "execution_count": 5,
   "id": "1a3cd587-5b3e-4ffb-a8c7-7fc265b87da8",
   "metadata": {},
   "outputs": [],
   "source": [
    "benimListem = [10, 20, 30, 40]"
   ]
  },
  {
   "cell_type": "code",
   "execution_count": 6,
   "id": "c6de3758-e6cf-462b-941f-1edf65303795",
   "metadata": {},
   "outputs": [
    {
     "data": {
      "text/plain": [
       "list"
      ]
     },
     "execution_count": 6,
     "metadata": {},
     "output_type": "execute_result"
    }
   ],
   "source": [
    "type(benimListem)"
   ]
  },
  {
   "cell_type": "code",
   "execution_count": 7,
   "id": "779e6f46-2c9f-4331-b548-374e0c6f7dad",
   "metadata": {},
   "outputs": [],
   "source": [
    "benimNumaram = 10\n",
    "benimDigerNumaram = 20"
   ]
  },
  {
   "cell_type": "code",
   "execution_count": 8,
   "id": "5feea522-b8ce-471f-be2e-fca6292a2739",
   "metadata": {},
   "outputs": [],
   "source": [
    "benimNumaraListem = [benimNumaram, benimDigerNumaram]"
   ]
  },
  {
   "cell_type": "code",
   "execution_count": 9,
   "id": "b7332d18-f092-43a5-a6d7-df61b0644929",
   "metadata": {},
   "outputs": [
    {
     "data": {
      "text/plain": [
       "10"
      ]
     },
     "execution_count": 9,
     "metadata": {},
     "output_type": "execute_result"
    }
   ],
   "source": [
    "benimListem[0]"
   ]
  },
  {
   "cell_type": "code",
   "execution_count": 10,
   "id": "e55b64c2-bfc1-4acf-8805-0f74c2bf032d",
   "metadata": {},
   "outputs": [
    {
     "data": {
      "text/plain": [
       "10"
      ]
     },
     "execution_count": 10,
     "metadata": {},
     "output_type": "execute_result"
    }
   ],
   "source": [
    "benimNumaraListem[0]"
   ]
  },
  {
   "cell_type": "code",
   "execution_count": 11,
   "id": "3cc51f67-08b3-4193-964f-54030dd0e547",
   "metadata": {},
   "outputs": [
    {
     "data": {
      "text/plain": [
       "[10, 20, 30, 40]"
      ]
     },
     "execution_count": 11,
     "metadata": {},
     "output_type": "execute_result"
    }
   ],
   "source": [
    "benimListem"
   ]
  },
  {
   "cell_type": "code",
   "execution_count": 12,
   "id": "c1947760-4304-444f-9873-34f026355ce3",
   "metadata": {},
   "outputs": [],
   "source": [
    "benimListem[0] = 100    #değiştirebilir yani istediğimiz zaman istedigimiz degeri atayabiliriz"
   ]
  },
  {
   "cell_type": "code",
   "execution_count": 13,
   "id": "c394aea6-1a9b-45bd-9a88-ed34cf319ec7",
   "metadata": {},
   "outputs": [
    {
     "data": {
      "text/plain": [
       "[100, 20, 30, 40]"
      ]
     },
     "execution_count": 13,
     "metadata": {},
     "output_type": "execute_result"
    }
   ],
   "source": [
    "benimListem"
   ]
  },
  {
   "cell_type": "code",
   "execution_count": 14,
   "id": "244218b8-bcff-4058-8b1a-7db2285ede98",
   "metadata": {},
   "outputs": [],
   "source": [
    "benimListem.append(50)"
   ]
  },
  {
   "cell_type": "code",
   "execution_count": 15,
   "id": "87af76e1-8c94-4931-93ee-92cbdef2d048",
   "metadata": {},
   "outputs": [
    {
     "data": {
      "text/plain": [
       "[100, 20, 30, 40, 50]"
      ]
     },
     "execution_count": 15,
     "metadata": {},
     "output_type": "execute_result"
    }
   ],
   "source": [
    "benimListem"
   ]
  },
  {
   "cell_type": "code",
   "execution_count": 16,
   "id": "0499956e-7a75-4a45-ad10-af79b754cb7e",
   "metadata": {},
   "outputs": [
    {
     "data": {
      "text/plain": [
       "50"
      ]
     },
     "execution_count": 16,
     "metadata": {},
     "output_type": "execute_result"
    }
   ],
   "source": [
    "benimListem.pop() #son elemanı çıkarır"
   ]
  },
  {
   "cell_type": "code",
   "execution_count": 17,
   "id": "075233a7-d36a-4426-bdf8-e5643d9e82fa",
   "metadata": {},
   "outputs": [
    {
     "data": {
      "text/plain": [
       "[100, 20, 30, 40]"
      ]
     },
     "execution_count": 17,
     "metadata": {},
     "output_type": "execute_result"
    }
   ],
   "source": [
    "benimListem"
   ]
  },
  {
   "cell_type": "code",
   "execution_count": 18,
   "id": "00301b42-58d3-4fd1-a5f5-6295f509c621",
   "metadata": {},
   "outputs": [],
   "source": [
    "benimListem.remove(40)    #varolan girilen parametreyi listeden çıkarır"
   ]
  },
  {
   "cell_type": "code",
   "execution_count": 19,
   "id": "f1057585-ae94-4f33-a3cc-db2efa6b404f",
   "metadata": {},
   "outputs": [
    {
     "data": {
      "text/plain": [
       "[100, 20, 30]"
      ]
     },
     "execution_count": 19,
     "metadata": {},
     "output_type": "execute_result"
    }
   ],
   "source": [
    "benimListem"
   ]
  },
  {
   "cell_type": "code",
   "execution_count": 20,
   "id": "23801bb9-e61c-4068-b6ca-c9e27f775b04",
   "metadata": {},
   "outputs": [],
   "source": [
    "#benimListem.remove(12)   #olmayan bir elemanı çıkaramazsın"
   ]
  },
  {
   "cell_type": "code",
   "execution_count": 21,
   "id": "280d6eff-0de8-4795-8fec-f8e8c4be961b",
   "metadata": {},
   "outputs": [
    {
     "data": {
      "text/plain": [
       "1"
      ]
     },
     "execution_count": 21,
     "metadata": {},
     "output_type": "execute_result"
    }
   ],
   "source": [
    "benimListem.count(20)   #bir listede girilen parametreden kaç tane olduğunu verir"
   ]
  },
  {
   "cell_type": "code",
   "execution_count": 22,
   "id": "82512578-3f45-4f68-8318-052b27672ac6",
   "metadata": {},
   "outputs": [],
   "source": [
    "benimListem.append(20)"
   ]
  },
  {
   "cell_type": "code",
   "execution_count": 23,
   "id": "d363f760-7046-4404-9530-a23c200e8483",
   "metadata": {},
   "outputs": [
    {
     "data": {
      "text/plain": [
       "2"
      ]
     },
     "execution_count": 23,
     "metadata": {},
     "output_type": "execute_result"
    }
   ],
   "source": [
    "benimListem.count(20)"
   ]
  },
  {
   "cell_type": "code",
   "execution_count": 24,
   "id": "90608588-2aff-4c10-ac25-42595b1ea288",
   "metadata": {},
   "outputs": [],
   "source": [
    "benimStringListem = [\"atıl\", \"ilhan\", \"ali\"]"
   ]
  },
  {
   "cell_type": "code",
   "execution_count": 25,
   "id": "75c49b5e-699b-4efc-9528-9d6e6167e0ab",
   "metadata": {},
   "outputs": [],
   "source": [
    "benimDigerStringListem = [\"mehmet\", \"ayse\", \"atlas\"]"
   ]
  },
  {
   "cell_type": "code",
   "execution_count": 26,
   "id": "0666df6a-03c6-4983-8cf2-a1027cc78a71",
   "metadata": {},
   "outputs": [],
   "source": [
    "benimToplamaListem = benimStringListem + benimDigerStringListem"
   ]
  },
  {
   "cell_type": "code",
   "execution_count": 27,
   "id": "a23b2427-2847-44ee-882f-14d070a12aa3",
   "metadata": {},
   "outputs": [
    {
     "data": {
      "text/plain": [
       "['atıl', 'ilhan', 'ali', 'mehmet', 'ayse', 'atlas']"
      ]
     },
     "execution_count": 27,
     "metadata": {},
     "output_type": "execute_result"
    }
   ],
   "source": [
    "benimToplamaListem"
   ]
  },
  {
   "cell_type": "code",
   "execution_count": 28,
   "id": "89008b93-92fc-4946-b3ae-fb29cdb12e67",
   "metadata": {},
   "outputs": [
    {
     "data": {
      "text/plain": [
       "['atıl', 'ilhan', 'ali', 'atıl', 'ilhan', 'ali']"
      ]
     },
     "execution_count": 28,
     "metadata": {},
     "output_type": "execute_result"
    }
   ],
   "source": [
    "benimStringListem *2"
   ]
  },
  {
   "cell_type": "code",
   "execution_count": 29,
   "id": "914f5acc-2bf2-4825-89dd-69ac1533e034",
   "metadata": {},
   "outputs": [
    {
     "data": {
      "text/plain": [
       "['atıl', 'ilhan', 'ali', 'mehmet', 'ayse', 'atlas']"
      ]
     },
     "execution_count": 29,
     "metadata": {},
     "output_type": "execute_result"
    }
   ],
   "source": [
    "benimToplamaListem"
   ]
  },
  {
   "cell_type": "code",
   "execution_count": 30,
   "id": "70452c6e-edd9-4e52-91ef-b778f1a74614",
   "metadata": {},
   "outputs": [],
   "source": [
    "benimToplamaListem.reverse()  #indexleri aynalar yani tersten yazdırır"
   ]
  },
  {
   "cell_type": "code",
   "execution_count": 31,
   "id": "5d4aff1a-1018-4620-b728-6cbc1126b56e",
   "metadata": {},
   "outputs": [
    {
     "data": {
      "text/plain": [
       "['atlas', 'ayse', 'mehmet', 'ali', 'ilhan', 'atıl']"
      ]
     },
     "execution_count": 31,
     "metadata": {},
     "output_type": "execute_result"
    }
   ],
   "source": [
    "benimToplamaListem"
   ]
  },
  {
   "cell_type": "code",
   "execution_count": 32,
   "id": "48885bdb-d227-4183-a975-34b703b195ea",
   "metadata": {},
   "outputs": [],
   "source": [
    "karisikListe = [1, 2, 3.5, \"ilhan\", 9]   #veri yapıları farklı değerleri ortak bir listeye atabiliriz"
   ]
  },
  {
   "cell_type": "code",
   "execution_count": 33,
   "id": "8bdad4fe-897a-4fca-ade9-8bec59af8c03",
   "metadata": {},
   "outputs": [
    {
     "data": {
      "text/plain": [
       "list"
      ]
     },
     "execution_count": 33,
     "metadata": {},
     "output_type": "execute_result"
    }
   ],
   "source": [
    "type(karisikListe)"
   ]
  },
  {
   "cell_type": "code",
   "execution_count": 34,
   "id": "74f648f6-ef64-4b50-91c6-4d34da49b182",
   "metadata": {},
   "outputs": [],
   "source": [
    "sonucum = karisikListe[2]"
   ]
  },
  {
   "cell_type": "code",
   "execution_count": 35,
   "id": "ae9b95dc-bb03-43a6-8054-fd5add4c5347",
   "metadata": {},
   "outputs": [
    {
     "data": {
      "text/plain": [
       "3.5"
      ]
     },
     "execution_count": 35,
     "metadata": {},
     "output_type": "execute_result"
    }
   ],
   "source": [
    "karisikListe[2]"
   ]
  },
  {
   "cell_type": "code",
   "execution_count": 36,
   "id": "44376870-9dab-485f-9a36-c32620f9a8bc",
   "metadata": {},
   "outputs": [
    {
     "data": {
      "text/plain": [
       "float"
      ]
     },
     "execution_count": 36,
     "metadata": {},
     "output_type": "execute_result"
    }
   ],
   "source": [
    "type(sonucum)"
   ]
  },
  {
   "cell_type": "code",
   "execution_count": 37,
   "id": "42ba994e-0e40-48b0-bddf-4b3c4ee31976",
   "metadata": {},
   "outputs": [],
   "source": [
    "nestedList = [1, 5, \"ilhan\", 4, [6, \"karadeniz\"]]  #iç içe liste kullanımı mevcuttur"
   ]
  },
  {
   "cell_type": "code",
   "execution_count": 38,
   "id": "b0070832-97b9-412e-923a-907c14cd2020",
   "metadata": {},
   "outputs": [
    {
     "data": {
      "text/plain": [
       "[1, 5, 'ilhan', 4, [6, 'karadeniz']]"
      ]
     },
     "execution_count": 38,
     "metadata": {},
     "output_type": "execute_result"
    }
   ],
   "source": [
    "nestedList"
   ]
  },
  {
   "cell_type": "code",
   "execution_count": 39,
   "id": "6474b6ca-7b8f-4066-b971-8abb994c166f",
   "metadata": {},
   "outputs": [
    {
     "data": {
      "text/plain": [
       "[6, 'karadeniz']"
      ]
     },
     "execution_count": 39,
     "metadata": {},
     "output_type": "execute_result"
    }
   ],
   "source": [
    "nestedList[4]"
   ]
  },
  {
   "cell_type": "code",
   "execution_count": 40,
   "id": "435a8d88-ea4b-4d0d-9648-90d755200b57",
   "metadata": {},
   "outputs": [
    {
     "data": {
      "text/plain": [
       "list"
      ]
     },
     "execution_count": 40,
     "metadata": {},
     "output_type": "execute_result"
    }
   ],
   "source": [
    "type(nestedList[4])"
   ]
  },
  {
   "cell_type": "code",
   "execution_count": 41,
   "id": "e79d87b2-68a2-4b3b-b1a2-251ae0dbf917",
   "metadata": {},
   "outputs": [],
   "source": [
    "degiskenBulmaca = nestedList[4][1]"
   ]
  },
  {
   "cell_type": "code",
   "execution_count": 42,
   "id": "a3fe11bb-9e7d-446b-8d8d-7d3f8435ff31",
   "metadata": {},
   "outputs": [
    {
     "data": {
      "text/plain": [
       "'karadeniz'"
      ]
     },
     "execution_count": 42,
     "metadata": {},
     "output_type": "execute_result"
    }
   ],
   "source": [
    "degiskenBulmaca"
   ]
  },
  {
   "cell_type": "code",
   "execution_count": 43,
   "id": "843cb0ad-0176-479f-9545-7825ff825eb9",
   "metadata": {},
   "outputs": [
    {
     "data": {
      "text/plain": [
       "[1, 5, 'ilhan', 4, [6, 'karadeniz']]"
      ]
     },
     "execution_count": 43,
     "metadata": {},
     "output_type": "execute_result"
    }
   ],
   "source": [
    "nestedList"
   ]
  },
  {
   "cell_type": "code",
   "execution_count": 44,
   "id": "79db291d-b738-4bf8-ae25-bedb422bf4a4",
   "metadata": {},
   "outputs": [
    {
     "data": {
      "text/plain": [
       "['ilhan', 4, [6, 'karadeniz']]"
      ]
     },
     "execution_count": 44,
     "metadata": {},
     "output_type": "execute_result"
    }
   ],
   "source": [
    "nestedList[2:]   #star index kullanmı"
   ]
  },
  {
   "cell_type": "code",
   "execution_count": 45,
   "id": "cb1e259b-ca5f-4405-b9bd-49ea03ffc729",
   "metadata": {},
   "outputs": [
    {
     "data": {
      "text/plain": [
       "[1, 5]"
      ]
     },
     "execution_count": 45,
     "metadata": {},
     "output_type": "execute_result"
    }
   ],
   "source": [
    "nestedList[:2]   #stop index kullanımı"
   ]
  },
  {
   "cell_type": "code",
   "execution_count": 46,
   "id": "fc763667-1516-4783-9b82-82c8c67ca454",
   "metadata": {},
   "outputs": [
    {
     "data": {
      "text/plain": [
       "list"
      ]
     },
     "execution_count": 46,
     "metadata": {},
     "output_type": "execute_result"
    }
   ],
   "source": [
    "type(nestedList[:2])"
   ]
  },
  {
   "cell_type": "code",
   "execution_count": 47,
   "id": "26cadf20-a286-426f-a17a-d4d461e0ec46",
   "metadata": {},
   "outputs": [
    {
     "data": {
      "text/plain": [
       "str"
      ]
     },
     "execution_count": 47,
     "metadata": {},
     "output_type": "execute_result"
    }
   ],
   "source": [
    "type(nestedList[2])"
   ]
  },
  {
   "cell_type": "code",
   "execution_count": null,
   "id": "8c74d4c4-bf02-4e19-8a67-9fe4d73b4bf4",
   "metadata": {},
   "outputs": [],
   "source": []
  }
 ],
 "metadata": {
  "kernelspec": {
   "display_name": "Python 3 (ipykernel)",
   "language": "python",
   "name": "python3"
  },
  "language_info": {
   "codemirror_mode": {
    "name": "ipython",
    "version": 3
   },
   "file_extension": ".py",
   "mimetype": "text/x-python",
   "name": "python",
   "nbconvert_exporter": "python",
   "pygments_lexer": "ipython3",
   "version": "3.13.0"
  }
 },
 "nbformat": 4,
 "nbformat_minor": 5
}
