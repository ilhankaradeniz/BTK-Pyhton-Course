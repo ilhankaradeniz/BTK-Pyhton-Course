{
 "cells": [
  {
   "cell_type": "code",
   "execution_count": null,
   "id": "6202af76-58b6-4549-b577-5fcba00aa068",
   "metadata": {},
   "outputs": [],
   "source": [
    "pd.read_excel('excel_file.xlsx')\n",
    "pd.read_csv('csv_file.csv')"
   ]
  },
  {
   "cell_type": "markdown",
   "id": "0ba72f3a-a6d0-4918-ae51-00c947df2f8c",
   "metadata": {},
   "source": [
    ".to_excel()  excel dosyasına göndermek icin                                                                    \n",
    ".to_csv()    csv dosyasına göndermek icin"
   ]
  },
  {
   "cell_type": "code",
   "execution_count": null,
   "id": "d8e74c42-76ac-4e2a-bfed-f50747a53eae",
   "metadata": {},
   "outputs": [],
   "source": []
  }
 ],
 "metadata": {
  "kernelspec": {
   "display_name": "Python 3 (ipykernel)",
   "language": "python",
   "name": "python3"
  },
  "language_info": {
   "codemirror_mode": {
    "name": "ipython",
    "version": 3
   },
   "file_extension": ".py",
   "mimetype": "text/x-python",
   "name": "python",
   "nbconvert_exporter": "python",
   "pygments_lexer": "ipython3",
   "version": "3.13.0"
  }
 },
 "nbformat": 4,
 "nbformat_minor": 5
}
