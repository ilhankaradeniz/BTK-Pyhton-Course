{
 "cells": [
  {
   "cell_type": "code",
   "execution_count": 7,
   "id": "07ce916b-61e8-4a34-8fb0-2d1edfd08c92",
   "metadata": {},
   "outputs": [
    {
     "name": "stdout",
     "output_type": "stream",
     "text": [
      "Welcome Stone Age Calculator\n"
     ]
    },
    {
     "name": "stdin",
     "output_type": "stream",
     "text": [
      "Please enter '0' to end the program calculator, to continue enter '1': 1\n",
      "Please enter the first number: 123\n",
      "Please enter the second number: 12\n",
      "Please enter the operation +-*/ : -\n"
     ]
    },
    {
     "name": "stdout",
     "output_type": "stream",
     "text": [
      "123.0 - 12.0 = 111.0\n"
     ]
    },
    {
     "name": "stdin",
     "output_type": "stream",
     "text": [
      "Please enter '0' to end the program calculator, to continue enter '1': 0\n"
     ]
    },
    {
     "name": "stdout",
     "output_type": "stream",
     "text": [
      "The calculator is finishing...\n"
     ]
    }
   ],
   "source": [
    "def hesapla(number1, number2, operation):\n",
    "\n",
    "    if operation not in \"+-*/\":\n",
    "        return \"Invalid opeartion! Please select one of them +-*/\"\n",
    "        \n",
    "    if operation == \"+\":\n",
    "        return (f\"{number1} + {number2} = {number1 + number2}\")\n",
    "    elif operation == \"-\":\n",
    "        return (f\"{number1} - {number2} = {number1 - number2}\")\n",
    "    elif operation == \"*\":\n",
    "        return (f\"{number1} * {number2} = {number1 * number2}\")\n",
    "    elif operation == \"/\":\n",
    "        return (f\"{number1} / {number2} = {number1 / number2}\")\n",
    "\n",
    "\n",
    "print(\"Welcome Stone Age Calculator\")\n",
    "\n",
    "\n",
    "while int(input(\"Please enter '0' to end the program calculator, to continue enter '1':\")) == 1:\n",
    "\n",
    "    try:\n",
    "        number1 = float(input(\"Please enter the first number:\"))\n",
    "        number2 = float(input(\"Please enter the second number:\"))\n",
    "        operation = input(\"Please enter the operation +-*/ :\")\n",
    "        print(hesapla(number1, number2, operation))\n",
    "        \n",
    "    except:\n",
    "        print(\"Please enter valid number value!\")\n",
    "print(\"The calculator is finishing...\")"
   ]
  },
  {
   "cell_type": "code",
   "execution_count": null,
   "id": "c142fa06-0dbf-4945-b441-aa54c141b00a",
   "metadata": {},
   "outputs": [],
   "source": []
  }
 ],
 "metadata": {
  "kernelspec": {
   "display_name": "Python 3 (ipykernel)",
   "language": "python",
   "name": "python3"
  },
  "language_info": {
   "codemirror_mode": {
    "name": "ipython",
    "version": 3
   },
   "file_extension": ".py",
   "mimetype": "text/x-python",
   "name": "python",
   "nbconvert_exporter": "python",
   "pygments_lexer": "ipython3",
   "version": "3.13.0"
  }
 },
 "nbformat": 4,
 "nbformat_minor": 5
}
