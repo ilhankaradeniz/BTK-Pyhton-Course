{
 "cells": [
  {
   "cell_type": "markdown",
   "id": "da219a44-3bd1-4406-baf0-f13d65b6caa7",
   "metadata": {},
   "source": [
    "# For Statements"
   ]
  },
  {
   "cell_type": "code",
   "execution_count": 1,
   "id": "47ce8cbc-2c1b-4e15-9b20-561305816355",
   "metadata": {},
   "outputs": [],
   "source": [
    "benimListem = [10, 20, 30, 40, 50]"
   ]
  },
  {
   "cell_type": "code",
   "execution_count": 2,
   "id": "cd627ad0-5584-4a6d-82a5-4aefe5ec342a",
   "metadata": {},
   "outputs": [
    {
     "name": "stdout",
     "output_type": "stream",
     "text": [
      "evet listede mevcut\n"
     ]
    }
   ],
   "source": [
    "if 10 in benimListem:\n",
    "    print(\"evet listede mevcut\")"
   ]
  },
  {
   "cell_type": "code",
   "execution_count": 4,
   "id": "e6df6636-98e4-4dca-805b-1cf2a609a8ff",
   "metadata": {},
   "outputs": [
    {
     "data": {
      "text/plain": [
       "16.666666666666668"
      ]
     },
     "execution_count": 4,
     "metadata": {},
     "output_type": "execute_result"
    }
   ],
   "source": [
    "benimListem[0] * 5 / 3 "
   ]
  },
  {
   "cell_type": "code",
   "execution_count": 5,
   "id": "b1138961-de1c-4568-8dad-27ded8de014b",
   "metadata": {},
   "outputs": [
    {
     "data": {
      "text/plain": [
       "33.333333333333336"
      ]
     },
     "execution_count": 5,
     "metadata": {},
     "output_type": "execute_result"
    }
   ],
   "source": [
    "benimListem[1] * 5 / 3 "
   ]
  },
  {
   "cell_type": "code",
   "execution_count": 8,
   "id": "e3050caa-e5ee-4937-bded-ac096e0fd12f",
   "metadata": {},
   "outputs": [
    {
     "name": "stdout",
     "output_type": "stream",
     "text": [
      "döngü basladi\n",
      "numara = 10\n",
      "numara = 20\n",
      "numara = 30\n",
      "numara = 40\n",
      "numara = 50\n",
      "döngü bitti\n"
     ]
    }
   ],
   "source": [
    "print(\"döngü basladi\")\n",
    "for numara in benimListem:\n",
    "    print(\"numara = {}\".format(numara))\n",
    "print(\"döngü bitti\")"
   ]
  },
  {
   "cell_type": "code",
   "execution_count": 9,
   "id": "ddce5602-b035-4907-9454-d510ffc7f6b3",
   "metadata": {},
   "outputs": [
    {
     "name": "stdout",
     "output_type": "stream",
     "text": [
      "döngü basladi\n",
      "16.666666666666668\n",
      "33.333333333333336\n",
      "50.0\n",
      "66.66666666666667\n",
      "83.33333333333333\n",
      "döngü bitti\n"
     ]
    }
   ],
   "source": [
    "print(\"döngü basladi\")\n",
    "for numara in benimListem:\n",
    "    print(numara * 5 / 3)\n",
    "print(\"döngü bitti\")"
   ]
  },
  {
   "cell_type": "code",
   "execution_count": 11,
   "id": "0c3f3869-8e00-48c5-9bbd-a589bae51098",
   "metadata": {},
   "outputs": [
    {
     "name": "stdout",
     "output_type": "stream",
     "text": [
      "16.666666666666668\n",
      "33.333333333333336\n",
      "50.0\n",
      "66.66666666666667\n",
      "83.33333333333333\n"
     ]
    }
   ],
   "source": [
    "for number in benimListem:\n",
    "    yeniNumara = number * 5 / 3\n",
    "    print(yeniNumara)"
   ]
  },
  {
   "cell_type": "code",
   "execution_count": 12,
   "id": "6a1be1e8-2d87-471d-8853-428061c6cbac",
   "metadata": {},
   "outputs": [],
   "source": [
    "yeniListe = [1, 2, 3, 4, 5, 6]"
   ]
  },
  {
   "cell_type": "code",
   "execution_count": 14,
   "id": "1e9f8c15-b3b8-488b-bd87-e6386ff83f06",
   "metadata": {},
   "outputs": [
    {
     "name": "stdout",
     "output_type": "stream",
     "text": [
      "2 divisible by 2\n",
      "4 divisible by 2\n",
      "6 divisible by 2\n"
     ]
    }
   ],
   "source": [
    "for rakam in yeniListe:\n",
    "    if rakam % 2 == 0:\n",
    "        print(\"{} divisible by 2\".format(rakam))"
   ]
  },
  {
   "cell_type": "code",
   "execution_count": 15,
   "id": "c2174493-b484-4318-a9a5-e2b8518601d3",
   "metadata": {},
   "outputs": [],
   "source": [
    "yeniString = \"ilhan karadeniz\""
   ]
  },
  {
   "cell_type": "code",
   "execution_count": 21,
   "id": "67b68b9b-8f4f-4af5-aa53-00f776637069",
   "metadata": {},
   "outputs": [
    {
     "name": "stdout",
     "output_type": "stream",
     "text": [
      "i\n",
      "l\n",
      "h\n",
      "a\n",
      "n\n",
      " \n",
      "k\n",
      "a\n",
      "r\n",
      "a\n",
      "d\n",
      "e\n",
      "n\n",
      "i\n",
      "z\n"
     ]
    }
   ],
   "source": [
    "for harf in yeniString:\n",
    "    print(harf)"
   ]
  },
  {
   "cell_type": "code",
   "execution_count": 22,
   "id": "aa63aa20-72c2-4c69-805d-c75de67d176d",
   "metadata": {},
   "outputs": [
    {
     "name": "stdout",
     "output_type": "stream",
     "text": [
      "i l h a n   k a r a d e n i z "
     ]
    }
   ],
   "source": [
    "for harf in yeniString:          \n",
    "    print(harf, end=\" \")"
   ]
  },
  {
   "cell_type": "code",
   "execution_count": 23,
   "id": "577bce31-d8c6-48a0-9da4-ff199edff898",
   "metadata": {},
   "outputs": [],
   "source": [
    "benimTuple = (1, 2, 3, 4, 5)"
   ]
  },
  {
   "cell_type": "code",
   "execution_count": 26,
   "id": "2e2a66c8-d374-46c8-b567-b84ddccee1a3",
   "metadata": {},
   "outputs": [
    {
     "name": "stdout",
     "output_type": "stream",
     "text": [
      "-9\n",
      "-8\n",
      "-7\n",
      "-6\n",
      "-5\n"
     ]
    }
   ],
   "source": [
    "for eleman in benimTuple:\n",
    "    print(eleman-10)"
   ]
  },
  {
   "cell_type": "code",
   "execution_count": 27,
   "id": "e990ec8f-2747-4d83-a72c-fb469e5906cf",
   "metadata": {},
   "outputs": [],
   "source": [
    "koordinatListesi = [(10.2, 15.2), (32.4, 16.2), (40.2, 20.2)]"
   ]
  },
  {
   "cell_type": "code",
   "execution_count": 29,
   "id": "a6c11b67-0e0c-4baa-bde1-a22fd7420817",
   "metadata": {},
   "outputs": [
    {
     "data": {
      "text/plain": [
       "tuple"
      ]
     },
     "execution_count": 29,
     "metadata": {},
     "output_type": "execute_result"
    }
   ],
   "source": [
    "type(koordinatListesi[0])"
   ]
  },
  {
   "cell_type": "code",
   "execution_count": 33,
   "id": "37c8de38-b6b4-454b-8684-3df5cef580f4",
   "metadata": {},
   "outputs": [
    {
     "name": "stdout",
     "output_type": "stream",
     "text": [
      "10.2\n",
      "32.4\n",
      "40.2\n"
     ]
    }
   ],
   "source": [
    "for adres in koordinatListesi:\n",
    "    print(adres[0])"
   ]
  },
  {
   "cell_type": "code",
   "execution_count": 35,
   "id": "b92ad905-4032-4732-bcb4-ca64c6be6dce",
   "metadata": {},
   "outputs": [
    {
     "name": "stdout",
     "output_type": "stream",
     "text": [
      "x koordinatı = 10.2 \n",
      "y koordinatı = 15.2 \n",
      "x koordinatı = 32.4 \n",
      "y koordinatı = 16.2 \n",
      "x koordinatı = 40.2 \n",
      "y koordinatı = 20.2 \n"
     ]
    }
   ],
   "source": [
    "for (x, y) in koordinatListesi:\n",
    "    print(\"x koordinatı = {} \".format(x))\n",
    "    print(\"y koordinatı = {} \".format(y))"
   ]
  },
  {
   "cell_type": "code",
   "execution_count": 36,
   "id": "96a5601b-fe21-43b7-aa80-25a7e8c6c894",
   "metadata": {},
   "outputs": [],
   "source": [
    "benimDegisikListem = [(1, 2, 3), (4, 5, 6), (7, 8, 9)]"
   ]
  },
  {
   "cell_type": "code",
   "execution_count": 37,
   "id": "8ea6140e-eeca-41ac-9a3b-88bbfca4d3f6",
   "metadata": {},
   "outputs": [
    {
     "data": {
      "text/plain": [
       "[(1, 2, 3), (4, 5, 6), (7, 8, 9)]"
      ]
     },
     "execution_count": 37,
     "metadata": {},
     "output_type": "execute_result"
    }
   ],
   "source": [
    "benimDegisikListem"
   ]
  },
  {
   "cell_type": "code",
   "execution_count": 38,
   "id": "101af78b-6dd9-4b4f-84e3-01e97f03a022",
   "metadata": {},
   "outputs": [
    {
     "name": "stdout",
     "output_type": "stream",
     "text": [
      "3\n",
      "6\n",
      "9\n"
     ]
    }
   ],
   "source": [
    "for (x, y, z) in benimDegisikListem:\n",
    "    print(z)"
   ]
  },
  {
   "cell_type": "code",
   "execution_count": 40,
   "id": "703bfc5e-e37b-499f-bd1d-e8a4e905ce3e",
   "metadata": {},
   "outputs": [],
   "source": [
    "benimDict = {\"muz\" : 150, \"portakal\" : 250, \"elma\" : 400}"
   ]
  },
  {
   "cell_type": "code",
   "execution_count": 42,
   "id": "4fcbe506-5f87-4359-828b-49d9f3f761ff",
   "metadata": {},
   "outputs": [
    {
     "data": {
      "text/plain": [
       "dict_items"
      ]
     },
     "execution_count": 42,
     "metadata": {},
     "output_type": "execute_result"
    }
   ],
   "source": [
    "type(benimDict.items())"
   ]
  },
  {
   "cell_type": "code",
   "execution_count": 47,
   "id": "7f3759c9-4a7f-44d0-916d-9f0c5f042b97",
   "metadata": {},
   "outputs": [
    {
     "name": "stdout",
     "output_type": "stream",
     "text": [
      "muz\n",
      "150\n",
      "portakal\n",
      "250\n",
      "elma\n",
      "400\n"
     ]
    }
   ],
   "source": [
    "for (anahtar, deger) in benimDict.items():\n",
    "    print(anahtar)\n",
    "    print(deger)"
   ]
  },
  {
   "cell_type": "code",
   "execution_count": null,
   "id": "ea0802a4-db49-446b-9d17-c3b03316fbc7",
   "metadata": {},
   "outputs": [],
   "source": []
  }
 ],
 "metadata": {
  "kernelspec": {
   "display_name": "Python 3 (ipykernel)",
   "language": "python",
   "name": "python3"
  },
  "language_info": {
   "codemirror_mode": {
    "name": "ipython",
    "version": 3
   },
   "file_extension": ".py",
   "mimetype": "text/x-python",
   "name": "python",
   "nbconvert_exporter": "python",
   "pygments_lexer": "ipython3",
   "version": "3.13.0"
  }
 },
 "nbformat": 4,
 "nbformat_minor": 5
}
