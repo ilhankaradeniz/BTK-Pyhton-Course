{
 "cells": [
  {
   "cell_type": "markdown",
   "id": "aa4bb0ed-1e22-489f-be2b-20e3971952eb",
   "metadata": {},
   "source": [
    "# Tuple"
   ]
  },
  {
   "cell_type": "markdown",
   "id": "6792cbfc-b952-46ce-9d02-d281446b0db5",
   "metadata": {},
   "source": [
    "listeye cok benzer, bir koleksiyondur"
   ]
  },
  {
   "cell_type": "code",
   "execution_count": 2,
   "id": "4e77473f-0757-402a-9c5e-a38022f5047d",
   "metadata": {},
   "outputs": [],
   "source": [
    "benimListem = [1, 2, \"a\", 4.5]"
   ]
  },
  {
   "cell_type": "code",
   "execution_count": 3,
   "id": "0f2265b3-0559-4731-a0ad-c4ec376cb399",
   "metadata": {},
   "outputs": [
    {
     "data": {
      "text/plain": [
       "1"
      ]
     },
     "execution_count": 3,
     "metadata": {},
     "output_type": "execute_result"
    }
   ],
   "source": [
    "benimListem[0]"
   ]
  },
  {
   "cell_type": "code",
   "execution_count": 4,
   "id": "2f8ef557-c2d9-43e3-98ca-4e3555c97f4a",
   "metadata": {},
   "outputs": [],
   "source": [
    "benimListem[0] = 100"
   ]
  },
  {
   "cell_type": "code",
   "execution_count": 5,
   "id": "75432c95-7bf3-4213-94c4-05aaa59ef2ae",
   "metadata": {},
   "outputs": [
    {
     "data": {
      "text/plain": [
       "[100, 2, 'a', 4.5]"
      ]
     },
     "execution_count": 5,
     "metadata": {},
     "output_type": "execute_result"
    }
   ],
   "source": [
    "benimListem"
   ]
  },
  {
   "cell_type": "code",
   "execution_count": 6,
   "id": "65cff0b9-2ad2-43e3-a8de-27f0b3eb6b98",
   "metadata": {},
   "outputs": [],
   "source": [
    "benimTuple = (1, 2, \"a\", 4.5)"
   ]
  },
  {
   "cell_type": "code",
   "execution_count": 7,
   "id": "64c9dd10-a03d-4dc7-bf14-ff3c04ab7e55",
   "metadata": {},
   "outputs": [
    {
     "data": {
      "text/plain": [
       "(1, 2, 'a', 4.5)"
      ]
     },
     "execution_count": 7,
     "metadata": {},
     "output_type": "execute_result"
    }
   ],
   "source": [
    "benimTuple"
   ]
  },
  {
   "cell_type": "code",
   "execution_count": 8,
   "id": "7b4281df-effb-4312-ab22-51fd695012b8",
   "metadata": {},
   "outputs": [
    {
     "data": {
      "text/plain": [
       "1"
      ]
     },
     "execution_count": 8,
     "metadata": {},
     "output_type": "execute_result"
    }
   ],
   "source": [
    "benimTuple[0]"
   ]
  },
  {
   "cell_type": "code",
   "execution_count": 9,
   "id": "c9ea330f-267f-4092-ae06-6603c096e9a4",
   "metadata": {},
   "outputs": [],
   "source": [
    "# benimTuple[2] = \"b\"   #tuplelarda veriyi sonradan değiştiremeyiz, immuteable factor"
   ]
  },
  {
   "cell_type": "markdown",
   "id": "daf2434f-acc8-45af-8bda-d97b17f2ecb5",
   "metadata": {},
   "source": [
    " bir projede liste verildiğinde listenin içindeki verinin değiştirilmesi bir \n",
    "hataya yol acabilir bunu engellemek ve listenin değiştirilebilirligini engellemek \n",
    "için tupellar kullanılır"
   ]
  },
  {
   "cell_type": "code",
   "execution_count": 10,
   "id": "46a17af3-c78b-40bc-84a8-ac5ad0b1cb3e",
   "metadata": {},
   "outputs": [
    {
     "data": {
      "text/plain": [
       "tuple"
      ]
     },
     "execution_count": 10,
     "metadata": {},
     "output_type": "execute_result"
    }
   ],
   "source": [
    "type(benimTuple)"
   ]
  },
  {
   "cell_type": "code",
   "execution_count": 11,
   "id": "a3be683f-149b-4c42-addb-903d87d63dd0",
   "metadata": {},
   "outputs": [
    {
     "data": {
      "text/plain": [
       "1"
      ]
     },
     "execution_count": 11,
     "metadata": {},
     "output_type": "execute_result"
    }
   ],
   "source": [
    "benimTuple.count(1)"
   ]
  },
  {
   "cell_type": "code",
   "execution_count": 12,
   "id": "2f7ba245-f567-443c-9d9f-5dccba2ed144",
   "metadata": {},
   "outputs": [
    {
     "data": {
      "text/plain": [
       "3"
      ]
     },
     "execution_count": 12,
     "metadata": {},
     "output_type": "execute_result"
    }
   ],
   "source": [
    "benimTuple.index(4.5)"
   ]
  },
  {
   "cell_type": "code",
   "execution_count": null,
   "id": "d2d51d40-86e3-429c-8973-7735a243e824",
   "metadata": {},
   "outputs": [],
   "source": []
  }
 ],
 "metadata": {
  "kernelspec": {
   "display_name": "Python 3 (ipykernel)",
   "language": "python",
   "name": "python3"
  },
  "language_info": {
   "codemirror_mode": {
    "name": "ipython",
    "version": 3
   },
   "file_extension": ".py",
   "mimetype": "text/x-python",
   "name": "python",
   "nbconvert_exporter": "python",
   "pygments_lexer": "ipython3",
   "version": "3.13.0"
  }
 },
 "nbformat": 4,
 "nbformat_minor": 5
}
