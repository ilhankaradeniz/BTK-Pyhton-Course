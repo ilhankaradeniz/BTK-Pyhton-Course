{
 "cells": [
  {
   "cell_type": "markdown",
   "id": "683372c2-73d0-4866-89f8-8c4f4c2f51de",
   "metadata": {},
   "source": [
    "# Sets"
   ]
  },
  {
   "cell_type": "code",
   "execution_count": 1,
   "id": "39a41ed8-80e2-4d80-a6e4-af1aacc30463",
   "metadata": {},
   "outputs": [],
   "source": [
    "benimListem = [1, 2 ,3, 1, 2, 3]"
   ]
  },
  {
   "cell_type": "code",
   "execution_count": 2,
   "id": "a132bab3-9d34-4049-89ac-aa48eff63b99",
   "metadata": {},
   "outputs": [
    {
     "data": {
      "text/plain": [
       "[1, 2, 3, 1, 2, 3]"
      ]
     },
     "execution_count": 2,
     "metadata": {},
     "output_type": "execute_result"
    }
   ],
   "source": [
    "benimListem"
   ]
  },
  {
   "cell_type": "markdown",
   "id": "fa16d000-c6ef-4b0a-861f-9534531730f3",
   "metadata": {},
   "source": [
    "set içinde bir elemandan sadece tek bir tane barındırır!!!"
   ]
  },
  {
   "cell_type": "code",
   "execution_count": 3,
   "id": "f585c38f-6022-4b2d-a618-a2dd9fc77766",
   "metadata": {},
   "outputs": [],
   "source": [
    "benimListeSetim = set(benimListem)"
   ]
  },
  {
   "cell_type": "code",
   "execution_count": 4,
   "id": "a1b1d989-3484-4bee-b10b-45a54d1125a4",
   "metadata": {},
   "outputs": [
    {
     "data": {
      "text/plain": [
       "set"
      ]
     },
     "execution_count": 4,
     "metadata": {},
     "output_type": "execute_result"
    }
   ],
   "source": [
    "type(benimListeSetim)"
   ]
  },
  {
   "cell_type": "code",
   "execution_count": 5,
   "id": "b713cd02-d227-47dd-bbc8-3efd2cf0c8f9",
   "metadata": {},
   "outputs": [
    {
     "data": {
      "text/plain": [
       "{1, 2, 3}"
      ]
     },
     "execution_count": 5,
     "metadata": {},
     "output_type": "execute_result"
    }
   ],
   "source": [
    "benimListeSetim"
   ]
  },
  {
   "cell_type": "code",
   "execution_count": 8,
   "id": "7e0d117c-0f88-44e8-8db2-4cad932a85f7",
   "metadata": {},
   "outputs": [],
   "source": [
    "benimSet = {\"a\", \"b\", \"c\", \"a\"}"
   ]
  },
  {
   "cell_type": "code",
   "execution_count": 9,
   "id": "bfd8ccdc-79a2-4c15-86a9-b43c382f3b25",
   "metadata": {},
   "outputs": [
    {
     "data": {
      "text/plain": [
       "set"
      ]
     },
     "execution_count": 9,
     "metadata": {},
     "output_type": "execute_result"
    }
   ],
   "source": [
    "type(benimSet)"
   ]
  },
  {
   "cell_type": "code",
   "execution_count": 10,
   "id": "3ac16d14-edcd-4af0-8251-910448513266",
   "metadata": {},
   "outputs": [
    {
     "data": {
      "text/plain": [
       "{'a', 'b', 'c'}"
      ]
     },
     "execution_count": 10,
     "metadata": {},
     "output_type": "execute_result"
    }
   ],
   "source": [
    "benimSet"
   ]
  },
  {
   "cell_type": "code",
   "execution_count": 11,
   "id": "e3d15020-011f-4f5a-8604-6bbae9da8de7",
   "metadata": {},
   "outputs": [],
   "source": [
    "bosListe = []"
   ]
  },
  {
   "cell_type": "code",
   "execution_count": 13,
   "id": "65e073bc-62cb-4d34-abc3-9b1530c6c54f",
   "metadata": {},
   "outputs": [
    {
     "data": {
      "text/plain": [
       "list"
      ]
     },
     "execution_count": 13,
     "metadata": {},
     "output_type": "execute_result"
    }
   ],
   "source": [
    "type(bosListe)"
   ]
  },
  {
   "cell_type": "code",
   "execution_count": 14,
   "id": "ef04525f-542f-4fda-8042-6636d24a3fe1",
   "metadata": {},
   "outputs": [
    {
     "data": {
      "text/plain": [
       "[]"
      ]
     },
     "execution_count": 14,
     "metadata": {},
     "output_type": "execute_result"
    }
   ],
   "source": [
    "bosListe"
   ]
  },
  {
   "cell_type": "code",
   "execution_count": 15,
   "id": "c05919b4-5cb6-4dba-aac6-80d0486398c7",
   "metadata": {},
   "outputs": [],
   "source": [
    "bosSet = {}"
   ]
  },
  {
   "cell_type": "code",
   "execution_count": 16,
   "id": "8fc7b63c-622d-4845-b368-81f9b9359c67",
   "metadata": {},
   "outputs": [
    {
     "data": {
      "text/plain": [
       "dict"
      ]
     },
     "execution_count": 16,
     "metadata": {},
     "output_type": "execute_result"
    }
   ],
   "source": [
    "type(bosSet)"
   ]
  },
  {
   "cell_type": "markdown",
   "id": "c58f106e-0e96-4c69-846b-e0fed60cf889",
   "metadata": {},
   "source": [
    "# Set nasıl boş tanımlanır"
   ]
  },
  {
   "cell_type": "code",
   "execution_count": 23,
   "id": "133506d2-6ad1-45c2-ba11-e0106c68a0a7",
   "metadata": {},
   "outputs": [],
   "source": [
    "benimBosSetim = set()     #bunu diğerlerinde de list() ve dict() kullanarak boş list ve dict tanımlanabilir"
   ]
  },
  {
   "cell_type": "code",
   "execution_count": 18,
   "id": "82034f6b-f0ab-4e45-9922-4827dc10e45e",
   "metadata": {},
   "outputs": [
    {
     "data": {
      "text/plain": [
       "set()"
      ]
     },
     "execution_count": 18,
     "metadata": {},
     "output_type": "execute_result"
    }
   ],
   "source": [
    "benimBosSetim"
   ]
  },
  {
   "cell_type": "code",
   "execution_count": 19,
   "id": "6cb84cf4-579e-4967-a6e0-5a3f71e748c7",
   "metadata": {},
   "outputs": [],
   "source": [
    "benimBosSetim.add(10)"
   ]
  },
  {
   "cell_type": "code",
   "execution_count": 20,
   "id": "55dcf275-977f-47df-8e79-a4a94656dc13",
   "metadata": {},
   "outputs": [],
   "source": [
    "benimBosSetim.add(10)"
   ]
  },
  {
   "cell_type": "code",
   "execution_count": 21,
   "id": "c49db5e3-c104-4bd5-ab49-f4c9262f5695",
   "metadata": {},
   "outputs": [],
   "source": [
    "benimBosSetim.add(20)"
   ]
  },
  {
   "cell_type": "code",
   "execution_count": 22,
   "id": "55cd89c3-526b-4fc2-a713-15c5ee15055a",
   "metadata": {},
   "outputs": [
    {
     "data": {
      "text/plain": [
       "{10, 20}"
      ]
     },
     "execution_count": 22,
     "metadata": {},
     "output_type": "execute_result"
    }
   ],
   "source": [
    "benimBosSetim"
   ]
  },
  {
   "cell_type": "code",
   "execution_count": 24,
   "id": "018839ac-29a7-479a-8800-b94f6102dd60",
   "metadata": {},
   "outputs": [],
   "source": [
    "benimBosListem = list()"
   ]
  },
  {
   "cell_type": "code",
   "execution_count": 25,
   "id": "de9d4466-f0f5-4f47-ad0d-f41d43c1c783",
   "metadata": {},
   "outputs": [],
   "source": [
    "benimBosListem.append(123)"
   ]
  },
  {
   "cell_type": "code",
   "execution_count": 26,
   "id": "d7809ab9-a726-4005-8966-98bd169e6ebd",
   "metadata": {},
   "outputs": [
    {
     "data": {
      "text/plain": [
       "[123]"
      ]
     },
     "execution_count": 26,
     "metadata": {},
     "output_type": "execute_result"
    }
   ],
   "source": [
    "benimBosListem"
   ]
  },
  {
   "cell_type": "code",
   "execution_count": 27,
   "id": "789ca3a1-dd9f-4e25-b6d5-b5b2e9a3de32",
   "metadata": {},
   "outputs": [],
   "source": [
    "benimBosDict = dict()"
   ]
  },
  {
   "cell_type": "code",
   "execution_count": 28,
   "id": "ae482675-1a6c-4aae-b01c-61903c3267fc",
   "metadata": {},
   "outputs": [],
   "source": [
    "benimBosDict[\"key\"] = 3213"
   ]
  },
  {
   "cell_type": "code",
   "execution_count": 29,
   "id": "db023f3c-418c-4921-8a2a-5cc741fc0962",
   "metadata": {},
   "outputs": [
    {
     "data": {
      "text/plain": [
       "{'key': 3213}"
      ]
     },
     "execution_count": 29,
     "metadata": {},
     "output_type": "execute_result"
    }
   ],
   "source": [
    "benimBosDict"
   ]
  },
  {
   "cell_type": "code",
   "execution_count": null,
   "id": "f9638395-325d-465a-b81f-cbef673f367c",
   "metadata": {},
   "outputs": [],
   "source": []
  }
 ],
 "metadata": {
  "kernelspec": {
   "display_name": "Python 3 (ipykernel)",
   "language": "python",
   "name": "python3"
  },
  "language_info": {
   "codemirror_mode": {
    "name": "ipython",
    "version": 3
   },
   "file_extension": ".py",
   "mimetype": "text/x-python",
   "name": "python",
   "nbconvert_exporter": "python",
   "pygments_lexer": "ipython3",
   "version": "3.13.0"
  }
 },
 "nbformat": 4,
 "nbformat_minor": 5
}
