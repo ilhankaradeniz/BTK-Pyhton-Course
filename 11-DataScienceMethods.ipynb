{
 "cells": [
  {
   "cell_type": "markdown",
   "id": "066b917d-ee8e-4bf8-8c79-28dcf770b9d1",
   "metadata": {},
   "source": [
    "# Useful Methods for Data Science "
   ]
  },
  {
   "cell_type": "code",
   "execution_count": 1,
   "id": "81f3f171-2cc6-4f8a-bc64-9dff6258560a",
   "metadata": {},
   "outputs": [],
   "source": [
    "benimListem = [1, 2, 3, 4, 5, 6]"
   ]
  },
  {
   "cell_type": "code",
   "execution_count": 2,
   "id": "f5f0a3e5-659d-4ba4-a886-0666104593b7",
   "metadata": {},
   "outputs": [
    {
     "name": "stdout",
     "output_type": "stream",
     "text": [
      "1\n",
      "2\n",
      "3\n",
      "4\n",
      "5\n",
      "6\n"
     ]
    }
   ],
   "source": [
    "for numara in benimListem:\n",
    "    print(numara)"
   ]
  },
  {
   "cell_type": "markdown",
   "id": "aec5f490-9c44-4502-a5bd-6bfcb3acbb5b",
   "metadata": {},
   "source": [
    "# range()"
   ]
  },
  {
   "cell_type": "code",
   "execution_count": 4,
   "id": "c71b4365-c89b-4982-ba77-ffb9bfcc1a4f",
   "metadata": {},
   "outputs": [
    {
     "data": {
      "text/plain": [
       "range(0, 15)"
      ]
     },
     "execution_count": 4,
     "metadata": {},
     "output_type": "execute_result"
    }
   ],
   "source": [
    "range(15)"
   ]
  },
  {
   "cell_type": "code",
   "execution_count": 5,
   "id": "f3f710a6-74fb-438f-8194-1fa99b7375bf",
   "metadata": {},
   "outputs": [
    {
     "data": {
      "text/plain": [
       "[0, 1, 2, 3, 4, 5, 6, 7, 8, 9, 10, 11, 12, 13, 14]"
      ]
     },
     "execution_count": 5,
     "metadata": {},
     "output_type": "execute_result"
    }
   ],
   "source": [
    "list(range(15))       #range(stop)"
   ]
  },
  {
   "cell_type": "code",
   "execution_count": 6,
   "id": "6fcc4295-6aa1-4e87-8aa2-85fd62476573",
   "metadata": {},
   "outputs": [
    {
     "data": {
      "text/plain": [
       "[1, 2, 3, 4, 5, 6, 7, 8, 9]"
      ]
     },
     "execution_count": 6,
     "metadata": {},
     "output_type": "execute_result"
    }
   ],
   "source": [
    "list(range(1, 10))     #range(start, stop)"
   ]
  },
  {
   "cell_type": "code",
   "execution_count": 7,
   "id": "4992a9eb-46a5-4b5c-a8e2-4377aad92f66",
   "metadata": {},
   "outputs": [
    {
     "data": {
      "text/plain": [
       "[5, 6, 7, 8, 9, 10, 11, 12, 13, 14, 15, 16, 17, 18, 19, 20, 21, 22, 23, 24]"
      ]
     },
     "execution_count": 7,
     "metadata": {},
     "output_type": "execute_result"
    }
   ],
   "source": [
    "list(range(5, 25))"
   ]
  },
  {
   "cell_type": "code",
   "execution_count": 8,
   "id": "938696bd-736c-48f5-8cac-f91c264215e0",
   "metadata": {},
   "outputs": [
    {
     "name": "stdout",
     "output_type": "stream",
     "text": [
      "0\n",
      "5\n",
      "10\n",
      "15\n",
      "20\n",
      "25\n",
      "30\n",
      "35\n",
      "40\n",
      "45\n",
      "50\n",
      "55\n",
      "60\n",
      "65\n",
      "70\n"
     ]
    }
   ],
   "source": [
    "for numara in list(range(15)):\n",
    "    print(numara * 5)"
   ]
  },
  {
   "cell_type": "code",
   "execution_count": 9,
   "id": "0305aaa7-a8f7-4aad-85cd-81fdabf0332f",
   "metadata": {},
   "outputs": [
    {
     "data": {
      "text/plain": [
       "[5, 9, 13, 17, 21]"
      ]
     },
     "execution_count": 9,
     "metadata": {},
     "output_type": "execute_result"
    }
   ],
   "source": [
    "list(range(5, 22, 4))     #range(start, stop, jump)"
   ]
  },
  {
   "cell_type": "markdown",
   "id": "31143e63-ed07-428f-9ba0-4ba8315c4fa0",
   "metadata": {},
   "source": [
    "# enumerate()"
   ]
  },
  {
   "cell_type": "code",
   "execution_count": 13,
   "id": "9a156b2e-4e09-4f42-8f15-4d719adfa850",
   "metadata": {},
   "outputs": [
    {
     "name": "stdout",
     "output_type": "stream",
     "text": [
      "güncel numara: 5 end= güncel index: {index}\n",
      "güncel numara: 6 end= güncel index: {index}\n",
      "güncel numara: 7 end= güncel index: {index}\n",
      "güncel numara: 8 end= güncel index: {index}\n",
      "güncel numara: 9 end= güncel index: {index}\n",
      "güncel numara: 10 end= güncel index: {index}\n",
      "güncel numara: 11 end= güncel index: {index}\n",
      "güncel numara: 12 end= güncel index: {index}\n",
      "güncel numara: 13 end= güncel index: {index}\n",
      "güncel numara: 14 end= güncel index: {index}\n"
     ]
    }
   ],
   "source": [
    "index = 0\n",
    "for numara in list(range(5 ,15)):\n",
    "    print(f\"güncel numara: {numara} güncel index: {index}\")\n",
    "    index = index + 1"
   ]
  },
  {
   "cell_type": "code",
   "execution_count": 17,
   "id": "6a086944-fc66-43db-967e-7067ee2d88fd",
   "metadata": {},
   "outputs": [
    {
     "name": "stdout",
     "output_type": "stream",
     "text": [
      "(0, 5)\n",
      "(1, 6)\n",
      "(2, 7)\n",
      "(3, 8)\n",
      "(4, 9)\n",
      "(5, 10)\n",
      "(6, 11)\n",
      "(7, 12)\n",
      "(8, 13)\n",
      "(9, 14)\n"
     ]
    }
   ],
   "source": [
    "for eleman in enumerate(list(range(5, 15))):\n",
    "    print(eleman)"
   ]
  },
  {
   "cell_type": "code",
   "execution_count": 20,
   "id": "548221f9-4e40-4f7e-8445-2125269d2922",
   "metadata": {},
   "outputs": [
    {
     "name": "stdout",
     "output_type": "stream",
     "text": [
      "0\n",
      "1\n",
      "2\n",
      "3\n",
      "4\n",
      "5\n",
      "6\n",
      "7\n",
      "8\n",
      "9\n"
     ]
    }
   ],
   "source": [
    "for (index, numara) in enumerate(list(range(5, 15))):\n",
    "    print(index)"
   ]
  },
  {
   "cell_type": "code",
   "execution_count": 21,
   "id": "d2af9ca1-e9ff-4d9d-af46-3f1e03cf251c",
   "metadata": {},
   "outputs": [
    {
     "name": "stdout",
     "output_type": "stream",
     "text": [
      "5\n",
      "6\n",
      "7\n",
      "8\n",
      "9\n",
      "10\n",
      "11\n",
      "12\n",
      "13\n",
      "14\n"
     ]
    }
   ],
   "source": [
    "for (index, numara) in enumerate(list(range(5, 15))):\n",
    "    print(numara)"
   ]
  },
  {
   "cell_type": "markdown",
   "id": "8e7d335b-0f1c-4fba-b7e1-82249f630626",
   "metadata": {},
   "source": [
    "# random"
   ]
  },
  {
   "cell_type": "code",
   "execution_count": 24,
   "id": "04ff4582-9d51-404e-a212-76bc18ad289f",
   "metadata": {},
   "outputs": [
    {
     "data": {
      "text/plain": [
       "1"
      ]
     },
     "execution_count": 24,
     "metadata": {},
     "output_type": "execute_result"
    }
   ],
   "source": [
    "from random import randint    #we defined the library"
   ]
  },
  {
   "cell_type": "code",
   "execution_count": 26,
   "id": "1358b8bd-1656-439d-8edb-18ba23ad70bb",
   "metadata": {},
   "outputs": [
    {
     "data": {
      "text/plain": [
       "6"
      ]
     },
     "execution_count": 26,
     "metadata": {},
     "output_type": "execute_result"
    }
   ],
   "source": [
    "randint(0 ,10)"
   ]
  },
  {
   "cell_type": "code",
   "execution_count": 27,
   "id": "905d528b-9eff-419b-92cd-29f346496865",
   "metadata": {},
   "outputs": [],
   "source": [
    "yeniListe = list(range(0 ,10))"
   ]
  },
  {
   "cell_type": "code",
   "execution_count": 28,
   "id": "93fe1c9a-749e-4509-bf61-f6f28391b784",
   "metadata": {},
   "outputs": [
    {
     "data": {
      "text/plain": [
       "[0, 1, 2, 3, 4, 5, 6, 7, 8, 9]"
      ]
     },
     "execution_count": 28,
     "metadata": {},
     "output_type": "execute_result"
    }
   ],
   "source": [
    "yeniListe"
   ]
  },
  {
   "cell_type": "code",
   "execution_count": 29,
   "id": "afa5b759-2989-40c4-87d5-7af823e1c6bd",
   "metadata": {},
   "outputs": [
    {
     "data": {
      "text/plain": [
       "7"
      ]
     },
     "execution_count": 29,
     "metadata": {},
     "output_type": "execute_result"
    }
   ],
   "source": [
    "yeniListe[randint(0, 9)]"
   ]
  },
  {
   "cell_type": "code",
   "execution_count": 30,
   "id": "c463495b-1643-4aa9-8905-ee54cdcdd137",
   "metadata": {},
   "outputs": [],
   "source": [
    "from random import shuffle       #shuffle listeyi karıştırır, düzenini dagitir rastgele"
   ]
  },
  {
   "cell_type": "code",
   "execution_count": 31,
   "id": "e7ea2713-73f2-408a-9fcf-f89cf7529f7a",
   "metadata": {},
   "outputs": [],
   "source": [
    "shuffle(yeniListe)"
   ]
  },
  {
   "cell_type": "code",
   "execution_count": 32,
   "id": "52e7437c-98bc-4036-9124-d86792f2f43b",
   "metadata": {},
   "outputs": [
    {
     "data": {
      "text/plain": [
       "[8, 5, 3, 2, 0, 1, 9, 7, 4, 6]"
      ]
     },
     "execution_count": 32,
     "metadata": {},
     "output_type": "execute_result"
    }
   ],
   "source": [
    "yeniListe"
   ]
  },
  {
   "cell_type": "markdown",
   "id": "6d374e4e-e851-4e2a-ba23-ba71793cea70",
   "metadata": {},
   "source": [
    "# zip()"
   ]
  },
  {
   "cell_type": "code",
   "execution_count": 35,
   "id": "820c3906-abd3-47ca-954e-c6a5e795c0ab",
   "metadata": {},
   "outputs": [],
   "source": [
    "yemekListesi = [\"muz\", \"ananas\", \"elma\"]\n",
    "kaloriListesi = [100, 200, 300]\n",
    "gunListesi = [\"pazartesi\", \"salı\", \"carsamba\"]"
   ]
  },
  {
   "cell_type": "code",
   "execution_count": 38,
   "id": "cd6abeac-50c5-482b-b9f4-f0756e7ca6d1",
   "metadata": {},
   "outputs": [],
   "source": [
    "ziplenmisListe = list(zip(yemekListesi, kaloriListesi, gunListesi))"
   ]
  },
  {
   "cell_type": "code",
   "execution_count": 39,
   "id": "f0f4e65f-bbb5-4e12-b68b-c3da79b78455",
   "metadata": {},
   "outputs": [
    {
     "data": {
      "text/plain": [
       "[('muz', 100, 'pazartesi'), ('ananas', 200, 'salı'), ('elma', 300, 'carsamba')]"
      ]
     },
     "execution_count": 39,
     "metadata": {},
     "output_type": "execute_result"
    }
   ],
   "source": [
    "ziplenmisListe"
   ]
  },
  {
   "cell_type": "code",
   "execution_count": 40,
   "id": "827b79e5-728b-4a6a-b2a4-a2da8c319c43",
   "metadata": {},
   "outputs": [
    {
     "name": "stdout",
     "output_type": "stream",
     "text": [
      "<class 'tuple'>\n",
      "<class 'tuple'>\n",
      "<class 'tuple'>\n"
     ]
    }
   ],
   "source": [
    "for eleman in ziplenmisListe:\n",
    "    print(type(eleman))"
   ]
  },
  {
   "cell_type": "markdown",
   "id": "05b58be0-73c4-4db2-84e6-c8f34eabc86d",
   "metadata": {},
   "source": [
    "# Listeler İleri Seviye"
   ]
  },
  {
   "cell_type": "code",
   "execution_count": 41,
   "id": "a5b43ef5-df3e-4df6-81d4-bf01b1cddba5",
   "metadata": {},
   "outputs": [],
   "source": [
    "listeOrnegi = []\n",
    "benimString = \"ilhan karadeniz\"\n",
    "\n",
    "for harf in benimString:\n",
    "    listeOrnegi.append(harf)"
   ]
  },
  {
   "cell_type": "code",
   "execution_count": 43,
   "id": "3219c13d-ff90-4048-b320-dd45152418f8",
   "metadata": {},
   "outputs": [],
   "source": [
    "yeniString = \"ilhan karadeniz\""
   ]
  },
  {
   "cell_type": "code",
   "execution_count": 45,
   "id": "9455b050-51db-44d1-bc06-041acbd51ef0",
   "metadata": {},
   "outputs": [],
   "source": [
    "yeniListeOrnegi = [eleman for eleman in yeniString]"
   ]
  },
  {
   "cell_type": "code",
   "execution_count": 46,
   "id": "201bbc45-51a4-46f5-afdd-07f98cb1d147",
   "metadata": {},
   "outputs": [
    {
     "data": {
      "text/plain": [
       "['i', 'l', 'h', 'a', 'n', ' ', 'k', 'a', 'r', 'a', 'd', 'e', 'n', 'i', 'z']"
      ]
     },
     "execution_count": 46,
     "metadata": {},
     "output_type": "execute_result"
    }
   ],
   "source": [
    "yeniListeOrnegi"
   ]
  },
  {
   "cell_type": "code",
   "execution_count": 48,
   "id": "80b4cd1a-bbdd-4abd-b31a-7f92eea725ac",
   "metadata": {},
   "outputs": [],
   "source": [
    "ikinciListeOrnegi = [numara * 5 for numara in list(range(0 , 10))]     #[\"listeye eklenen eleman\" for  \"sırası gelen eleman\" in list(range(0, 9))]"
   ]
  },
  {
   "cell_type": "code",
   "execution_count": 49,
   "id": "bf415896-e8c0-4281-8ce8-d706aa5a91fd",
   "metadata": {},
   "outputs": [
    {
     "data": {
      "text/plain": [
       "[0, 5, 10, 15, 20, 25, 30, 35, 40, 45]"
      ]
     },
     "execution_count": 49,
     "metadata": {},
     "output_type": "execute_result"
    }
   ],
   "source": [
    "ikinciListeOrnegi"
   ]
  },
  {
   "cell_type": "code",
   "execution_count": 50,
   "id": "173b2ee8-c15d-4bcf-8dd9-55d6b654faf5",
   "metadata": {},
   "outputs": [],
   "source": [
    "ucuncuListeOrnegi = [numara ** 5 for numara in list(range(0 , 10))]"
   ]
  },
  {
   "cell_type": "code",
   "execution_count": 51,
   "id": "9e6ada42-2953-49ca-888a-751ea509e07c",
   "metadata": {},
   "outputs": [
    {
     "data": {
      "text/plain": [
       "[0, 1, 32, 243, 1024, 3125, 7776, 16807, 32768, 59049]"
      ]
     },
     "execution_count": 51,
     "metadata": {},
     "output_type": "execute_result"
    }
   ],
   "source": [
    "ucuncuListeOrnegi"
   ]
  },
  {
   "cell_type": "code",
   "execution_count": null,
   "id": "41a85729-d074-4c22-8513-73041f5e6918",
   "metadata": {},
   "outputs": [],
   "source": []
  }
 ],
 "metadata": {
  "kernelspec": {
   "display_name": "Python 3 (ipykernel)",
   "language": "python",
   "name": "python3"
  },
  "language_info": {
   "codemirror_mode": {
    "name": "ipython",
    "version": 3
   },
   "file_extension": ".py",
   "mimetype": "text/x-python",
   "name": "python",
   "nbconvert_exporter": "python",
   "pygments_lexer": "ipython3",
   "version": "3.13.0"
  }
 },
 "nbformat": 4,
 "nbformat_minor": 5
}
