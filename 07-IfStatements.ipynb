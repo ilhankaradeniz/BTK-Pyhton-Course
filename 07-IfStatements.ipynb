{
 "cells": [
  {
   "cell_type": "code",
   "execution_count": 1,
   "id": "eae9295b-12f4-4ce0-a2f2-94980f61bac2",
   "metadata": {},
   "outputs": [
    {
     "data": {
      "text/plain": [
       "True"
      ]
     },
     "execution_count": 1,
     "metadata": {},
     "output_type": "execute_result"
    }
   ],
   "source": [
    "3 > 1"
   ]
  },
  {
   "cell_type": "code",
   "execution_count": 7,
   "id": "5a0976bf-2560-4827-b35e-21f6bc9cf486",
   "metadata": {},
   "outputs": [
    {
     "name": "stdout",
     "output_type": "stream",
     "text": [
      "ilhan\n",
      "koşulun dışında\n"
     ]
    }
   ],
   "source": [
    "if 3 > 1:\n",
    "    print(\"ilhan\")\n",
    "print(\"koşulun dışında\")"
   ]
  },
  {
   "cell_type": "code",
   "execution_count": 8,
   "id": "3fc433ee-d6ab-4874-ad32-067c09a6b5ce",
   "metadata": {},
   "outputs": [
    {
     "name": "stdout",
     "output_type": "stream",
     "text": [
      "kosulun dısında\n"
     ]
    }
   ],
   "source": [
    "if 3 > 4:\n",
    "    print(\"karadeniz\")\n",
    "print(\"kosulun dısında\")"
   ]
  },
  {
   "cell_type": "code",
   "execution_count": 9,
   "id": "a14c6fd9-2d66-4dcc-bd95-539ced46a0b4",
   "metadata": {},
   "outputs": [
    {
     "name": "stdout",
     "output_type": "stream",
     "text": [
      "ilhan\n"
     ]
    }
   ],
   "source": [
    "if 3 > 1:\n",
    "    print(\"ilhan\")\n",
    "else:\n",
    "    print(\"karadeniz\")"
   ]
  },
  {
   "cell_type": "code",
   "execution_count": 10,
   "id": "4f7b90cc-952f-4ecf-b63b-70af3bce8f88",
   "metadata": {},
   "outputs": [
    {
     "name": "stdout",
     "output_type": "stream",
     "text": [
      "karadeniz\n"
     ]
    }
   ],
   "source": [
    "if 3 > 4:\n",
    "    print(\"ilhan\")\n",
    "else:\n",
    "    print(\"karadeniz\")"
   ]
  },
  {
   "cell_type": "code",
   "execution_count": 24,
   "id": "00c7fe8c-2124-435b-8794-439358e968f0",
   "metadata": {},
   "outputs": [],
   "source": [
    "x = 5"
   ]
  },
  {
   "cell_type": "code",
   "execution_count": 25,
   "id": "2fa4c765-2225-4e03-a7d6-deaea1b0ff09",
   "metadata": {},
   "outputs": [],
   "source": [
    "y = 4"
   ]
  },
  {
   "cell_type": "code",
   "execution_count": 26,
   "id": "4f9b89e0-8ce8-4386-a0f3-276cb1dcafbc",
   "metadata": {},
   "outputs": [
    {
     "name": "stdout",
     "output_type": "stream",
     "text": [
      "x, y'den daha buyuktur\n"
     ]
    }
   ],
   "source": [
    "if x > y:\n",
    "    print(\"x, y'den daha buyuktur\")\n",
    "elif y > x:\n",
    "    print(\"y, x'den daha buyuktur\")\n",
    "elif x == y:\n",
    "    print(\"x ve y birbirine esittir\")\n"
   ]
  },
  {
   "cell_type": "code",
   "execution_count": 29,
   "id": "a400b972-b828-457e-a06e-b8512cbe09d1",
   "metadata": {},
   "outputs": [],
   "source": [
    "a = 3 \n",
    "b = 4"
   ]
  },
  {
   "cell_type": "code",
   "execution_count": 31,
   "id": "bde999bc-f6bc-49a3-b46f-54cfac57796b",
   "metadata": {},
   "outputs": [
    {
     "name": "stdout",
     "output_type": "stream",
     "text": [
      "b, a'dan daha buyuktur\n"
     ]
    }
   ],
   "source": [
    "if a > b:\n",
    "    print(\"a, b'den daha buyuktur\")\n",
    "else:\n",
    "    print(\"b, a'dan daha buyuktur\")\n"
   ]
  },
  {
   "cell_type": "code",
   "execution_count": 37,
   "id": "e32d2ab6-0cad-4af4-8aa8-25f0c1768e4a",
   "metadata": {},
   "outputs": [
    {
     "name": "stdin",
     "output_type": "stream",
     "text": [
      "Super kahraman seciniz: ilhan\n"
     ]
    }
   ],
   "source": [
    "benimKahramanım = input(\"Super kahraman seciniz:\")"
   ]
  },
  {
   "cell_type": "code",
   "execution_count": 38,
   "id": "55e81085-ee8c-4bd7-a6ae-092ae9033922",
   "metadata": {},
   "outputs": [
    {
     "name": "stdout",
     "output_type": "stream",
     "text": [
      "kral bu kim? pardon KRAL'mış...\n"
     ]
    }
   ],
   "source": [
    "if benimKahramanım == \"batman\":\n",
    "    print(\"Batman'i sectiniz...\")\n",
    "elif benimKahramanım == \"superman\":\n",
    "    print(\"superman'i sectiniz...\")\n",
    "elif benimKahramanım == \"ıronman\":\n",
    "    print(\"ıron man öldü...\")\n",
    "else:\n",
    "    print(\"kral bu kim? pardon KRAL'mış...\")\n",
    "    "
   ]
  },
  {
   "cell_type": "code",
   "execution_count": 40,
   "id": "ae86cf90-d3ae-4426-9e18-c129551fcda2",
   "metadata": {},
   "outputs": [],
   "source": [
    "a = 10\n",
    "b = 20 \n",
    "c = 30"
   ]
  },
  {
   "cell_type": "code",
   "execution_count": 42,
   "id": "90d211ba-f412-4e8c-8e50-a6d06fb6605f",
   "metadata": {},
   "outputs": [
    {
     "name": "stdout",
     "output_type": "stream",
     "text": [
      "a, b'den kücük VE b de c'den kücük\n"
     ]
    }
   ],
   "source": [
    "if a > b and b > c:\n",
    "    print(\"a, b'den büyük VE b de c'den büyük\")\n",
    "elif a < b and b < c:\n",
    "    print(\"a, b'den kücük VE b de c'den kücük\")\n",
    "else:\n",
    "    print(\"koşul dışı...\")"
   ]
  },
  {
   "cell_type": "code",
   "execution_count": 43,
   "id": "0e8fc0e3-0505-4aa3-9354-30ce3c58fd18",
   "metadata": {},
   "outputs": [],
   "source": [
    "m = 10\n",
    "k = 4 \n",
    "l = 1"
   ]
  },
  {
   "cell_type": "code",
   "execution_count": 45,
   "id": "57935108-abba-4313-af20-7343592c2981",
   "metadata": {},
   "outputs": [
    {
     "name": "stdout",
     "output_type": "stream",
     "text": [
      "calısacak mı gorelim?\n"
     ]
    }
   ],
   "source": [
    "if m > k or k < l:\n",
    "    print(\"calısacak mı gorelim?\")"
   ]
  },
  {
   "cell_type": "code",
   "execution_count": 63,
   "id": "3c715889-6cb2-4737-b0dc-087a4baa2131",
   "metadata": {},
   "outputs": [],
   "source": [
    "karakterCanli = False"
   ]
  },
  {
   "cell_type": "code",
   "execution_count": 64,
   "id": "3ec5c066-855f-4b70-bc53-db07fa67acc4",
   "metadata": {},
   "outputs": [
    {
     "name": "stdout",
     "output_type": "stream",
     "text": [
      "karakter yasamıyor\n"
     ]
    }
   ],
   "source": [
    "if karakterCanli == True:\n",
    "    print(\"karakter yasıyor\")\n",
    "else:\n",
    "    print(\"karakter yasamıyor\")"
   ]
  },
  {
   "cell_type": "code",
   "execution_count": 65,
   "id": "5900d031-c764-4fa7-b214-0322c1ee2a4b",
   "metadata": {},
   "outputs": [
    {
     "name": "stdout",
     "output_type": "stream",
     "text": [
      "karakter yasamıyor\n"
     ]
    }
   ],
   "source": [
    "if karakterCanli:\n",
    "    print(\"karakter yasıyor\")\n",
    "else:\n",
    "    print(\"karakter yasamıyor\")"
   ]
  },
  {
   "cell_type": "code",
   "execution_count": 66,
   "id": "65d297d2-50c1-4966-9ab1-97b60017061f",
   "metadata": {},
   "outputs": [
    {
     "name": "stdout",
     "output_type": "stream",
     "text": [
      "karakter yasamıyor\n"
     ]
    }
   ],
   "source": [
    "if not karakterCanli:\n",
    "    print(\"karakter yasamıyor\")"
   ]
  },
  {
   "cell_type": "code",
   "execution_count": 69,
   "id": "3d972bbb-592f-451e-9335-553c882c0418",
   "metadata": {},
   "outputs": [],
   "source": [
    "benimString = \"İlhan Karadeniz\""
   ]
  },
  {
   "cell_type": "code",
   "execution_count": 71,
   "id": "1ffd6870-64bf-491b-aeb2-98278bee1d34",
   "metadata": {},
   "outputs": [
    {
     "name": "stdout",
     "output_type": "stream",
     "text": [
      "esit degilmis\n"
     ]
    }
   ],
   "source": [
    "if benimString == \"ilhan karadeniz\":    #karakter büyük-küçük duyarlılıgı mevcut\n",
    "    print(\"esitmis\")\n",
    "else:\n",
    "    print(\"esit degilmis\")"
   ]
  },
  {
   "cell_type": "code",
   "execution_count": 73,
   "id": "f6423547-0e89-429c-a800-a54733ee44e4",
   "metadata": {},
   "outputs": [
    {
     "name": "stdout",
     "output_type": "stream",
     "text": [
      "varmıs\n"
     ]
    }
   ],
   "source": [
    "if \"Karadeniz\" in benimString:\n",
    "    print(\"varmıs\")\n",
    "else:\n",
    "    print(\"yokmus\")"
   ]
  },
  {
   "cell_type": "code",
   "execution_count": 75,
   "id": "0b3572ea-4b52-451e-8b67-c100a0659a56",
   "metadata": {},
   "outputs": [
    {
     "name": "stdout",
     "output_type": "stream",
     "text": [
      "varmıs\n"
     ]
    }
   ],
   "source": [
    "if \"ara\" in benimString:\n",
    "    print(\"varmıs\")\n",
    "else:\n",
    "    print(\"yokmus\")"
   ]
  },
  {
   "cell_type": "code",
   "execution_count": 76,
   "id": "6c6a8a84-e2df-4ec6-b9e6-18a75a22fe31",
   "metadata": {},
   "outputs": [],
   "source": [
    "benimListem = [10, 20, 30, 40, 50]"
   ]
  },
  {
   "cell_type": "code",
   "execution_count": 77,
   "id": "a55c4798-de7d-415b-8508-f51b38a09ad4",
   "metadata": {},
   "outputs": [
    {
     "name": "stdout",
     "output_type": "stream",
     "text": [
      "hayır yok\n"
     ]
    }
   ],
   "source": [
    "if 60 in benimListem:\n",
    "    print(\"evet var\")\n",
    "print(\"hayır yok\")"
   ]
  },
  {
   "cell_type": "code",
   "execution_count": 78,
   "id": "8ec1a82f-49e5-41e2-93fb-fc33327c83d9",
   "metadata": {},
   "outputs": [],
   "source": [
    "benimSozluk = {\"muz\" : 100, \"elma\" : 150, \"karpuz\" : 500}"
   ]
  },
  {
   "cell_type": "code",
   "execution_count": 79,
   "id": "c2014b37-c26f-42b9-8b0b-caaeab1261c9",
   "metadata": {},
   "outputs": [
    {
     "data": {
      "text/plain": [
       "dict_keys(['muz', 'elma', 'karpuz'])"
      ]
     },
     "execution_count": 79,
     "metadata": {},
     "output_type": "execute_result"
    }
   ],
   "source": [
    "benimSozluk.keys()"
   ]
  },
  {
   "cell_type": "code",
   "execution_count": 82,
   "id": "78ed16c0-0cfb-4174-98ac-f2f2fa160161",
   "metadata": {},
   "outputs": [
    {
     "name": "stdout",
     "output_type": "stream",
     "text": [
      "varmıs\n"
     ]
    }
   ],
   "source": [
    "if \"muz\" in benimSozluk:\n",
    "    print(\"varmıs\")\n",
    "else:\n",
    "    print(\"yokmus\")"
   ]
  },
  {
   "cell_type": "code",
   "execution_count": 84,
   "id": "5f9c8345-1af8-49bc-87e8-490812b8b0cd",
   "metadata": {},
   "outputs": [
    {
     "name": "stdout",
     "output_type": "stream",
     "text": [
      "yokmus\n"
     ]
    }
   ],
   "source": [
    "if 250 in benimSozluk.values():\n",
    "    print(\"varmıs\")\n",
    "else:\n",
    "    print(\"yokmus\")"
   ]
  },
  {
   "cell_type": "code",
   "execution_count": null,
   "id": "bd7c3072-6d27-4a66-ba38-3d7277d26e6a",
   "metadata": {},
   "outputs": [],
   "source": []
  }
 ],
 "metadata": {
  "kernelspec": {
   "display_name": "Python 3 (ipykernel)",
   "language": "python",
   "name": "python3"
  },
  "language_info": {
   "codemirror_mode": {
    "name": "ipython",
    "version": 3
   },
   "file_extension": ".py",
   "mimetype": "text/x-python",
   "name": "python",
   "nbconvert_exporter": "python",
   "pygments_lexer": "ipython3",
   "version": "3.13.0"
  }
 },
 "nbformat": 4,
 "nbformat_minor": 5
}
