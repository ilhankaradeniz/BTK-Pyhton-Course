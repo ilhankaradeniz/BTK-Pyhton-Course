{
 "cells": [
  {
   "cell_type": "markdown",
   "id": "7ba56771-0142-4243-8731-48ad4ee91530",
   "metadata": {},
   "source": [
    "# DataFrame"
   ]
  },
  {
   "cell_type": "code",
   "execution_count": 1,
   "id": "6f20dc89-17a3-43d1-bde0-94bbe383eba3",
   "metadata": {},
   "outputs": [],
   "source": [
    "import pandas as pd\n",
    "import numpy as np"
   ]
  },
  {
   "cell_type": "code",
   "execution_count": 3,
   "id": "457fa326-b029-4ee5-beae-28f2f9b19649",
   "metadata": {},
   "outputs": [],
   "source": [
    "data = np.random.randn(4, 3)"
   ]
  },
  {
   "cell_type": "code",
   "execution_count": 4,
   "id": "5cfc51e8-3a08-49dc-8421-203ced5756cf",
   "metadata": {},
   "outputs": [
    {
     "data": {
      "text/plain": [
       "array([[ 0.19953183,  1.28024847,  1.33473173],\n",
       "       [-0.77286805,  0.65425204,  0.89135969],\n",
       "       [ 0.12673786, -0.35037263, -1.37366641],\n",
       "       [ 0.15793653,  0.73490566, -1.86696246]])"
      ]
     },
     "execution_count": 4,
     "metadata": {},
     "output_type": "execute_result"
    }
   ],
   "source": [
    "data"
   ]
  },
  {
   "cell_type": "code",
   "execution_count": 5,
   "id": "cbb97a7c-2a38-4fdc-bef1-9bf4be2f6617",
   "metadata": {},
   "outputs": [],
   "source": [
    "dataFrame = pd.DataFrame(data)"
   ]
  },
  {
   "cell_type": "code",
   "execution_count": 6,
   "id": "4a643ab9-8077-415a-bc0a-be09e508cfb6",
   "metadata": {},
   "outputs": [
    {
     "data": {
      "text/html": [
       "<div>\n",
       "<style scoped>\n",
       "    .dataframe tbody tr th:only-of-type {\n",
       "        vertical-align: middle;\n",
       "    }\n",
       "\n",
       "    .dataframe tbody tr th {\n",
       "        vertical-align: top;\n",
       "    }\n",
       "\n",
       "    .dataframe thead th {\n",
       "        text-align: right;\n",
       "    }\n",
       "</style>\n",
       "<table border=\"1\" class=\"dataframe\">\n",
       "  <thead>\n",
       "    <tr style=\"text-align: right;\">\n",
       "      <th></th>\n",
       "      <th>0</th>\n",
       "      <th>1</th>\n",
       "      <th>2</th>\n",
       "    </tr>\n",
       "  </thead>\n",
       "  <tbody>\n",
       "    <tr>\n",
       "      <th>0</th>\n",
       "      <td>0.199532</td>\n",
       "      <td>1.280248</td>\n",
       "      <td>1.334732</td>\n",
       "    </tr>\n",
       "    <tr>\n",
       "      <th>1</th>\n",
       "      <td>-0.772868</td>\n",
       "      <td>0.654252</td>\n",
       "      <td>0.891360</td>\n",
       "    </tr>\n",
       "    <tr>\n",
       "      <th>2</th>\n",
       "      <td>0.126738</td>\n",
       "      <td>-0.350373</td>\n",
       "      <td>-1.373666</td>\n",
       "    </tr>\n",
       "    <tr>\n",
       "      <th>3</th>\n",
       "      <td>0.157937</td>\n",
       "      <td>0.734906</td>\n",
       "      <td>-1.866962</td>\n",
       "    </tr>\n",
       "  </tbody>\n",
       "</table>\n",
       "</div>"
      ],
      "text/plain": [
       "          0         1         2\n",
       "0  0.199532  1.280248  1.334732\n",
       "1 -0.772868  0.654252  0.891360\n",
       "2  0.126738 -0.350373 -1.373666\n",
       "3  0.157937  0.734906 -1.866962"
      ]
     },
     "execution_count": 6,
     "metadata": {},
     "output_type": "execute_result"
    }
   ],
   "source": [
    "dataFrame"
   ]
  },
  {
   "cell_type": "code",
   "execution_count": 7,
   "id": "768c3079-d6a9-457a-96aa-3f39ef8425cf",
   "metadata": {},
   "outputs": [
    {
     "data": {
      "text/plain": [
       "0    0.199532\n",
       "1   -0.772868\n",
       "2    0.126738\n",
       "3    0.157937\n",
       "Name: 0, dtype: float64"
      ]
     },
     "execution_count": 7,
     "metadata": {},
     "output_type": "execute_result"
    }
   ],
   "source": [
    "dataFrame[0]"
   ]
  },
  {
   "cell_type": "code",
   "execution_count": 8,
   "id": "16bb8b70-19d2-4091-b4ca-b86707cb1370",
   "metadata": {},
   "outputs": [
    {
     "data": {
      "text/plain": [
       "pandas.core.series.Series"
      ]
     },
     "execution_count": 8,
     "metadata": {},
     "output_type": "execute_result"
    }
   ],
   "source": [
    "type(dataFrame[0])"
   ]
  },
  {
   "cell_type": "code",
   "execution_count": 9,
   "id": "67866d1c-3489-4719-a756-a4c68fb90339",
   "metadata": {},
   "outputs": [],
   "source": [
    "newDataFrame = pd.DataFrame(data, index =[\"a\", \"b\", \"c\", \"d\"], columns = [\"abc\", \"def\", \"hgı\"])"
   ]
  },
  {
   "cell_type": "code",
   "execution_count": 10,
   "id": "967ec6da-41ed-4ed5-a90b-9a2bf0907400",
   "metadata": {},
   "outputs": [
    {
     "data": {
      "text/html": [
       "<div>\n",
       "<style scoped>\n",
       "    .dataframe tbody tr th:only-of-type {\n",
       "        vertical-align: middle;\n",
       "    }\n",
       "\n",
       "    .dataframe tbody tr th {\n",
       "        vertical-align: top;\n",
       "    }\n",
       "\n",
       "    .dataframe thead th {\n",
       "        text-align: right;\n",
       "    }\n",
       "</style>\n",
       "<table border=\"1\" class=\"dataframe\">\n",
       "  <thead>\n",
       "    <tr style=\"text-align: right;\">\n",
       "      <th></th>\n",
       "      <th>abc</th>\n",
       "      <th>def</th>\n",
       "      <th>hgı</th>\n",
       "    </tr>\n",
       "  </thead>\n",
       "  <tbody>\n",
       "    <tr>\n",
       "      <th>a</th>\n",
       "      <td>0.199532</td>\n",
       "      <td>1.280248</td>\n",
       "      <td>1.334732</td>\n",
       "    </tr>\n",
       "    <tr>\n",
       "      <th>b</th>\n",
       "      <td>-0.772868</td>\n",
       "      <td>0.654252</td>\n",
       "      <td>0.891360</td>\n",
       "    </tr>\n",
       "    <tr>\n",
       "      <th>c</th>\n",
       "      <td>0.126738</td>\n",
       "      <td>-0.350373</td>\n",
       "      <td>-1.373666</td>\n",
       "    </tr>\n",
       "    <tr>\n",
       "      <th>d</th>\n",
       "      <td>0.157937</td>\n",
       "      <td>0.734906</td>\n",
       "      <td>-1.866962</td>\n",
       "    </tr>\n",
       "  </tbody>\n",
       "</table>\n",
       "</div>"
      ],
      "text/plain": [
       "        abc       def       hgı\n",
       "a  0.199532  1.280248  1.334732\n",
       "b -0.772868  0.654252  0.891360\n",
       "c  0.126738 -0.350373 -1.373666\n",
       "d  0.157937  0.734906 -1.866962"
      ]
     },
     "execution_count": 10,
     "metadata": {},
     "output_type": "execute_result"
    }
   ],
   "source": [
    "newDataFrame"
   ]
  },
  {
   "cell_type": "code",
   "execution_count": 11,
   "id": "23ca0634-d833-4850-895c-cec98172868d",
   "metadata": {},
   "outputs": [
    {
     "data": {
      "text/plain": [
       "a    1.280248\n",
       "b    0.654252\n",
       "c   -0.350373\n",
       "d    0.734906\n",
       "Name: def, dtype: float64"
      ]
     },
     "execution_count": 11,
     "metadata": {},
     "output_type": "execute_result"
    }
   ],
   "source": [
    "newDataFrame[\"def\"]"
   ]
  },
  {
   "cell_type": "code",
   "execution_count": 12,
   "id": "3e76b01e-a75b-41b9-973f-c6b93392ddd7",
   "metadata": {},
   "outputs": [
    {
     "data": {
      "text/plain": [
       "a    1.334732\n",
       "b    0.891360\n",
       "c   -1.373666\n",
       "d   -1.866962\n",
       "Name: hgı, dtype: float64"
      ]
     },
     "execution_count": 12,
     "metadata": {},
     "output_type": "execute_result"
    }
   ],
   "source": [
    "newDataFrame[\"hgı\"]"
   ]
  },
  {
   "cell_type": "code",
   "execution_count": 13,
   "id": "d18a14ba-f5bd-48a3-b6ab-42c98045475f",
   "metadata": {},
   "outputs": [
    {
     "data": {
      "text/plain": [
       "a    0.199532\n",
       "b   -0.772868\n",
       "c    0.126738\n",
       "d    0.157937\n",
       "Name: abc, dtype: float64"
      ]
     },
     "execution_count": 13,
     "metadata": {},
     "output_type": "execute_result"
    }
   ],
   "source": [
    "newDataFrame[\"abc\"]"
   ]
  },
  {
   "cell_type": "code",
   "execution_count": 14,
   "id": "ee47593b-6433-4e71-8567-ba4d5f9ca769",
   "metadata": {},
   "outputs": [
    {
     "data": {
      "text/html": [
       "<div>\n",
       "<style scoped>\n",
       "    .dataframe tbody tr th:only-of-type {\n",
       "        vertical-align: middle;\n",
       "    }\n",
       "\n",
       "    .dataframe tbody tr th {\n",
       "        vertical-align: top;\n",
       "    }\n",
       "\n",
       "    .dataframe thead th {\n",
       "        text-align: right;\n",
       "    }\n",
       "</style>\n",
       "<table border=\"1\" class=\"dataframe\">\n",
       "  <thead>\n",
       "    <tr style=\"text-align: right;\">\n",
       "      <th></th>\n",
       "      <th>abc</th>\n",
       "      <th>def</th>\n",
       "    </tr>\n",
       "  </thead>\n",
       "  <tbody>\n",
       "    <tr>\n",
       "      <th>a</th>\n",
       "      <td>0.199532</td>\n",
       "      <td>1.280248</td>\n",
       "    </tr>\n",
       "    <tr>\n",
       "      <th>b</th>\n",
       "      <td>-0.772868</td>\n",
       "      <td>0.654252</td>\n",
       "    </tr>\n",
       "    <tr>\n",
       "      <th>c</th>\n",
       "      <td>0.126738</td>\n",
       "      <td>-0.350373</td>\n",
       "    </tr>\n",
       "    <tr>\n",
       "      <th>d</th>\n",
       "      <td>0.157937</td>\n",
       "      <td>0.734906</td>\n",
       "    </tr>\n",
       "  </tbody>\n",
       "</table>\n",
       "</div>"
      ],
      "text/plain": [
       "        abc       def\n",
       "a  0.199532  1.280248\n",
       "b -0.772868  0.654252\n",
       "c  0.126738 -0.350373\n",
       "d  0.157937  0.734906"
      ]
     },
     "execution_count": 14,
     "metadata": {},
     "output_type": "execute_result"
    }
   ],
   "source": [
    "newDataFrame[[\"abc\", \"def\"]]"
   ]
  },
  {
   "cell_type": "code",
   "execution_count": 16,
   "id": "729e2e52-fcef-485d-9dee-41c904e27751",
   "metadata": {},
   "outputs": [
    {
     "data": {
      "text/plain": [
       "abc    0.199532\n",
       "def    1.280248\n",
       "hgı    1.334732\n",
       "Name: a, dtype: float64"
      ]
     },
     "execution_count": 16,
     "metadata": {},
     "output_type": "execute_result"
    }
   ],
   "source": [
    "newDataFrame.loc[\"a\"]    #row ismini baz alarak cagırı .loc['row_name']"
   ]
  },
  {
   "cell_type": "code",
   "execution_count": 17,
   "id": "b06ef1b8-30a6-4fc6-9e0c-47bfd9b1d394",
   "metadata": {},
   "outputs": [
    {
     "data": {
      "text/plain": [
       "abc    0.199532\n",
       "def    1.280248\n",
       "hgı    1.334732\n",
       "Name: a, dtype: float64"
      ]
     },
     "execution_count": 17,
     "metadata": {},
     "output_type": "execute_result"
    }
   ],
   "source": [
    "newDataFrame.iloc[0]    #index numarasını baz alarar cagırır .iloc[index_num]"
   ]
  },
  {
   "cell_type": "markdown",
   "id": "69196e48-987f-4e1a-a5b1-7a0e9a9cb6aa",
   "metadata": {},
   "source": [
    "# DataFrame Indexler"
   ]
  },
  {
   "cell_type": "code",
   "execution_count": 18,
   "id": "c9fb9e49-adab-416f-903d-82203ba1aca1",
   "metadata": {},
   "outputs": [
    {
     "data": {
      "text/html": [
       "<div>\n",
       "<style scoped>\n",
       "    .dataframe tbody tr th:only-of-type {\n",
       "        vertical-align: middle;\n",
       "    }\n",
       "\n",
       "    .dataframe tbody tr th {\n",
       "        vertical-align: top;\n",
       "    }\n",
       "\n",
       "    .dataframe thead th {\n",
       "        text-align: right;\n",
       "    }\n",
       "</style>\n",
       "<table border=\"1\" class=\"dataframe\">\n",
       "  <thead>\n",
       "    <tr style=\"text-align: right;\">\n",
       "      <th></th>\n",
       "      <th>abc</th>\n",
       "      <th>def</th>\n",
       "      <th>hgı</th>\n",
       "    </tr>\n",
       "  </thead>\n",
       "  <tbody>\n",
       "    <tr>\n",
       "      <th>a</th>\n",
       "      <td>0.199532</td>\n",
       "      <td>1.280248</td>\n",
       "      <td>1.334732</td>\n",
       "    </tr>\n",
       "    <tr>\n",
       "      <th>b</th>\n",
       "      <td>-0.772868</td>\n",
       "      <td>0.654252</td>\n",
       "      <td>0.891360</td>\n",
       "    </tr>\n",
       "    <tr>\n",
       "      <th>c</th>\n",
       "      <td>0.126738</td>\n",
       "      <td>-0.350373</td>\n",
       "      <td>-1.373666</td>\n",
       "    </tr>\n",
       "    <tr>\n",
       "      <th>d</th>\n",
       "      <td>0.157937</td>\n",
       "      <td>0.734906</td>\n",
       "      <td>-1.866962</td>\n",
       "    </tr>\n",
       "  </tbody>\n",
       "</table>\n",
       "</div>"
      ],
      "text/plain": [
       "        abc       def       hgı\n",
       "a  0.199532  1.280248  1.334732\n",
       "b -0.772868  0.654252  0.891360\n",
       "c  0.126738 -0.350373 -1.373666\n",
       "d  0.157937  0.734906 -1.866962"
      ]
     },
     "execution_count": 18,
     "metadata": {},
     "output_type": "execute_result"
    }
   ],
   "source": [
    "newDataFrame"
   ]
  },
  {
   "cell_type": "markdown",
   "id": "80465c9f-0d0b-4381-a354-a7a9154f5f72",
   "metadata": {},
   "source": [
    "# Add New Column"
   ]
  },
  {
   "cell_type": "code",
   "execution_count": 19,
   "id": "ed50fac5-968e-40a0-8608-d0cc42116aa0",
   "metadata": {},
   "outputs": [],
   "source": [
    "newDataFrame[\"klm\"] = [15, 23, 45, 12]"
   ]
  },
  {
   "cell_type": "code",
   "execution_count": 20,
   "id": "bda4c640-d315-4e36-a6bd-d92b40cbf294",
   "metadata": {},
   "outputs": [
    {
     "data": {
      "text/html": [
       "<div>\n",
       "<style scoped>\n",
       "    .dataframe tbody tr th:only-of-type {\n",
       "        vertical-align: middle;\n",
       "    }\n",
       "\n",
       "    .dataframe tbody tr th {\n",
       "        vertical-align: top;\n",
       "    }\n",
       "\n",
       "    .dataframe thead th {\n",
       "        text-align: right;\n",
       "    }\n",
       "</style>\n",
       "<table border=\"1\" class=\"dataframe\">\n",
       "  <thead>\n",
       "    <tr style=\"text-align: right;\">\n",
       "      <th></th>\n",
       "      <th>abc</th>\n",
       "      <th>def</th>\n",
       "      <th>hgı</th>\n",
       "      <th>klm</th>\n",
       "    </tr>\n",
       "  </thead>\n",
       "  <tbody>\n",
       "    <tr>\n",
       "      <th>a</th>\n",
       "      <td>0.199532</td>\n",
       "      <td>1.280248</td>\n",
       "      <td>1.334732</td>\n",
       "      <td>15</td>\n",
       "    </tr>\n",
       "    <tr>\n",
       "      <th>b</th>\n",
       "      <td>-0.772868</td>\n",
       "      <td>0.654252</td>\n",
       "      <td>0.891360</td>\n",
       "      <td>23</td>\n",
       "    </tr>\n",
       "    <tr>\n",
       "      <th>c</th>\n",
       "      <td>0.126738</td>\n",
       "      <td>-0.350373</td>\n",
       "      <td>-1.373666</td>\n",
       "      <td>45</td>\n",
       "    </tr>\n",
       "    <tr>\n",
       "      <th>d</th>\n",
       "      <td>0.157937</td>\n",
       "      <td>0.734906</td>\n",
       "      <td>-1.866962</td>\n",
       "      <td>12</td>\n",
       "    </tr>\n",
       "  </tbody>\n",
       "</table>\n",
       "</div>"
      ],
      "text/plain": [
       "        abc       def       hgı  klm\n",
       "a  0.199532  1.280248  1.334732   15\n",
       "b -0.772868  0.654252  0.891360   23\n",
       "c  0.126738 -0.350373 -1.373666   45\n",
       "d  0.157937  0.734906 -1.866962   12"
      ]
     },
     "execution_count": 20,
     "metadata": {},
     "output_type": "execute_result"
    }
   ],
   "source": [
    "newDataFrame"
   ]
  },
  {
   "cell_type": "code",
   "execution_count": 21,
   "id": "4219aab0-6d99-46b8-9cb9-24b93ceff56c",
   "metadata": {},
   "outputs": [],
   "source": [
    "newDataFrame[\"klm\"] = newDataFrame[\"def\"] + newDataFrame[\"def\"]"
   ]
  },
  {
   "cell_type": "code",
   "execution_count": 22,
   "id": "8e88d4ad-758b-4e1a-be86-b66886d7856a",
   "metadata": {},
   "outputs": [
    {
     "data": {
      "text/html": [
       "<div>\n",
       "<style scoped>\n",
       "    .dataframe tbody tr th:only-of-type {\n",
       "        vertical-align: middle;\n",
       "    }\n",
       "\n",
       "    .dataframe tbody tr th {\n",
       "        vertical-align: top;\n",
       "    }\n",
       "\n",
       "    .dataframe thead th {\n",
       "        text-align: right;\n",
       "    }\n",
       "</style>\n",
       "<table border=\"1\" class=\"dataframe\">\n",
       "  <thead>\n",
       "    <tr style=\"text-align: right;\">\n",
       "      <th></th>\n",
       "      <th>abc</th>\n",
       "      <th>def</th>\n",
       "      <th>hgı</th>\n",
       "      <th>klm</th>\n",
       "    </tr>\n",
       "  </thead>\n",
       "  <tbody>\n",
       "    <tr>\n",
       "      <th>a</th>\n",
       "      <td>0.199532</td>\n",
       "      <td>1.280248</td>\n",
       "      <td>1.334732</td>\n",
       "      <td>2.560497</td>\n",
       "    </tr>\n",
       "    <tr>\n",
       "      <th>b</th>\n",
       "      <td>-0.772868</td>\n",
       "      <td>0.654252</td>\n",
       "      <td>0.891360</td>\n",
       "      <td>1.308504</td>\n",
       "    </tr>\n",
       "    <tr>\n",
       "      <th>c</th>\n",
       "      <td>0.126738</td>\n",
       "      <td>-0.350373</td>\n",
       "      <td>-1.373666</td>\n",
       "      <td>-0.700745</td>\n",
       "    </tr>\n",
       "    <tr>\n",
       "      <th>d</th>\n",
       "      <td>0.157937</td>\n",
       "      <td>0.734906</td>\n",
       "      <td>-1.866962</td>\n",
       "      <td>1.469811</td>\n",
       "    </tr>\n",
       "  </tbody>\n",
       "</table>\n",
       "</div>"
      ],
      "text/plain": [
       "        abc       def       hgı       klm\n",
       "a  0.199532  1.280248  1.334732  2.560497\n",
       "b -0.772868  0.654252  0.891360  1.308504\n",
       "c  0.126738 -0.350373 -1.373666 -0.700745\n",
       "d  0.157937  0.734906 -1.866962  1.469811"
      ]
     },
     "execution_count": 22,
     "metadata": {},
     "output_type": "execute_result"
    }
   ],
   "source": [
    "newDataFrame"
   ]
  },
  {
   "cell_type": "markdown",
   "id": "78788a74-711c-4f71-95fb-51b46f5f49cc",
   "metadata": {},
   "source": [
    "# Delete Column"
   ]
  },
  {
   "cell_type": "code",
   "execution_count": 23,
   "id": "61d0cc98-7cac-497b-a409-39fede99cfbb",
   "metadata": {},
   "outputs": [
    {
     "data": {
      "text/html": [
       "<div>\n",
       "<style scoped>\n",
       "    .dataframe tbody tr th:only-of-type {\n",
       "        vertical-align: middle;\n",
       "    }\n",
       "\n",
       "    .dataframe tbody tr th {\n",
       "        vertical-align: top;\n",
       "    }\n",
       "\n",
       "    .dataframe thead th {\n",
       "        text-align: right;\n",
       "    }\n",
       "</style>\n",
       "<table border=\"1\" class=\"dataframe\">\n",
       "  <thead>\n",
       "    <tr style=\"text-align: right;\">\n",
       "      <th></th>\n",
       "      <th>abc</th>\n",
       "      <th>def</th>\n",
       "      <th>hgı</th>\n",
       "    </tr>\n",
       "  </thead>\n",
       "  <tbody>\n",
       "    <tr>\n",
       "      <th>a</th>\n",
       "      <td>0.199532</td>\n",
       "      <td>1.280248</td>\n",
       "      <td>1.334732</td>\n",
       "    </tr>\n",
       "    <tr>\n",
       "      <th>b</th>\n",
       "      <td>-0.772868</td>\n",
       "      <td>0.654252</td>\n",
       "      <td>0.891360</td>\n",
       "    </tr>\n",
       "    <tr>\n",
       "      <th>c</th>\n",
       "      <td>0.126738</td>\n",
       "      <td>-0.350373</td>\n",
       "      <td>-1.373666</td>\n",
       "    </tr>\n",
       "    <tr>\n",
       "      <th>d</th>\n",
       "      <td>0.157937</td>\n",
       "      <td>0.734906</td>\n",
       "      <td>-1.866962</td>\n",
       "    </tr>\n",
       "  </tbody>\n",
       "</table>\n",
       "</div>"
      ],
      "text/plain": [
       "        abc       def       hgı\n",
       "a  0.199532  1.280248  1.334732\n",
       "b -0.772868  0.654252  0.891360\n",
       "c  0.126738 -0.350373 -1.373666\n",
       "d  0.157937  0.734906 -1.866962"
      ]
     },
     "execution_count": 23,
     "metadata": {},
     "output_type": "execute_result"
    }
   ],
   "source": [
    "newDataFrame.drop(\"klm\", axis = 1)   #axis = 0 row, axis = 1 column"
   ]
  },
  {
   "cell_type": "code",
   "execution_count": 24,
   "id": "4a55bfd9-6ff5-424a-9812-eac2b2378b70",
   "metadata": {},
   "outputs": [
    {
     "data": {
      "text/html": [
       "<div>\n",
       "<style scoped>\n",
       "    .dataframe tbody tr th:only-of-type {\n",
       "        vertical-align: middle;\n",
       "    }\n",
       "\n",
       "    .dataframe tbody tr th {\n",
       "        vertical-align: top;\n",
       "    }\n",
       "\n",
       "    .dataframe thead th {\n",
       "        text-align: right;\n",
       "    }\n",
       "</style>\n",
       "<table border=\"1\" class=\"dataframe\">\n",
       "  <thead>\n",
       "    <tr style=\"text-align: right;\">\n",
       "      <th></th>\n",
       "      <th>abc</th>\n",
       "      <th>def</th>\n",
       "      <th>hgı</th>\n",
       "      <th>klm</th>\n",
       "    </tr>\n",
       "  </thead>\n",
       "  <tbody>\n",
       "    <tr>\n",
       "      <th>a</th>\n",
       "      <td>0.199532</td>\n",
       "      <td>1.280248</td>\n",
       "      <td>1.334732</td>\n",
       "      <td>2.560497</td>\n",
       "    </tr>\n",
       "    <tr>\n",
       "      <th>b</th>\n",
       "      <td>-0.772868</td>\n",
       "      <td>0.654252</td>\n",
       "      <td>0.891360</td>\n",
       "      <td>1.308504</td>\n",
       "    </tr>\n",
       "    <tr>\n",
       "      <th>c</th>\n",
       "      <td>0.126738</td>\n",
       "      <td>-0.350373</td>\n",
       "      <td>-1.373666</td>\n",
       "      <td>-0.700745</td>\n",
       "    </tr>\n",
       "  </tbody>\n",
       "</table>\n",
       "</div>"
      ],
      "text/plain": [
       "        abc       def       hgı       klm\n",
       "a  0.199532  1.280248  1.334732  2.560497\n",
       "b -0.772868  0.654252  0.891360  1.308504\n",
       "c  0.126738 -0.350373 -1.373666 -0.700745"
      ]
     },
     "execution_count": 24,
     "metadata": {},
     "output_type": "execute_result"
    }
   ],
   "source": [
    "newDataFrame.drop(\"d\", axis = 0)"
   ]
  },
  {
   "cell_type": "code",
   "execution_count": 25,
   "id": "1267563e-01c4-4e3b-a687-92bdac105ec9",
   "metadata": {},
   "outputs": [
    {
     "data": {
      "text/html": [
       "<div>\n",
       "<style scoped>\n",
       "    .dataframe tbody tr th:only-of-type {\n",
       "        vertical-align: middle;\n",
       "    }\n",
       "\n",
       "    .dataframe tbody tr th {\n",
       "        vertical-align: top;\n",
       "    }\n",
       "\n",
       "    .dataframe thead th {\n",
       "        text-align: right;\n",
       "    }\n",
       "</style>\n",
       "<table border=\"1\" class=\"dataframe\">\n",
       "  <thead>\n",
       "    <tr style=\"text-align: right;\">\n",
       "      <th></th>\n",
       "      <th>abc</th>\n",
       "      <th>def</th>\n",
       "      <th>hgı</th>\n",
       "      <th>klm</th>\n",
       "    </tr>\n",
       "  </thead>\n",
       "  <tbody>\n",
       "    <tr>\n",
       "      <th>a</th>\n",
       "      <td>0.199532</td>\n",
       "      <td>1.280248</td>\n",
       "      <td>1.334732</td>\n",
       "      <td>2.560497</td>\n",
       "    </tr>\n",
       "    <tr>\n",
       "      <th>b</th>\n",
       "      <td>-0.772868</td>\n",
       "      <td>0.654252</td>\n",
       "      <td>0.891360</td>\n",
       "      <td>1.308504</td>\n",
       "    </tr>\n",
       "    <tr>\n",
       "      <th>c</th>\n",
       "      <td>0.126738</td>\n",
       "      <td>-0.350373</td>\n",
       "      <td>-1.373666</td>\n",
       "      <td>-0.700745</td>\n",
       "    </tr>\n",
       "    <tr>\n",
       "      <th>d</th>\n",
       "      <td>0.157937</td>\n",
       "      <td>0.734906</td>\n",
       "      <td>-1.866962</td>\n",
       "      <td>1.469811</td>\n",
       "    </tr>\n",
       "  </tbody>\n",
       "</table>\n",
       "</div>"
      ],
      "text/plain": [
       "        abc       def       hgı       klm\n",
       "a  0.199532  1.280248  1.334732  2.560497\n",
       "b -0.772868  0.654252  0.891360  1.308504\n",
       "c  0.126738 -0.350373 -1.373666 -0.700745\n",
       "d  0.157937  0.734906 -1.866962  1.469811"
      ]
     },
     "execution_count": 25,
     "metadata": {},
     "output_type": "execute_result"
    }
   ],
   "source": [
    "newDataFrame   #gordugumuz gibi tekrardan cagırınca silinmemis hali cagrıldı!"
   ]
  },
  {
   "cell_type": "code",
   "execution_count": 26,
   "id": "98fb961e-dbad-4d44-9698-ef87f2febe3b",
   "metadata": {},
   "outputs": [],
   "source": [
    "newDataFrame.drop(\"klm\", axis = 1, inplace = True)"
   ]
  },
  {
   "cell_type": "code",
   "execution_count": 28,
   "id": "3b2bdec3-e2ef-42ec-b29a-6118812b307a",
   "metadata": {},
   "outputs": [
    {
     "data": {
      "text/html": [
       "<div>\n",
       "<style scoped>\n",
       "    .dataframe tbody tr th:only-of-type {\n",
       "        vertical-align: middle;\n",
       "    }\n",
       "\n",
       "    .dataframe tbody tr th {\n",
       "        vertical-align: top;\n",
       "    }\n",
       "\n",
       "    .dataframe thead th {\n",
       "        text-align: right;\n",
       "    }\n",
       "</style>\n",
       "<table border=\"1\" class=\"dataframe\">\n",
       "  <thead>\n",
       "    <tr style=\"text-align: right;\">\n",
       "      <th></th>\n",
       "      <th>abc</th>\n",
       "      <th>def</th>\n",
       "      <th>hgı</th>\n",
       "    </tr>\n",
       "  </thead>\n",
       "  <tbody>\n",
       "    <tr>\n",
       "      <th>a</th>\n",
       "      <td>0.199532</td>\n",
       "      <td>1.280248</td>\n",
       "      <td>1.334732</td>\n",
       "    </tr>\n",
       "    <tr>\n",
       "      <th>b</th>\n",
       "      <td>-0.772868</td>\n",
       "      <td>0.654252</td>\n",
       "      <td>0.891360</td>\n",
       "    </tr>\n",
       "    <tr>\n",
       "      <th>c</th>\n",
       "      <td>0.126738</td>\n",
       "      <td>-0.350373</td>\n",
       "      <td>-1.373666</td>\n",
       "    </tr>\n",
       "    <tr>\n",
       "      <th>d</th>\n",
       "      <td>0.157937</td>\n",
       "      <td>0.734906</td>\n",
       "      <td>-1.866962</td>\n",
       "    </tr>\n",
       "  </tbody>\n",
       "</table>\n",
       "</div>"
      ],
      "text/plain": [
       "        abc       def       hgı\n",
       "a  0.199532  1.280248  1.334732\n",
       "b -0.772868  0.654252  0.891360\n",
       "c  0.126738 -0.350373 -1.373666\n",
       "d  0.157937  0.734906 -1.866962"
      ]
     },
     "execution_count": 28,
     "metadata": {},
     "output_type": "execute_result"
    }
   ],
   "source": [
    "newDataFrame   #inplace = True yaparak kalıcı olarak silebiliriz"
   ]
  },
  {
   "cell_type": "code",
   "execution_count": 31,
   "id": "8ca525fd-4d8b-42c6-be40-c2535f6ff4e5",
   "metadata": {},
   "outputs": [
    {
     "data": {
      "text/plain": [
       "np.float64(1.2802484715964937)"
      ]
     },
     "execution_count": 31,
     "metadata": {},
     "output_type": "execute_result"
    }
   ],
   "source": [
    "newDataFrame.loc[\"a\"][\"def\"]"
   ]
  },
  {
   "cell_type": "code",
   "execution_count": 32,
   "id": "8c74b762-66b9-4341-a575-ad7bb2fc8985",
   "metadata": {},
   "outputs": [
    {
     "data": {
      "text/plain": [
       "np.float64(1.2802484715964937)"
      ]
     },
     "execution_count": 32,
     "metadata": {},
     "output_type": "execute_result"
    }
   ],
   "source": [
    "newDataFrame.loc[\"a\", \"def\"]"
   ]
  },
  {
   "cell_type": "code",
   "execution_count": 33,
   "id": "d455ac1b-8d31-4421-a84d-f39a01215d45",
   "metadata": {},
   "outputs": [
    {
     "data": {
      "text/html": [
       "<div>\n",
       "<style scoped>\n",
       "    .dataframe tbody tr th:only-of-type {\n",
       "        vertical-align: middle;\n",
       "    }\n",
       "\n",
       "    .dataframe tbody tr th {\n",
       "        vertical-align: top;\n",
       "    }\n",
       "\n",
       "    .dataframe thead th {\n",
       "        text-align: right;\n",
       "    }\n",
       "</style>\n",
       "<table border=\"1\" class=\"dataframe\">\n",
       "  <thead>\n",
       "    <tr style=\"text-align: right;\">\n",
       "      <th></th>\n",
       "      <th>abc</th>\n",
       "      <th>def</th>\n",
       "      <th>hgı</th>\n",
       "    </tr>\n",
       "  </thead>\n",
       "  <tbody>\n",
       "    <tr>\n",
       "      <th>a</th>\n",
       "      <td>0.199532</td>\n",
       "      <td>1.280248</td>\n",
       "      <td>1.334732</td>\n",
       "    </tr>\n",
       "    <tr>\n",
       "      <th>b</th>\n",
       "      <td>-0.772868</td>\n",
       "      <td>0.654252</td>\n",
       "      <td>0.891360</td>\n",
       "    </tr>\n",
       "    <tr>\n",
       "      <th>c</th>\n",
       "      <td>0.126738</td>\n",
       "      <td>-0.350373</td>\n",
       "      <td>-1.373666</td>\n",
       "    </tr>\n",
       "    <tr>\n",
       "      <th>d</th>\n",
       "      <td>0.157937</td>\n",
       "      <td>0.734906</td>\n",
       "      <td>-1.866962</td>\n",
       "    </tr>\n",
       "  </tbody>\n",
       "</table>\n",
       "</div>"
      ],
      "text/plain": [
       "        abc       def       hgı\n",
       "a  0.199532  1.280248  1.334732\n",
       "b -0.772868  0.654252  0.891360\n",
       "c  0.126738 -0.350373 -1.373666\n",
       "d  0.157937  0.734906 -1.866962"
      ]
     },
     "execution_count": 33,
     "metadata": {},
     "output_type": "execute_result"
    }
   ],
   "source": [
    "newDataFrame"
   ]
  },
  {
   "cell_type": "code",
   "execution_count": 35,
   "id": "163ba226-0e49-4c5d-ae4e-b870bcad2a16",
   "metadata": {},
   "outputs": [],
   "source": [
    "booleanFrame = newDataFrame < 0"
   ]
  },
  {
   "cell_type": "code",
   "execution_count": 36,
   "id": "deb418a1-3249-4119-b0f4-a7b7a62bfd10",
   "metadata": {},
   "outputs": [
    {
     "data": {
      "text/html": [
       "<div>\n",
       "<style scoped>\n",
       "    .dataframe tbody tr th:only-of-type {\n",
       "        vertical-align: middle;\n",
       "    }\n",
       "\n",
       "    .dataframe tbody tr th {\n",
       "        vertical-align: top;\n",
       "    }\n",
       "\n",
       "    .dataframe thead th {\n",
       "        text-align: right;\n",
       "    }\n",
       "</style>\n",
       "<table border=\"1\" class=\"dataframe\">\n",
       "  <thead>\n",
       "    <tr style=\"text-align: right;\">\n",
       "      <th></th>\n",
       "      <th>abc</th>\n",
       "      <th>def</th>\n",
       "      <th>hgı</th>\n",
       "    </tr>\n",
       "  </thead>\n",
       "  <tbody>\n",
       "    <tr>\n",
       "      <th>a</th>\n",
       "      <td>False</td>\n",
       "      <td>False</td>\n",
       "      <td>False</td>\n",
       "    </tr>\n",
       "    <tr>\n",
       "      <th>b</th>\n",
       "      <td>True</td>\n",
       "      <td>False</td>\n",
       "      <td>False</td>\n",
       "    </tr>\n",
       "    <tr>\n",
       "      <th>c</th>\n",
       "      <td>False</td>\n",
       "      <td>True</td>\n",
       "      <td>True</td>\n",
       "    </tr>\n",
       "    <tr>\n",
       "      <th>d</th>\n",
       "      <td>False</td>\n",
       "      <td>False</td>\n",
       "      <td>True</td>\n",
       "    </tr>\n",
       "  </tbody>\n",
       "</table>\n",
       "</div>"
      ],
      "text/plain": [
       "     abc    def    hgı\n",
       "a  False  False  False\n",
       "b   True  False  False\n",
       "c  False   True   True\n",
       "d  False  False   True"
      ]
     },
     "execution_count": 36,
     "metadata": {},
     "output_type": "execute_result"
    }
   ],
   "source": [
    "booleanFrame"
   ]
  },
  {
   "cell_type": "code",
   "execution_count": 37,
   "id": "e5d1a914-bd4b-4247-9700-fbf68e8004cc",
   "metadata": {},
   "outputs": [
    {
     "data": {
      "text/html": [
       "<div>\n",
       "<style scoped>\n",
       "    .dataframe tbody tr th:only-of-type {\n",
       "        vertical-align: middle;\n",
       "    }\n",
       "\n",
       "    .dataframe tbody tr th {\n",
       "        vertical-align: top;\n",
       "    }\n",
       "\n",
       "    .dataframe thead th {\n",
       "        text-align: right;\n",
       "    }\n",
       "</style>\n",
       "<table border=\"1\" class=\"dataframe\">\n",
       "  <thead>\n",
       "    <tr style=\"text-align: right;\">\n",
       "      <th></th>\n",
       "      <th>abc</th>\n",
       "      <th>def</th>\n",
       "      <th>hgı</th>\n",
       "    </tr>\n",
       "  </thead>\n",
       "  <tbody>\n",
       "    <tr>\n",
       "      <th>a</th>\n",
       "      <td>0.199532</td>\n",
       "      <td>1.280248</td>\n",
       "      <td>1.334732</td>\n",
       "    </tr>\n",
       "    <tr>\n",
       "      <th>b</th>\n",
       "      <td>-0.772868</td>\n",
       "      <td>0.654252</td>\n",
       "      <td>0.891360</td>\n",
       "    </tr>\n",
       "    <tr>\n",
       "      <th>c</th>\n",
       "      <td>0.126738</td>\n",
       "      <td>-0.350373</td>\n",
       "      <td>-1.373666</td>\n",
       "    </tr>\n",
       "    <tr>\n",
       "      <th>d</th>\n",
       "      <td>0.157937</td>\n",
       "      <td>0.734906</td>\n",
       "      <td>-1.866962</td>\n",
       "    </tr>\n",
       "  </tbody>\n",
       "</table>\n",
       "</div>"
      ],
      "text/plain": [
       "        abc       def       hgı\n",
       "a  0.199532  1.280248  1.334732\n",
       "b -0.772868  0.654252  0.891360\n",
       "c  0.126738 -0.350373 -1.373666\n",
       "d  0.157937  0.734906 -1.866962"
      ]
     },
     "execution_count": 37,
     "metadata": {},
     "output_type": "execute_result"
    }
   ],
   "source": [
    "newDataFrame"
   ]
  },
  {
   "cell_type": "code",
   "execution_count": 38,
   "id": "223d967d-7c0c-46fc-8359-cf1f1cd1ba72",
   "metadata": {},
   "outputs": [
    {
     "data": {
      "text/html": [
       "<div>\n",
       "<style scoped>\n",
       "    .dataframe tbody tr th:only-of-type {\n",
       "        vertical-align: middle;\n",
       "    }\n",
       "\n",
       "    .dataframe tbody tr th {\n",
       "        vertical-align: top;\n",
       "    }\n",
       "\n",
       "    .dataframe thead th {\n",
       "        text-align: right;\n",
       "    }\n",
       "</style>\n",
       "<table border=\"1\" class=\"dataframe\">\n",
       "  <thead>\n",
       "    <tr style=\"text-align: right;\">\n",
       "      <th></th>\n",
       "      <th>abc</th>\n",
       "      <th>def</th>\n",
       "      <th>hgı</th>\n",
       "    </tr>\n",
       "  </thead>\n",
       "  <tbody>\n",
       "    <tr>\n",
       "      <th>a</th>\n",
       "      <td>NaN</td>\n",
       "      <td>NaN</td>\n",
       "      <td>NaN</td>\n",
       "    </tr>\n",
       "    <tr>\n",
       "      <th>b</th>\n",
       "      <td>-0.772868</td>\n",
       "      <td>NaN</td>\n",
       "      <td>NaN</td>\n",
       "    </tr>\n",
       "    <tr>\n",
       "      <th>c</th>\n",
       "      <td>NaN</td>\n",
       "      <td>-0.350373</td>\n",
       "      <td>-1.373666</td>\n",
       "    </tr>\n",
       "    <tr>\n",
       "      <th>d</th>\n",
       "      <td>NaN</td>\n",
       "      <td>NaN</td>\n",
       "      <td>-1.866962</td>\n",
       "    </tr>\n",
       "  </tbody>\n",
       "</table>\n",
       "</div>"
      ],
      "text/plain": [
       "        abc       def       hgı\n",
       "a       NaN       NaN       NaN\n",
       "b -0.772868       NaN       NaN\n",
       "c       NaN -0.350373 -1.373666\n",
       "d       NaN       NaN -1.866962"
      ]
     },
     "execution_count": 38,
     "metadata": {},
     "output_type": "execute_result"
    }
   ],
   "source": [
    "newDataFrame[booleanFrame]   #sadece 0'dan kucuk olan degerleri verir"
   ]
  },
  {
   "cell_type": "code",
   "execution_count": 39,
   "id": "27f4abf5-b3ad-471e-a174-bb7d04633775",
   "metadata": {},
   "outputs": [
    {
     "data": {
      "text/html": [
       "<div>\n",
       "<style scoped>\n",
       "    .dataframe tbody tr th:only-of-type {\n",
       "        vertical-align: middle;\n",
       "    }\n",
       "\n",
       "    .dataframe tbody tr th {\n",
       "        vertical-align: top;\n",
       "    }\n",
       "\n",
       "    .dataframe thead th {\n",
       "        text-align: right;\n",
       "    }\n",
       "</style>\n",
       "<table border=\"1\" class=\"dataframe\">\n",
       "  <thead>\n",
       "    <tr style=\"text-align: right;\">\n",
       "      <th></th>\n",
       "      <th>abc</th>\n",
       "      <th>def</th>\n",
       "      <th>hgı</th>\n",
       "    </tr>\n",
       "  </thead>\n",
       "  <tbody>\n",
       "    <tr>\n",
       "      <th>a</th>\n",
       "      <td>NaN</td>\n",
       "      <td>NaN</td>\n",
       "      <td>NaN</td>\n",
       "    </tr>\n",
       "    <tr>\n",
       "      <th>b</th>\n",
       "      <td>-0.772868</td>\n",
       "      <td>NaN</td>\n",
       "      <td>NaN</td>\n",
       "    </tr>\n",
       "    <tr>\n",
       "      <th>c</th>\n",
       "      <td>NaN</td>\n",
       "      <td>-0.350373</td>\n",
       "      <td>-1.373666</td>\n",
       "    </tr>\n",
       "    <tr>\n",
       "      <th>d</th>\n",
       "      <td>NaN</td>\n",
       "      <td>NaN</td>\n",
       "      <td>-1.866962</td>\n",
       "    </tr>\n",
       "  </tbody>\n",
       "</table>\n",
       "</div>"
      ],
      "text/plain": [
       "        abc       def       hgı\n",
       "a       NaN       NaN       NaN\n",
       "b -0.772868       NaN       NaN\n",
       "c       NaN -0.350373 -1.373666\n",
       "d       NaN       NaN -1.866962"
      ]
     },
     "execution_count": 39,
     "metadata": {},
     "output_type": "execute_result"
    }
   ],
   "source": [
    "newDataFrame[newDataFrame < 0]"
   ]
  },
  {
   "cell_type": "code",
   "execution_count": 42,
   "id": "55580894-c12e-41d4-ae43-9fa499952ebf",
   "metadata": {},
   "outputs": [
    {
     "data": {
      "text/html": [
       "<div>\n",
       "<style scoped>\n",
       "    .dataframe tbody tr th:only-of-type {\n",
       "        vertical-align: middle;\n",
       "    }\n",
       "\n",
       "    .dataframe tbody tr th {\n",
       "        vertical-align: top;\n",
       "    }\n",
       "\n",
       "    .dataframe thead th {\n",
       "        text-align: right;\n",
       "    }\n",
       "</style>\n",
       "<table border=\"1\" class=\"dataframe\">\n",
       "  <thead>\n",
       "    <tr style=\"text-align: right;\">\n",
       "      <th></th>\n",
       "      <th>abc</th>\n",
       "      <th>def</th>\n",
       "      <th>hgı</th>\n",
       "    </tr>\n",
       "  </thead>\n",
       "  <tbody>\n",
       "    <tr>\n",
       "      <th>a</th>\n",
       "      <td>0.199532</td>\n",
       "      <td>1.280248</td>\n",
       "      <td>1.334732</td>\n",
       "    </tr>\n",
       "    <tr>\n",
       "      <th>b</th>\n",
       "      <td>-0.772868</td>\n",
       "      <td>0.654252</td>\n",
       "      <td>0.891360</td>\n",
       "    </tr>\n",
       "    <tr>\n",
       "      <th>d</th>\n",
       "      <td>0.157937</td>\n",
       "      <td>0.734906</td>\n",
       "      <td>-1.866962</td>\n",
       "    </tr>\n",
       "  </tbody>\n",
       "</table>\n",
       "</div>"
      ],
      "text/plain": [
       "        abc       def       hgı\n",
       "a  0.199532  1.280248  1.334732\n",
       "b -0.772868  0.654252  0.891360\n",
       "d  0.157937  0.734906 -1.866962"
      ]
     },
     "execution_count": 42,
     "metadata": {},
     "output_type": "execute_result"
    }
   ],
   "source": [
    "newDataFrame[newDataFrame[\"def\"] > 0]   #'def' kolonunda 0'dn büyük degerleri getirir, c kolonuun cıkardı"
   ]
  },
  {
   "cell_type": "code",
   "execution_count": 43,
   "id": "8378b588-7398-447f-89c0-2f52a32bc999",
   "metadata": {},
   "outputs": [
    {
     "data": {
      "text/html": [
       "<div>\n",
       "<style scoped>\n",
       "    .dataframe tbody tr th:only-of-type {\n",
       "        vertical-align: middle;\n",
       "    }\n",
       "\n",
       "    .dataframe tbody tr th {\n",
       "        vertical-align: top;\n",
       "    }\n",
       "\n",
       "    .dataframe thead th {\n",
       "        text-align: right;\n",
       "    }\n",
       "</style>\n",
       "<table border=\"1\" class=\"dataframe\">\n",
       "  <thead>\n",
       "    <tr style=\"text-align: right;\">\n",
       "      <th></th>\n",
       "      <th>abc</th>\n",
       "      <th>def</th>\n",
       "      <th>hgı</th>\n",
       "    </tr>\n",
       "  </thead>\n",
       "  <tbody>\n",
       "    <tr>\n",
       "      <th>c</th>\n",
       "      <td>0.126738</td>\n",
       "      <td>-0.350373</td>\n",
       "      <td>-1.373666</td>\n",
       "    </tr>\n",
       "    <tr>\n",
       "      <th>d</th>\n",
       "      <td>0.157937</td>\n",
       "      <td>0.734906</td>\n",
       "      <td>-1.866962</td>\n",
       "    </tr>\n",
       "  </tbody>\n",
       "</table>\n",
       "</div>"
      ],
      "text/plain": [
       "        abc       def       hgı\n",
       "c  0.126738 -0.350373 -1.373666\n",
       "d  0.157937  0.734906 -1.866962"
      ]
     },
     "execution_count": 43,
     "metadata": {},
     "output_type": "execute_result"
    }
   ],
   "source": [
    "newDataFrame[newDataFrame[\"hgı\"] < 0]"
   ]
  },
  {
   "cell_type": "markdown",
   "id": "24f72198-c48e-497c-9969-7b23ab6e4e99",
   "metadata": {},
   "source": [
    "# Change Index"
   ]
  },
  {
   "cell_type": "code",
   "execution_count": 44,
   "id": "df4d4bcf-cb76-42eb-8673-a568aa4d90dc",
   "metadata": {},
   "outputs": [
    {
     "data": {
      "text/html": [
       "<div>\n",
       "<style scoped>\n",
       "    .dataframe tbody tr th:only-of-type {\n",
       "        vertical-align: middle;\n",
       "    }\n",
       "\n",
       "    .dataframe tbody tr th {\n",
       "        vertical-align: top;\n",
       "    }\n",
       "\n",
       "    .dataframe thead th {\n",
       "        text-align: right;\n",
       "    }\n",
       "</style>\n",
       "<table border=\"1\" class=\"dataframe\">\n",
       "  <thead>\n",
       "    <tr style=\"text-align: right;\">\n",
       "      <th></th>\n",
       "      <th>abc</th>\n",
       "      <th>def</th>\n",
       "      <th>hgı</th>\n",
       "    </tr>\n",
       "  </thead>\n",
       "  <tbody>\n",
       "    <tr>\n",
       "      <th>a</th>\n",
       "      <td>0.199532</td>\n",
       "      <td>1.280248</td>\n",
       "      <td>1.334732</td>\n",
       "    </tr>\n",
       "    <tr>\n",
       "      <th>b</th>\n",
       "      <td>-0.772868</td>\n",
       "      <td>0.654252</td>\n",
       "      <td>0.891360</td>\n",
       "    </tr>\n",
       "    <tr>\n",
       "      <th>c</th>\n",
       "      <td>0.126738</td>\n",
       "      <td>-0.350373</td>\n",
       "      <td>-1.373666</td>\n",
       "    </tr>\n",
       "    <tr>\n",
       "      <th>d</th>\n",
       "      <td>0.157937</td>\n",
       "      <td>0.734906</td>\n",
       "      <td>-1.866962</td>\n",
       "    </tr>\n",
       "  </tbody>\n",
       "</table>\n",
       "</div>"
      ],
      "text/plain": [
       "        abc       def       hgı\n",
       "a  0.199532  1.280248  1.334732\n",
       "b -0.772868  0.654252  0.891360\n",
       "c  0.126738 -0.350373 -1.373666\n",
       "d  0.157937  0.734906 -1.866962"
      ]
     },
     "execution_count": 44,
     "metadata": {},
     "output_type": "execute_result"
    }
   ],
   "source": [
    "newDataFrame"
   ]
  },
  {
   "cell_type": "code",
   "execution_count": 45,
   "id": "688a718f-a1ee-47fd-ac5e-6e920e489e05",
   "metadata": {},
   "outputs": [
    {
     "data": {
      "text/html": [
       "<div>\n",
       "<style scoped>\n",
       "    .dataframe tbody tr th:only-of-type {\n",
       "        vertical-align: middle;\n",
       "    }\n",
       "\n",
       "    .dataframe tbody tr th {\n",
       "        vertical-align: top;\n",
       "    }\n",
       "\n",
       "    .dataframe thead th {\n",
       "        text-align: right;\n",
       "    }\n",
       "</style>\n",
       "<table border=\"1\" class=\"dataframe\">\n",
       "  <thead>\n",
       "    <tr style=\"text-align: right;\">\n",
       "      <th></th>\n",
       "      <th>index</th>\n",
       "      <th>abc</th>\n",
       "      <th>def</th>\n",
       "      <th>hgı</th>\n",
       "    </tr>\n",
       "  </thead>\n",
       "  <tbody>\n",
       "    <tr>\n",
       "      <th>0</th>\n",
       "      <td>a</td>\n",
       "      <td>0.199532</td>\n",
       "      <td>1.280248</td>\n",
       "      <td>1.334732</td>\n",
       "    </tr>\n",
       "    <tr>\n",
       "      <th>1</th>\n",
       "      <td>b</td>\n",
       "      <td>-0.772868</td>\n",
       "      <td>0.654252</td>\n",
       "      <td>0.891360</td>\n",
       "    </tr>\n",
       "    <tr>\n",
       "      <th>2</th>\n",
       "      <td>c</td>\n",
       "      <td>0.126738</td>\n",
       "      <td>-0.350373</td>\n",
       "      <td>-1.373666</td>\n",
       "    </tr>\n",
       "    <tr>\n",
       "      <th>3</th>\n",
       "      <td>d</td>\n",
       "      <td>0.157937</td>\n",
       "      <td>0.734906</td>\n",
       "      <td>-1.866962</td>\n",
       "    </tr>\n",
       "  </tbody>\n",
       "</table>\n",
       "</div>"
      ],
      "text/plain": [
       "  index       abc       def       hgı\n",
       "0     a  0.199532  1.280248  1.334732\n",
       "1     b -0.772868  0.654252  0.891360\n",
       "2     c  0.126738 -0.350373 -1.373666\n",
       "3     d  0.157937  0.734906 -1.866962"
      ]
     },
     "execution_count": 45,
     "metadata": {},
     "output_type": "execute_result"
    }
   ],
   "source": [
    "newDataFrame.reset_index()"
   ]
  },
  {
   "cell_type": "code",
   "execution_count": 47,
   "id": "3ee8801f-d4a3-4a1d-9584-8f51ba35dcf9",
   "metadata": {},
   "outputs": [
    {
     "data": {
      "text/html": [
       "<div>\n",
       "<style scoped>\n",
       "    .dataframe tbody tr th:only-of-type {\n",
       "        vertical-align: middle;\n",
       "    }\n",
       "\n",
       "    .dataframe tbody tr th {\n",
       "        vertical-align: top;\n",
       "    }\n",
       "\n",
       "    .dataframe thead th {\n",
       "        text-align: right;\n",
       "    }\n",
       "</style>\n",
       "<table border=\"1\" class=\"dataframe\">\n",
       "  <thead>\n",
       "    <tr style=\"text-align: right;\">\n",
       "      <th></th>\n",
       "      <th>abc</th>\n",
       "      <th>def</th>\n",
       "      <th>hgı</th>\n",
       "    </tr>\n",
       "  </thead>\n",
       "  <tbody>\n",
       "    <tr>\n",
       "      <th>a</th>\n",
       "      <td>0.199532</td>\n",
       "      <td>1.280248</td>\n",
       "      <td>1.334732</td>\n",
       "    </tr>\n",
       "    <tr>\n",
       "      <th>b</th>\n",
       "      <td>-0.772868</td>\n",
       "      <td>0.654252</td>\n",
       "      <td>0.891360</td>\n",
       "    </tr>\n",
       "    <tr>\n",
       "      <th>c</th>\n",
       "      <td>0.126738</td>\n",
       "      <td>-0.350373</td>\n",
       "      <td>-1.373666</td>\n",
       "    </tr>\n",
       "    <tr>\n",
       "      <th>d</th>\n",
       "      <td>0.157937</td>\n",
       "      <td>0.734906</td>\n",
       "      <td>-1.866962</td>\n",
       "    </tr>\n",
       "  </tbody>\n",
       "</table>\n",
       "</div>"
      ],
      "text/plain": [
       "        abc       def       hgı\n",
       "a  0.199532  1.280248  1.334732\n",
       "b -0.772868  0.654252  0.891360\n",
       "c  0.126738 -0.350373 -1.373666\n",
       "d  0.157937  0.734906 -1.866962"
      ]
     },
     "execution_count": 47,
     "metadata": {},
     "output_type": "execute_result"
    }
   ],
   "source": [
    "newDataFrame #eski haline döndü"
   ]
  },
  {
   "cell_type": "code",
   "execution_count": 48,
   "id": "ed0c9a54-b4e0-41ad-a1c8-b8f4a6fdc33e",
   "metadata": {},
   "outputs": [],
   "source": [
    "newIndexList = [\"ali\", \"burak\", \"caner\", \"deniz\"]"
   ]
  },
  {
   "cell_type": "code",
   "execution_count": 49,
   "id": "3c897e2e-9a50-44d9-acee-5693c633b831",
   "metadata": {},
   "outputs": [],
   "source": [
    "newDataFrame[\"New Index\"] = newIndexList"
   ]
  },
  {
   "cell_type": "code",
   "execution_count": 50,
   "id": "0c0d2448-e602-43b1-b3c2-929a75f550c9",
   "metadata": {},
   "outputs": [
    {
     "data": {
      "text/html": [
       "<div>\n",
       "<style scoped>\n",
       "    .dataframe tbody tr th:only-of-type {\n",
       "        vertical-align: middle;\n",
       "    }\n",
       "\n",
       "    .dataframe tbody tr th {\n",
       "        vertical-align: top;\n",
       "    }\n",
       "\n",
       "    .dataframe thead th {\n",
       "        text-align: right;\n",
       "    }\n",
       "</style>\n",
       "<table border=\"1\" class=\"dataframe\">\n",
       "  <thead>\n",
       "    <tr style=\"text-align: right;\">\n",
       "      <th></th>\n",
       "      <th>abc</th>\n",
       "      <th>def</th>\n",
       "      <th>hgı</th>\n",
       "      <th>New Index</th>\n",
       "    </tr>\n",
       "  </thead>\n",
       "  <tbody>\n",
       "    <tr>\n",
       "      <th>a</th>\n",
       "      <td>0.199532</td>\n",
       "      <td>1.280248</td>\n",
       "      <td>1.334732</td>\n",
       "      <td>ali</td>\n",
       "    </tr>\n",
       "    <tr>\n",
       "      <th>b</th>\n",
       "      <td>-0.772868</td>\n",
       "      <td>0.654252</td>\n",
       "      <td>0.891360</td>\n",
       "      <td>burak</td>\n",
       "    </tr>\n",
       "    <tr>\n",
       "      <th>c</th>\n",
       "      <td>0.126738</td>\n",
       "      <td>-0.350373</td>\n",
       "      <td>-1.373666</td>\n",
       "      <td>caner</td>\n",
       "    </tr>\n",
       "    <tr>\n",
       "      <th>d</th>\n",
       "      <td>0.157937</td>\n",
       "      <td>0.734906</td>\n",
       "      <td>-1.866962</td>\n",
       "      <td>deniz</td>\n",
       "    </tr>\n",
       "  </tbody>\n",
       "</table>\n",
       "</div>"
      ],
      "text/plain": [
       "        abc       def       hgı New Index\n",
       "a  0.199532  1.280248  1.334732       ali\n",
       "b -0.772868  0.654252  0.891360     burak\n",
       "c  0.126738 -0.350373 -1.373666     caner\n",
       "d  0.157937  0.734906 -1.866962     deniz"
      ]
     },
     "execution_count": 50,
     "metadata": {},
     "output_type": "execute_result"
    }
   ],
   "source": [
    "newDataFrame"
   ]
  },
  {
   "cell_type": "code",
   "execution_count": 51,
   "id": "5849eb46-2fa5-4c8e-b209-1bf082471658",
   "metadata": {},
   "outputs": [
    {
     "data": {
      "text/html": [
       "<div>\n",
       "<style scoped>\n",
       "    .dataframe tbody tr th:only-of-type {\n",
       "        vertical-align: middle;\n",
       "    }\n",
       "\n",
       "    .dataframe tbody tr th {\n",
       "        vertical-align: top;\n",
       "    }\n",
       "\n",
       "    .dataframe thead th {\n",
       "        text-align: right;\n",
       "    }\n",
       "</style>\n",
       "<table border=\"1\" class=\"dataframe\">\n",
       "  <thead>\n",
       "    <tr style=\"text-align: right;\">\n",
       "      <th></th>\n",
       "      <th>abc</th>\n",
       "      <th>def</th>\n",
       "      <th>hgı</th>\n",
       "    </tr>\n",
       "    <tr>\n",
       "      <th>New Index</th>\n",
       "      <th></th>\n",
       "      <th></th>\n",
       "      <th></th>\n",
       "    </tr>\n",
       "  </thead>\n",
       "  <tbody>\n",
       "    <tr>\n",
       "      <th>ali</th>\n",
       "      <td>0.199532</td>\n",
       "      <td>1.280248</td>\n",
       "      <td>1.334732</td>\n",
       "    </tr>\n",
       "    <tr>\n",
       "      <th>burak</th>\n",
       "      <td>-0.772868</td>\n",
       "      <td>0.654252</td>\n",
       "      <td>0.891360</td>\n",
       "    </tr>\n",
       "    <tr>\n",
       "      <th>caner</th>\n",
       "      <td>0.126738</td>\n",
       "      <td>-0.350373</td>\n",
       "      <td>-1.373666</td>\n",
       "    </tr>\n",
       "    <tr>\n",
       "      <th>deniz</th>\n",
       "      <td>0.157937</td>\n",
       "      <td>0.734906</td>\n",
       "      <td>-1.866962</td>\n",
       "    </tr>\n",
       "  </tbody>\n",
       "</table>\n",
       "</div>"
      ],
      "text/plain": [
       "                abc       def       hgı\n",
       "New Index                              \n",
       "ali        0.199532  1.280248  1.334732\n",
       "burak     -0.772868  0.654252  0.891360\n",
       "caner      0.126738 -0.350373 -1.373666\n",
       "deniz      0.157937  0.734906 -1.866962"
      ]
     },
     "execution_count": 51,
     "metadata": {},
     "output_type": "execute_result"
    }
   ],
   "source": [
    "newDataFrame.set_index(\"New Index\")"
   ]
  },
  {
   "cell_type": "code",
   "execution_count": 52,
   "id": "377a1add-9b02-4846-ba72-9ac25e428aa3",
   "metadata": {},
   "outputs": [
    {
     "data": {
      "text/html": [
       "<div>\n",
       "<style scoped>\n",
       "    .dataframe tbody tr th:only-of-type {\n",
       "        vertical-align: middle;\n",
       "    }\n",
       "\n",
       "    .dataframe tbody tr th {\n",
       "        vertical-align: top;\n",
       "    }\n",
       "\n",
       "    .dataframe thead th {\n",
       "        text-align: right;\n",
       "    }\n",
       "</style>\n",
       "<table border=\"1\" class=\"dataframe\">\n",
       "  <thead>\n",
       "    <tr style=\"text-align: right;\">\n",
       "      <th></th>\n",
       "      <th>abc</th>\n",
       "      <th>def</th>\n",
       "      <th>hgı</th>\n",
       "      <th>New Index</th>\n",
       "    </tr>\n",
       "  </thead>\n",
       "  <tbody>\n",
       "    <tr>\n",
       "      <th>a</th>\n",
       "      <td>0.199532</td>\n",
       "      <td>1.280248</td>\n",
       "      <td>1.334732</td>\n",
       "      <td>ali</td>\n",
       "    </tr>\n",
       "    <tr>\n",
       "      <th>b</th>\n",
       "      <td>-0.772868</td>\n",
       "      <td>0.654252</td>\n",
       "      <td>0.891360</td>\n",
       "      <td>burak</td>\n",
       "    </tr>\n",
       "    <tr>\n",
       "      <th>c</th>\n",
       "      <td>0.126738</td>\n",
       "      <td>-0.350373</td>\n",
       "      <td>-1.373666</td>\n",
       "      <td>caner</td>\n",
       "    </tr>\n",
       "    <tr>\n",
       "      <th>d</th>\n",
       "      <td>0.157937</td>\n",
       "      <td>0.734906</td>\n",
       "      <td>-1.866962</td>\n",
       "      <td>deniz</td>\n",
       "    </tr>\n",
       "  </tbody>\n",
       "</table>\n",
       "</div>"
      ],
      "text/plain": [
       "        abc       def       hgı New Index\n",
       "a  0.199532  1.280248  1.334732       ali\n",
       "b -0.772868  0.654252  0.891360     burak\n",
       "c  0.126738 -0.350373 -1.373666     caner\n",
       "d  0.157937  0.734906 -1.866962     deniz"
      ]
     },
     "execution_count": 52,
     "metadata": {},
     "output_type": "execute_result"
    }
   ],
   "source": [
    "newDataFrame  #"
   ]
  },
  {
   "cell_type": "code",
   "execution_count": 53,
   "id": "1d2de23c-a156-498c-a72f-01d23bcdbcc4",
   "metadata": {},
   "outputs": [],
   "source": [
    "newDataFrame.set_index(\"New Index\", inplace = True)"
   ]
  },
  {
   "cell_type": "code",
   "execution_count": 57,
   "id": "e31e3e0d-5fe2-4690-a4d3-1b3d80b513ca",
   "metadata": {},
   "outputs": [
    {
     "data": {
      "text/html": [
       "<div>\n",
       "<style scoped>\n",
       "    .dataframe tbody tr th:only-of-type {\n",
       "        vertical-align: middle;\n",
       "    }\n",
       "\n",
       "    .dataframe tbody tr th {\n",
       "        vertical-align: top;\n",
       "    }\n",
       "\n",
       "    .dataframe thead th {\n",
       "        text-align: right;\n",
       "    }\n",
       "</style>\n",
       "<table border=\"1\" class=\"dataframe\">\n",
       "  <thead>\n",
       "    <tr style=\"text-align: right;\">\n",
       "      <th></th>\n",
       "      <th>abc</th>\n",
       "      <th>def</th>\n",
       "      <th>hgı</th>\n",
       "    </tr>\n",
       "    <tr>\n",
       "      <th>New Index</th>\n",
       "      <th></th>\n",
       "      <th></th>\n",
       "      <th></th>\n",
       "    </tr>\n",
       "  </thead>\n",
       "  <tbody>\n",
       "    <tr>\n",
       "      <th>ali</th>\n",
       "      <td>0.199532</td>\n",
       "      <td>1.280248</td>\n",
       "      <td>1.334732</td>\n",
       "    </tr>\n",
       "    <tr>\n",
       "      <th>burak</th>\n",
       "      <td>-0.772868</td>\n",
       "      <td>0.654252</td>\n",
       "      <td>0.891360</td>\n",
       "    </tr>\n",
       "    <tr>\n",
       "      <th>caner</th>\n",
       "      <td>0.126738</td>\n",
       "      <td>-0.350373</td>\n",
       "      <td>-1.373666</td>\n",
       "    </tr>\n",
       "    <tr>\n",
       "      <th>deniz</th>\n",
       "      <td>0.157937</td>\n",
       "      <td>0.734906</td>\n",
       "      <td>-1.866962</td>\n",
       "    </tr>\n",
       "  </tbody>\n",
       "</table>\n",
       "</div>"
      ],
      "text/plain": [
       "                abc       def       hgı\n",
       "New Index                              \n",
       "ali        0.199532  1.280248  1.334732\n",
       "burak     -0.772868  0.654252  0.891360\n",
       "caner      0.126738 -0.350373 -1.373666\n",
       "deniz      0.157937  0.734906 -1.866962"
      ]
     },
     "execution_count": 57,
     "metadata": {},
     "output_type": "execute_result"
    }
   ],
   "source": [
    "newDataFrame    #eski haline dönmeyecek, inplace kullandık"
   ]
  },
  {
   "cell_type": "code",
   "execution_count": 56,
   "id": "14ba2f72-6de8-4b84-880f-c14383bc1c38",
   "metadata": {},
   "outputs": [
    {
     "data": {
      "text/plain": [
       "abc    0.199532\n",
       "def    1.280248\n",
       "hgı    1.334732\n",
       "Name: ali, dtype: float64"
      ]
     },
     "execution_count": 56,
     "metadata": {},
     "output_type": "execute_result"
    }
   ],
   "source": [
    "newDataFrame.loc[\"ali\"]"
   ]
  },
  {
   "cell_type": "markdown",
   "id": "0fd92940-a2cb-41ce-9cf2-777474e52df5",
   "metadata": {},
   "source": [
    "# Multi Index"
   ]
  },
  {
   "cell_type": "code",
   "execution_count": 58,
   "id": "585c4ca0-8784-46f8-8d03-0c1e50f1e1fd",
   "metadata": {},
   "outputs": [],
   "source": [
    "first_ındex = [\"Simpson\", \"Simpson\", \"Simpson\", \"South Park\", \"South Park\", \"South Park\"]"
   ]
  },
  {
   "cell_type": "code",
   "execution_count": 59,
   "id": "9f5e4029-dba8-4cc1-b536-c28e155e48d6",
   "metadata": {},
   "outputs": [],
   "source": [
    "second_ındex = [\"Homer\", \"Bart\", \"Marge\", \"Cartmen\", \"Kenny\", \"Kyle\"]"
   ]
  },
  {
   "cell_type": "code",
   "execution_count": 60,
   "id": "4fa32456-e3a7-4afc-a4e7-06945b8a2115",
   "metadata": {},
   "outputs": [],
   "source": [
    "merge_ındex = list(zip(first_ındex, second_ındex))"
   ]
  },
  {
   "cell_type": "code",
   "execution_count": 61,
   "id": "99e2eb24-dfc4-4f25-90da-835e6d5e4716",
   "metadata": {},
   "outputs": [
    {
     "data": {
      "text/plain": [
       "[('Simpson', 'Homer'),\n",
       " ('Simpson', 'Bart'),\n",
       " ('Simpson', 'Marge'),\n",
       " ('South Park', 'Cartmen'),\n",
       " ('South Park', 'Kenny'),\n",
       " ('South Park', 'Kyle')]"
      ]
     },
     "execution_count": 61,
     "metadata": {},
     "output_type": "execute_result"
    }
   ],
   "source": [
    "merge_ındex"
   ]
  },
  {
   "cell_type": "code",
   "execution_count": 62,
   "id": "85a82c62-e18e-410c-bf11-689dc0826983",
   "metadata": {},
   "outputs": [],
   "source": [
    "merge_ındex = pd.MultiIndex.from_tuples(merge_ındex)"
   ]
  },
  {
   "cell_type": "code",
   "execution_count": 63,
   "id": "3fdf8e34-2e07-4d48-ab19-b892f4e1054d",
   "metadata": {},
   "outputs": [
    {
     "data": {
      "text/plain": [
       "MultiIndex([(   'Simpson',   'Homer'),\n",
       "            (   'Simpson',    'Bart'),\n",
       "            (   'Simpson',   'Marge'),\n",
       "            ('South Park', 'Cartmen'),\n",
       "            ('South Park',   'Kenny'),\n",
       "            ('South Park',    'Kyle')],\n",
       "           )"
      ]
     },
     "execution_count": 63,
     "metadata": {},
     "output_type": "execute_result"
    }
   ],
   "source": [
    "merge_ındex"
   ]
  },
  {
   "cell_type": "code",
   "execution_count": 64,
   "id": "d9062205-919c-4886-87a1-490a167b8b51",
   "metadata": {},
   "outputs": [],
   "source": [
    "my_cartoon_list = [[40, \"A\"],[10, \"B\"], [30, \"C\"], [12, \"D\"], [32, \"E\"], [23, \"F\"]]"
   ]
  },
  {
   "cell_type": "code",
   "execution_count": 65,
   "id": "c6d9a22b-77b5-4e0b-8e13-44b8cdc7f9ac",
   "metadata": {},
   "outputs": [],
   "source": [
    "cartoon_numpy_array = np.array(my_cartoon_list)"
   ]
  },
  {
   "cell_type": "code",
   "execution_count": 66,
   "id": "680be947-3296-4688-99a2-5b730b2eff1b",
   "metadata": {},
   "outputs": [],
   "source": [
    "cartoon_dataframe = pd.DataFrame(cartoon_numpy_array, index = merge_ındex, columns = [\"Yas\", \"Meslek\"])"
   ]
  },
  {
   "cell_type": "code",
   "execution_count": 67,
   "id": "83b0e5a7-328d-4f27-ad44-ef1dabb56d2f",
   "metadata": {},
   "outputs": [
    {
     "data": {
      "text/html": [
       "<div>\n",
       "<style scoped>\n",
       "    .dataframe tbody tr th:only-of-type {\n",
       "        vertical-align: middle;\n",
       "    }\n",
       "\n",
       "    .dataframe tbody tr th {\n",
       "        vertical-align: top;\n",
       "    }\n",
       "\n",
       "    .dataframe thead th {\n",
       "        text-align: right;\n",
       "    }\n",
       "</style>\n",
       "<table border=\"1\" class=\"dataframe\">\n",
       "  <thead>\n",
       "    <tr style=\"text-align: right;\">\n",
       "      <th></th>\n",
       "      <th></th>\n",
       "      <th>Yas</th>\n",
       "      <th>Meslek</th>\n",
       "    </tr>\n",
       "  </thead>\n",
       "  <tbody>\n",
       "    <tr>\n",
       "      <th rowspan=\"3\" valign=\"top\">Simpson</th>\n",
       "      <th>Homer</th>\n",
       "      <td>40</td>\n",
       "      <td>A</td>\n",
       "    </tr>\n",
       "    <tr>\n",
       "      <th>Bart</th>\n",
       "      <td>10</td>\n",
       "      <td>B</td>\n",
       "    </tr>\n",
       "    <tr>\n",
       "      <th>Marge</th>\n",
       "      <td>30</td>\n",
       "      <td>C</td>\n",
       "    </tr>\n",
       "    <tr>\n",
       "      <th rowspan=\"3\" valign=\"top\">South Park</th>\n",
       "      <th>Cartmen</th>\n",
       "      <td>12</td>\n",
       "      <td>D</td>\n",
       "    </tr>\n",
       "    <tr>\n",
       "      <th>Kenny</th>\n",
       "      <td>32</td>\n",
       "      <td>E</td>\n",
       "    </tr>\n",
       "    <tr>\n",
       "      <th>Kyle</th>\n",
       "      <td>23</td>\n",
       "      <td>F</td>\n",
       "    </tr>\n",
       "  </tbody>\n",
       "</table>\n",
       "</div>"
      ],
      "text/plain": [
       "                   Yas Meslek\n",
       "Simpson    Homer    40      A\n",
       "           Bart     10      B\n",
       "           Marge    30      C\n",
       "South Park Cartmen  12      D\n",
       "           Kenny    32      E\n",
       "           Kyle     23      F"
      ]
     },
     "execution_count": 67,
     "metadata": {},
     "output_type": "execute_result"
    }
   ],
   "source": [
    "cartoon_dataframe"
   ]
  },
  {
   "cell_type": "code",
   "execution_count": 68,
   "id": "e8ae7393-27fd-49bc-9965-e7cdaba8a7d3",
   "metadata": {},
   "outputs": [
    {
     "data": {
      "text/html": [
       "<div>\n",
       "<style scoped>\n",
       "    .dataframe tbody tr th:only-of-type {\n",
       "        vertical-align: middle;\n",
       "    }\n",
       "\n",
       "    .dataframe tbody tr th {\n",
       "        vertical-align: top;\n",
       "    }\n",
       "\n",
       "    .dataframe thead th {\n",
       "        text-align: right;\n",
       "    }\n",
       "</style>\n",
       "<table border=\"1\" class=\"dataframe\">\n",
       "  <thead>\n",
       "    <tr style=\"text-align: right;\">\n",
       "      <th></th>\n",
       "      <th>Yas</th>\n",
       "      <th>Meslek</th>\n",
       "    </tr>\n",
       "  </thead>\n",
       "  <tbody>\n",
       "    <tr>\n",
       "      <th>Homer</th>\n",
       "      <td>40</td>\n",
       "      <td>A</td>\n",
       "    </tr>\n",
       "    <tr>\n",
       "      <th>Bart</th>\n",
       "      <td>10</td>\n",
       "      <td>B</td>\n",
       "    </tr>\n",
       "    <tr>\n",
       "      <th>Marge</th>\n",
       "      <td>30</td>\n",
       "      <td>C</td>\n",
       "    </tr>\n",
       "  </tbody>\n",
       "</table>\n",
       "</div>"
      ],
      "text/plain": [
       "      Yas Meslek\n",
       "Homer  40      A\n",
       "Bart   10      B\n",
       "Marge  30      C"
      ]
     },
     "execution_count": 68,
     "metadata": {},
     "output_type": "execute_result"
    }
   ],
   "source": [
    "cartoon_dataframe.loc[\"Simpson\"]"
   ]
  },
  {
   "cell_type": "code",
   "execution_count": 69,
   "id": "8c6b5c36-41e8-418d-ae2b-e4435dfa8dca",
   "metadata": {},
   "outputs": [
    {
     "data": {
      "text/html": [
       "<div>\n",
       "<style scoped>\n",
       "    .dataframe tbody tr th:only-of-type {\n",
       "        vertical-align: middle;\n",
       "    }\n",
       "\n",
       "    .dataframe tbody tr th {\n",
       "        vertical-align: top;\n",
       "    }\n",
       "\n",
       "    .dataframe thead th {\n",
       "        text-align: right;\n",
       "    }\n",
       "</style>\n",
       "<table border=\"1\" class=\"dataframe\">\n",
       "  <thead>\n",
       "    <tr style=\"text-align: right;\">\n",
       "      <th></th>\n",
       "      <th>Yas</th>\n",
       "      <th>Meslek</th>\n",
       "    </tr>\n",
       "  </thead>\n",
       "  <tbody>\n",
       "    <tr>\n",
       "      <th>Cartmen</th>\n",
       "      <td>12</td>\n",
       "      <td>D</td>\n",
       "    </tr>\n",
       "    <tr>\n",
       "      <th>Kenny</th>\n",
       "      <td>32</td>\n",
       "      <td>E</td>\n",
       "    </tr>\n",
       "    <tr>\n",
       "      <th>Kyle</th>\n",
       "      <td>23</td>\n",
       "      <td>F</td>\n",
       "    </tr>\n",
       "  </tbody>\n",
       "</table>\n",
       "</div>"
      ],
      "text/plain": [
       "        Yas Meslek\n",
       "Cartmen  12      D\n",
       "Kenny    32      E\n",
       "Kyle     23      F"
      ]
     },
     "execution_count": 69,
     "metadata": {},
     "output_type": "execute_result"
    }
   ],
   "source": [
    "cartoon_dataframe.loc[\"South Park\"]"
   ]
  },
  {
   "cell_type": "code",
   "execution_count": 70,
   "id": "42f19af4-6aeb-4eae-bfc1-538cd614072c",
   "metadata": {},
   "outputs": [
    {
     "data": {
      "text/plain": [
       "Yas       32\n",
       "Meslek     E\n",
       "Name: Kenny, dtype: object"
      ]
     },
     "execution_count": 70,
     "metadata": {},
     "output_type": "execute_result"
    }
   ],
   "source": [
    "cartoon_dataframe.loc[\"South Park\"].loc[\"Kenny\"]"
   ]
  },
  {
   "cell_type": "code",
   "execution_count": 71,
   "id": "41d4f33c-2567-4034-bd4a-9b6c660b925d",
   "metadata": {},
   "outputs": [],
   "source": [
    "cartoon_dataframe.index.names = [\"Movie Name\", \"Name\"]"
   ]
  },
  {
   "cell_type": "code",
   "execution_count": 72,
   "id": "5649883d-ced8-4612-aeb6-a1f14a06cb97",
   "metadata": {},
   "outputs": [
    {
     "data": {
      "text/html": [
       "<div>\n",
       "<style scoped>\n",
       "    .dataframe tbody tr th:only-of-type {\n",
       "        vertical-align: middle;\n",
       "    }\n",
       "\n",
       "    .dataframe tbody tr th {\n",
       "        vertical-align: top;\n",
       "    }\n",
       "\n",
       "    .dataframe thead th {\n",
       "        text-align: right;\n",
       "    }\n",
       "</style>\n",
       "<table border=\"1\" class=\"dataframe\">\n",
       "  <thead>\n",
       "    <tr style=\"text-align: right;\">\n",
       "      <th></th>\n",
       "      <th></th>\n",
       "      <th>Yas</th>\n",
       "      <th>Meslek</th>\n",
       "    </tr>\n",
       "    <tr>\n",
       "      <th>Movie Name</th>\n",
       "      <th>Name</th>\n",
       "      <th></th>\n",
       "      <th></th>\n",
       "    </tr>\n",
       "  </thead>\n",
       "  <tbody>\n",
       "    <tr>\n",
       "      <th rowspan=\"3\" valign=\"top\">Simpson</th>\n",
       "      <th>Homer</th>\n",
       "      <td>40</td>\n",
       "      <td>A</td>\n",
       "    </tr>\n",
       "    <tr>\n",
       "      <th>Bart</th>\n",
       "      <td>10</td>\n",
       "      <td>B</td>\n",
       "    </tr>\n",
       "    <tr>\n",
       "      <th>Marge</th>\n",
       "      <td>30</td>\n",
       "      <td>C</td>\n",
       "    </tr>\n",
       "    <tr>\n",
       "      <th rowspan=\"3\" valign=\"top\">South Park</th>\n",
       "      <th>Cartmen</th>\n",
       "      <td>12</td>\n",
       "      <td>D</td>\n",
       "    </tr>\n",
       "    <tr>\n",
       "      <th>Kenny</th>\n",
       "      <td>32</td>\n",
       "      <td>E</td>\n",
       "    </tr>\n",
       "    <tr>\n",
       "      <th>Kyle</th>\n",
       "      <td>23</td>\n",
       "      <td>F</td>\n",
       "    </tr>\n",
       "  </tbody>\n",
       "</table>\n",
       "</div>"
      ],
      "text/plain": [
       "                   Yas Meslek\n",
       "Movie Name Name              \n",
       "Simpson    Homer    40      A\n",
       "           Bart     10      B\n",
       "           Marge    30      C\n",
       "South Park Cartmen  12      D\n",
       "           Kenny    32      E\n",
       "           Kyle     23      F"
      ]
     },
     "execution_count": 72,
     "metadata": {},
     "output_type": "execute_result"
    }
   ],
   "source": [
    "cartoon_dataframe"
   ]
  },
  {
   "cell_type": "code",
   "execution_count": null,
   "id": "a4e65ad1-4649-4c1b-86ea-c8670e195485",
   "metadata": {},
   "outputs": [],
   "source": []
  }
 ],
 "metadata": {
  "kernelspec": {
   "display_name": "Python 3 (ipykernel)",
   "language": "python",
   "name": "python3"
  },
  "language_info": {
   "codemirror_mode": {
    "name": "ipython",
    "version": 3
   },
   "file_extension": ".py",
   "mimetype": "text/x-python",
   "name": "python",
   "nbconvert_exporter": "python",
   "pygments_lexer": "ipython3",
   "version": "3.13.0"
  }
 },
 "nbformat": 4,
 "nbformat_minor": 5
}
