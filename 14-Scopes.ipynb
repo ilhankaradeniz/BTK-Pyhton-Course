{
 "cells": [
  {
   "cell_type": "markdown",
   "id": "bfc967ba-0e24-4d74-89cb-288a2c61d8f6",
   "metadata": {},
   "source": [
    "# Scope (Kapsam)"
   ]
  },
  {
   "cell_type": "code",
   "execution_count": 2,
   "id": "e9978df2-cbd7-4814-a6af-9c21602083db",
   "metadata": {},
   "outputs": [],
   "source": [
    "numara = 20\n",
    "\n",
    "def carpma(rakam):\n",
    "    numara = 10\n",
    "    return numara * rakam"
   ]
  },
  {
   "cell_type": "code",
   "execution_count": 3,
   "id": "5a554fcd-5ce7-48b6-9c9e-a54b0bbcd096",
   "metadata": {},
   "outputs": [
    {
     "data": {
      "text/plain": [
       "120"
      ]
     },
     "execution_count": 3,
     "metadata": {},
     "output_type": "execute_result"
    }
   ],
   "source": [
    "carpma(12)"
   ]
  },
  {
   "cell_type": "code",
   "execution_count": 4,
   "id": "b300091e-f2d5-4adc-9180-9466d340de59",
   "metadata": {},
   "outputs": [
    {
     "name": "stdout",
     "output_type": "stream",
     "text": [
      "20\n"
     ]
    }
   ],
   "source": [
    "print(numara)"
   ]
  },
  {
   "cell_type": "code",
   "execution_count": 5,
   "id": "75ebd5f9-27a1-4ac0-b5ee-efa7d287ffdf",
   "metadata": {},
   "outputs": [],
   "source": [
    "x = 20\n",
    "x = 10"
   ]
  },
  {
   "cell_type": "code",
   "execution_count": 6,
   "id": "85d6666e-1de0-4894-a174-f4001b5000de",
   "metadata": {},
   "outputs": [
    {
     "data": {
      "text/plain": [
       "10"
      ]
     },
     "execution_count": 6,
     "metadata": {},
     "output_type": "execute_result"
    }
   ],
   "source": [
    "x"
   ]
  },
  {
   "cell_type": "markdown",
   "id": "bcbfbf77-0f9d-4dc4-98fc-016867247fa1",
   "metadata": {},
   "source": [
    "## Local, Enclosing, Global, Built-in"
   ]
  },
  {
   "cell_type": "code",
   "execution_count": 7,
   "id": "e616601a-997e-4c6f-8891-561af42db5b1",
   "metadata": {},
   "outputs": [],
   "source": [
    "benimAdim = \"ilhan\"\n",
    "#Global degisken\n",
    "\n",
    "def benimFonksiyonum():\n",
    "    benimAdim = \"mehmet\"\n",
    "    #Enclosing\n",
    "    def icFonksiyon():\n",
    "        benimAdim = \"ilayda\"\n",
    "        #Local\n",
    "        print(benimAdim)\n",
    "    icFonksiyon()"
   ]
  },
  {
   "cell_type": "code",
   "execution_count": 9,
   "id": "dc20b323-4f01-453b-93dc-fd9356426314",
   "metadata": {},
   "outputs": [
    {
     "name": "stdout",
     "output_type": "stream",
     "text": [
      "ilayda\n"
     ]
    }
   ],
   "source": [
    "benimFonksiyonum()"
   ]
  },
  {
   "cell_type": "code",
   "execution_count": 10,
   "id": "357602d6-2cde-4239-9566-43c126e244f5",
   "metadata": {},
   "outputs": [
    {
     "name": "stdout",
     "output_type": "stream",
     "text": [
      "ilhan\n"
     ]
    }
   ],
   "source": [
    "print(benimAdim)"
   ]
  },
  {
   "cell_type": "code",
   "execution_count": 11,
   "id": "77354f01-c347-4ee7-946a-b848328324d0",
   "metadata": {},
   "outputs": [],
   "source": [
    "benimAdim = \"ilhan\"\n",
    "#Global degisken\n",
    "\n",
    "def benimFonksiyonum():\n",
    "    benimAdim = \"mehmet\"\n",
    "    #Enclosing\n",
    "    def icFonksiyon():\n",
    "        #benimAdim = \"ilayda\"\n",
    "        #Local\n",
    "        print(benimAdim)\n",
    "    icFonksiyon()"
   ]
  },
  {
   "cell_type": "code",
   "execution_count": 13,
   "id": "5a411700-a36e-4989-afe4-5a2b51557658",
   "metadata": {},
   "outputs": [
    {
     "name": "stdout",
     "output_type": "stream",
     "text": [
      "mehmet\n"
     ]
    }
   ],
   "source": [
    "benimFonksiyonum()"
   ]
  },
  {
   "cell_type": "code",
   "execution_count": 14,
   "id": "f66a6b81-c8fe-45b3-a32f-e392acb66053",
   "metadata": {},
   "outputs": [],
   "source": [
    "benimAdim = \"ilhan\"\n",
    "#Global degisken\n",
    "\n",
    "def benimFonksiyonum():\n",
    "    #benimAdim = \"mehmet\"\n",
    "    #Enclosing\n",
    "    def icFonksiyon():\n",
    "        #benimAdim = \"ilayda\"\n",
    "        #Local\n",
    "        print(benimAdim)\n",
    "    icFonksiyon()"
   ]
  },
  {
   "cell_type": "code",
   "execution_count": 15,
   "id": "3232e5f1-1c47-4d2f-b023-7535a7ebed75",
   "metadata": {},
   "outputs": [
    {
     "name": "stdout",
     "output_type": "stream",
     "text": [
      "ilhan\n"
     ]
    }
   ],
   "source": [
    "benimFonksiyonum()"
   ]
  },
  {
   "cell_type": "markdown",
   "id": "92514cea-885c-4db3-b40b-8fe64f4abad0",
   "metadata": {},
   "source": [
    "# Scope Sıralaması \n",
    "#     1- Local\n",
    "#     2- Enclosing\n",
    "#     3- Global\n",
    "#     4- Built-in"
   ]
  },
  {
   "cell_type": "code",
   "execution_count": 16,
   "id": "82bb9120-d9bb-4843-80a0-df3ef48a9e7e",
   "metadata": {},
   "outputs": [],
   "source": [
    "y = 10\n",
    "\n",
    "def yeniFonksiyon(y):\n",
    "    print(y)\n",
    "    y = 5\n",
    "    print(y)\n",
    "    return y"
   ]
  },
  {
   "cell_type": "code",
   "execution_count": 17,
   "id": "abec79ef-9253-4075-b3be-5235ad519d81",
   "metadata": {},
   "outputs": [
    {
     "name": "stdout",
     "output_type": "stream",
     "text": [
      "3\n",
      "5\n"
     ]
    },
    {
     "data": {
      "text/plain": [
       "5"
      ]
     },
     "execution_count": 17,
     "metadata": {},
     "output_type": "execute_result"
    }
   ],
   "source": [
    "yeniFonksiyon(3)"
   ]
  },
  {
   "cell_type": "code",
   "execution_count": 19,
   "id": "fe59bae9-0948-47ab-8079-2fc11e501473",
   "metadata": {},
   "outputs": [
    {
     "name": "stdout",
     "output_type": "stream",
     "text": [
      "10\n"
     ]
    }
   ],
   "source": [
    "print(y)"
   ]
  },
  {
   "cell_type": "code",
   "execution_count": 20,
   "id": "4bd9d019-c39c-4d5b-a7bc-ecd8342615ae",
   "metadata": {},
   "outputs": [
    {
     "name": "stdout",
     "output_type": "stream",
     "text": [
      "3\n",
      "5\n"
     ]
    }
   ],
   "source": [
    "y = yeniFonksiyon(3)      #globaldeki degiskeni degistirdik"
   ]
  },
  {
   "cell_type": "code",
   "execution_count": 21,
   "id": "7ed92fb4-5149-4df4-a600-84b3c3542a31",
   "metadata": {},
   "outputs": [
    {
     "name": "stdout",
     "output_type": "stream",
     "text": [
      "5\n"
     ]
    }
   ],
   "source": [
    "print(y)"
   ]
  },
  {
   "cell_type": "code",
   "execution_count": 26,
   "id": "2491efe3-7fde-4999-b00f-1a09f1204b8d",
   "metadata": {},
   "outputs": [],
   "source": [
    "y = 10\n",
    "\n",
    "def ornekFonksiyon():\n",
    "    global y\n",
    "    y = 5 \n",
    "    print(y)"
   ]
  },
  {
   "cell_type": "code",
   "execution_count": 23,
   "id": "8fe15a32-371f-4f78-a574-dce26ef38a7b",
   "metadata": {},
   "outputs": [
    {
     "name": "stdout",
     "output_type": "stream",
     "text": [
      "5\n"
     ]
    }
   ],
   "source": [
    "ornekFonksiyon()"
   ]
  },
  {
   "cell_type": "code",
   "execution_count": 24,
   "id": "ea100a9c-ec76-4868-86f5-58ada0018c63",
   "metadata": {},
   "outputs": [
    {
     "name": "stdout",
     "output_type": "stream",
     "text": [
      "5\n"
     ]
    }
   ],
   "source": [
    "print(y)"
   ]
  },
  {
   "cell_type": "code",
   "execution_count": null,
   "id": "fe920b4d-7e29-4ca1-9235-edef45cf126d",
   "metadata": {},
   "outputs": [],
   "source": []
  }
 ],
 "metadata": {
  "kernelspec": {
   "display_name": "Python 3 (ipykernel)",
   "language": "python",
   "name": "python3"
  },
  "language_info": {
   "codemirror_mode": {
    "name": "ipython",
    "version": 3
   },
   "file_extension": ".py",
   "mimetype": "text/x-python",
   "name": "python",
   "nbconvert_exporter": "python",
   "pygments_lexer": "ipython3",
   "version": "3.13.0"
  }
 },
 "nbformat": 4,
 "nbformat_minor": 5
}
