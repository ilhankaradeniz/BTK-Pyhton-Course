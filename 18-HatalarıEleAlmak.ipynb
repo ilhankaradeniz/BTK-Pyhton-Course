{
 "cells": [
  {
   "cell_type": "code",
   "execution_count": 2,
   "id": "43eb0ad3-6fdf-45d2-a5f7-b4e18a26d424",
   "metadata": {},
   "outputs": [],
   "source": [
    "def toplama(numara1, numara2):\n",
    "    return numara1 + numara2"
   ]
  },
  {
   "cell_type": "code",
   "execution_count": 7,
   "id": "37e1a6c7-d6a3-4635-84f6-86fe2fe23a07",
   "metadata": {},
   "outputs": [
    {
     "name": "stdin",
     "output_type": "stream",
     "text": [
      "ilk numarayi giriniz:  5\n",
      "ikinci numarayi giriniz:  5\n"
     ]
    },
    {
     "data": {
      "text/plain": [
       "10"
      ]
     },
     "execution_count": 7,
     "metadata": {},
     "output_type": "execute_result"
    }
   ],
   "source": [
    "x = int(input(\"ilk numarayi giriniz: \"))\n",
    "y = int(input(\"ikinci numarayi giriniz: \"))\n",
    "\n",
    "toplama(x, y)"
   ]
  },
  {
   "cell_type": "markdown",
   "id": "9090c93d-db00-4226-a725-183b4457dc60",
   "metadata": {},
   "source": [
    "# try & except & else & finally "
   ]
  },
  {
   "cell_type": "code",
   "execution_count": 12,
   "id": "2fad5d56-849c-4ba3-a6ac-eb5a6f2219c2",
   "metadata": {},
   "outputs": [
    {
     "name": "stdin",
     "output_type": "stream",
     "text": [
      "numaranızı giriniz: ilhan\n"
     ]
    },
    {
     "name": "stdout",
     "output_type": "stream",
     "text": [
      "lütfen numara giriniz!\n",
      "finally cagırıldı\n"
     ]
    },
    {
     "name": "stdin",
     "output_type": "stream",
     "text": [
      "numaranızı giriniz: karadeniz\n"
     ]
    },
    {
     "name": "stdout",
     "output_type": "stream",
     "text": [
      "lütfen numara giriniz!\n",
      "finally cagırıldı\n"
     ]
    },
    {
     "name": "stdin",
     "output_type": "stream",
     "text": [
      "numaranızı giriniz: 2-1\n"
     ]
    },
    {
     "name": "stdout",
     "output_type": "stream",
     "text": [
      "lütfen numara giriniz!\n",
      "finally cagırıldı\n"
     ]
    },
    {
     "name": "stdin",
     "output_type": "stream",
     "text": [
      "numaranızı giriniz: 220201006\n"
     ]
    },
    {
     "name": "stdout",
     "output_type": "stream",
     "text": [
      "Teşekkürler\n",
      "finally cagırıldı\n"
     ]
    }
   ],
   "source": [
    "while True:\n",
    "    try:\n",
    "        benimInt = int(input(\"numaranızı giriniz:\"))\n",
    "    except:\n",
    "        print(\"lütfen numara giriniz!\")\n",
    "        continue\n",
    "    else:           #try altında istedigimiz şey gerçekleşirse yazdırır\n",
    "        print(\"Teşekkürler\")\n",
    "        break\n",
    "    finally:         #daima cıktı olarak yazdırılıcak\n",
    "        print(\"finally cagırıldı\")"
   ]
  },
  {
   "cell_type": "code",
   "execution_count": null,
   "id": "585714b8-e97b-47dd-b59b-44518432577e",
   "metadata": {},
   "outputs": [],
   "source": []
  }
 ],
 "metadata": {
  "kernelspec": {
   "display_name": "Python 3 (ipykernel)",
   "language": "python",
   "name": "python3"
  },
  "language_info": {
   "codemirror_mode": {
    "name": "ipython",
    "version": 3
   },
   "file_extension": ".py",
   "mimetype": "text/x-python",
   "name": "python",
   "nbconvert_exporter": "python",
   "pygments_lexer": "ipython3",
   "version": "3.13.0"
  }
 },
 "nbformat": 4,
 "nbformat_minor": 5
}
